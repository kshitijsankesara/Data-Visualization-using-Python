{
 "cells": [
  {
   "cell_type": "markdown",
   "metadata": {},
   "source": [
    "### Visualization with Bokeh\n",
    "\n",
    "- Reference: https://www.kaggle.com/parulpandey/recreating-gapminder-visualisation-with-bokeh"
   ]
  },
  {
   "cell_type": "code",
   "execution_count": 1,
   "metadata": {},
   "outputs": [],
   "source": [
    "#Importing numpy and pandas\n",
    "\n",
    "import pandas as pd \n",
    "import numpy as np"
   ]
  },
  {
   "cell_type": "code",
   "execution_count": 2,
   "metadata": {},
   "outputs": [],
   "source": [
    "data = pd.read_csv('gapminder.tsv', delimiter='\\t',thousands=',',index_col='year')"
   ]
  },
  {
   "cell_type": "code",
   "execution_count": 3,
   "metadata": {},
   "outputs": [
    {
     "data": {
      "text/html": [
       "<div>\n",
       "<style scoped>\n",
       "    .dataframe tbody tr th:only-of-type {\n",
       "        vertical-align: middle;\n",
       "    }\n",
       "\n",
       "    .dataframe tbody tr th {\n",
       "        vertical-align: top;\n",
       "    }\n",
       "\n",
       "    .dataframe thead th {\n",
       "        text-align: right;\n",
       "    }\n",
       "</style>\n",
       "<table border=\"1\" class=\"dataframe\">\n",
       "  <thead>\n",
       "    <tr style=\"text-align: right;\">\n",
       "      <th></th>\n",
       "      <th>country</th>\n",
       "      <th>continent</th>\n",
       "      <th>lifeExp</th>\n",
       "      <th>pop</th>\n",
       "      <th>gdpPercap</th>\n",
       "    </tr>\n",
       "    <tr>\n",
       "      <th>year</th>\n",
       "      <th></th>\n",
       "      <th></th>\n",
       "      <th></th>\n",
       "      <th></th>\n",
       "      <th></th>\n",
       "    </tr>\n",
       "  </thead>\n",
       "  <tbody>\n",
       "    <tr>\n",
       "      <td>1952</td>\n",
       "      <td>Afghanistan</td>\n",
       "      <td>Asia</td>\n",
       "      <td>28.801</td>\n",
       "      <td>8425333</td>\n",
       "      <td>779.445314</td>\n",
       "    </tr>\n",
       "    <tr>\n",
       "      <td>1957</td>\n",
       "      <td>Afghanistan</td>\n",
       "      <td>Asia</td>\n",
       "      <td>30.332</td>\n",
       "      <td>9240934</td>\n",
       "      <td>820.853030</td>\n",
       "    </tr>\n",
       "    <tr>\n",
       "      <td>1962</td>\n",
       "      <td>Afghanistan</td>\n",
       "      <td>Asia</td>\n",
       "      <td>31.997</td>\n",
       "      <td>10267083</td>\n",
       "      <td>853.100710</td>\n",
       "    </tr>\n",
       "    <tr>\n",
       "      <td>1967</td>\n",
       "      <td>Afghanistan</td>\n",
       "      <td>Asia</td>\n",
       "      <td>34.020</td>\n",
       "      <td>11537966</td>\n",
       "      <td>836.197138</td>\n",
       "    </tr>\n",
       "    <tr>\n",
       "      <td>1972</td>\n",
       "      <td>Afghanistan</td>\n",
       "      <td>Asia</td>\n",
       "      <td>36.088</td>\n",
       "      <td>13079460</td>\n",
       "      <td>739.981106</td>\n",
       "    </tr>\n",
       "  </tbody>\n",
       "</table>\n",
       "</div>"
      ],
      "text/plain": [
       "          country continent  lifeExp       pop   gdpPercap\n",
       "year                                                      \n",
       "1952  Afghanistan      Asia   28.801   8425333  779.445314\n",
       "1957  Afghanistan      Asia   30.332   9240934  820.853030\n",
       "1962  Afghanistan      Asia   31.997  10267083  853.100710\n",
       "1967  Afghanistan      Asia   34.020  11537966  836.197138\n",
       "1972  Afghanistan      Asia   36.088  13079460  739.981106"
      ]
     },
     "execution_count": 3,
     "metadata": {},
     "output_type": "execute_result"
    }
   ],
   "source": [
    "data.head()"
   ]
  },
  {
   "cell_type": "code",
   "execution_count": 4,
   "metadata": {},
   "outputs": [
    {
     "data": {
      "text/html": [
       "<div>\n",
       "<style scoped>\n",
       "    .dataframe tbody tr th:only-of-type {\n",
       "        vertical-align: middle;\n",
       "    }\n",
       "\n",
       "    .dataframe tbody tr th {\n",
       "        vertical-align: top;\n",
       "    }\n",
       "\n",
       "    .dataframe thead th {\n",
       "        text-align: right;\n",
       "    }\n",
       "</style>\n",
       "<table border=\"1\" class=\"dataframe\">\n",
       "  <thead>\n",
       "    <tr style=\"text-align: right;\">\n",
       "      <th></th>\n",
       "      <th>country</th>\n",
       "      <th>continent</th>\n",
       "      <th>lifeExp</th>\n",
       "      <th>population</th>\n",
       "      <th>gdpPercap</th>\n",
       "    </tr>\n",
       "    <tr>\n",
       "      <th>year</th>\n",
       "      <th></th>\n",
       "      <th></th>\n",
       "      <th></th>\n",
       "      <th></th>\n",
       "      <th></th>\n",
       "    </tr>\n",
       "  </thead>\n",
       "  <tbody>\n",
       "    <tr>\n",
       "      <td>1952</td>\n",
       "      <td>Afghanistan</td>\n",
       "      <td>Asia</td>\n",
       "      <td>28.801</td>\n",
       "      <td>8425333</td>\n",
       "      <td>779.445314</td>\n",
       "    </tr>\n",
       "    <tr>\n",
       "      <td>1957</td>\n",
       "      <td>Afghanistan</td>\n",
       "      <td>Asia</td>\n",
       "      <td>30.332</td>\n",
       "      <td>9240934</td>\n",
       "      <td>820.853030</td>\n",
       "    </tr>\n",
       "    <tr>\n",
       "      <td>1962</td>\n",
       "      <td>Afghanistan</td>\n",
       "      <td>Asia</td>\n",
       "      <td>31.997</td>\n",
       "      <td>10267083</td>\n",
       "      <td>853.100710</td>\n",
       "    </tr>\n",
       "    <tr>\n",
       "      <td>1967</td>\n",
       "      <td>Afghanistan</td>\n",
       "      <td>Asia</td>\n",
       "      <td>34.020</td>\n",
       "      <td>11537966</td>\n",
       "      <td>836.197138</td>\n",
       "    </tr>\n",
       "    <tr>\n",
       "      <td>1972</td>\n",
       "      <td>Afghanistan</td>\n",
       "      <td>Asia</td>\n",
       "      <td>36.088</td>\n",
       "      <td>13079460</td>\n",
       "      <td>739.981106</td>\n",
       "    </tr>\n",
       "  </tbody>\n",
       "</table>\n",
       "</div>"
      ],
      "text/plain": [
       "          country continent  lifeExp  population   gdpPercap\n",
       "year                                                        \n",
       "1952  Afghanistan      Asia   28.801     8425333  779.445314\n",
       "1957  Afghanistan      Asia   30.332     9240934  820.853030\n",
       "1962  Afghanistan      Asia   31.997    10267083  853.100710\n",
       "1967  Afghanistan      Asia   34.020    11537966  836.197138\n",
       "1972  Afghanistan      Asia   36.088    13079460  739.981106"
      ]
     },
     "execution_count": 4,
     "metadata": {},
     "output_type": "execute_result"
    }
   ],
   "source": [
    "data = data.rename(columns={'pop':'population'});\n",
    "data.head()"
   ]
  },
  {
   "cell_type": "code",
   "execution_count": 5,
   "metadata": {},
   "outputs": [
    {
     "data": {
      "text/html": [
       "\n",
       "    <div class=\"bk-root\">\n",
       "        <a href=\"https://bokeh.pydata.org\" target=\"_blank\" class=\"bk-logo bk-logo-small bk-logo-notebook\"></a>\n",
       "        <span id=\"97f45a00-9ae8-4eaf-9ddd-bca9673730fd\">Loading BokehJS ...</span>\n",
       "    </div>"
      ]
     },
     "metadata": {},
     "output_type": "display_data"
    },
    {
     "data": {
      "application/javascript": [
       "\n",
       "(function(root) {\n",
       "  function now() {\n",
       "    return new Date();\n",
       "  }\n",
       "\n",
       "  var force = true;\n",
       "\n",
       "  if (typeof (root._bokeh_onload_callbacks) === \"undefined\" || force === true) {\n",
       "    root._bokeh_onload_callbacks = [];\n",
       "    root._bokeh_is_loading = undefined;\n",
       "  }\n",
       "\n",
       "  var JS_MIME_TYPE = 'application/javascript';\n",
       "  var HTML_MIME_TYPE = 'text/html';\n",
       "  var EXEC_MIME_TYPE = 'application/vnd.bokehjs_exec.v0+json';\n",
       "  var CLASS_NAME = 'output_bokeh rendered_html';\n",
       "\n",
       "  /**\n",
       "   * Render data to the DOM node\n",
       "   */\n",
       "  function render(props, node) {\n",
       "    var script = document.createElement(\"script\");\n",
       "    node.appendChild(script);\n",
       "  }\n",
       "\n",
       "  /**\n",
       "   * Handle when an output is cleared or removed\n",
       "   */\n",
       "  function handleClearOutput(event, handle) {\n",
       "    var cell = handle.cell;\n",
       "\n",
       "    var id = cell.output_area._bokeh_element_id;\n",
       "    var server_id = cell.output_area._bokeh_server_id;\n",
       "    // Clean up Bokeh references\n",
       "    if (id !== undefined) {\n",
       "      Bokeh.index[id].model.document.clear();\n",
       "      delete Bokeh.index[id];\n",
       "    }\n",
       "\n",
       "    if (server_id !== undefined) {\n",
       "      // Clean up Bokeh references\n",
       "      var cmd = \"from bokeh.io.state import curstate; print(curstate().uuid_to_server['\" + server_id + \"'].get_sessions()[0].document.roots[0]._id)\";\n",
       "      cell.notebook.kernel.execute(cmd, {\n",
       "        iopub: {\n",
       "          output: function(msg) {\n",
       "            var element_id = msg.content.text.trim();\n",
       "            Bokeh.index[element_id].model.document.clear();\n",
       "            delete Bokeh.index[element_id];\n",
       "          }\n",
       "        }\n",
       "      });\n",
       "      // Destroy server and session\n",
       "      var cmd = \"import bokeh.io.notebook as ion; ion.destroy_server('\" + server_id + \"')\";\n",
       "      cell.notebook.kernel.execute(cmd);\n",
       "    }\n",
       "  }\n",
       "\n",
       "  /**\n",
       "   * Handle when a new output is added\n",
       "   */\n",
       "  function handleAddOutput(event, handle) {\n",
       "    var output_area = handle.output_area;\n",
       "    var output = handle.output;\n",
       "\n",
       "    // limit handleAddOutput to display_data with EXEC_MIME_TYPE content only\n",
       "    if ((output.output_type != \"display_data\") || (!output.data.hasOwnProperty(EXEC_MIME_TYPE))) {\n",
       "      return\n",
       "    }\n",
       "\n",
       "    var toinsert = output_area.element.find(\".\" + CLASS_NAME.split(' ')[0]);\n",
       "\n",
       "    if (output.metadata[EXEC_MIME_TYPE][\"id\"] !== undefined) {\n",
       "      toinsert[0].firstChild.textContent = output.data[JS_MIME_TYPE];\n",
       "      // store reference to embed id on output_area\n",
       "      output_area._bokeh_element_id = output.metadata[EXEC_MIME_TYPE][\"id\"];\n",
       "    }\n",
       "    if (output.metadata[EXEC_MIME_TYPE][\"server_id\"] !== undefined) {\n",
       "      var bk_div = document.createElement(\"div\");\n",
       "      bk_div.innerHTML = output.data[HTML_MIME_TYPE];\n",
       "      var script_attrs = bk_div.children[0].attributes;\n",
       "      for (var i = 0; i < script_attrs.length; i++) {\n",
       "        toinsert[0].firstChild.setAttribute(script_attrs[i].name, script_attrs[i].value);\n",
       "      }\n",
       "      // store reference to server id on output_area\n",
       "      output_area._bokeh_server_id = output.metadata[EXEC_MIME_TYPE][\"server_id\"];\n",
       "    }\n",
       "  }\n",
       "\n",
       "  function register_renderer(events, OutputArea) {\n",
       "\n",
       "    function append_mime(data, metadata, element) {\n",
       "      // create a DOM node to render to\n",
       "      var toinsert = this.create_output_subarea(\n",
       "        metadata,\n",
       "        CLASS_NAME,\n",
       "        EXEC_MIME_TYPE\n",
       "      );\n",
       "      this.keyboard_manager.register_events(toinsert);\n",
       "      // Render to node\n",
       "      var props = {data: data, metadata: metadata[EXEC_MIME_TYPE]};\n",
       "      render(props, toinsert[0]);\n",
       "      element.append(toinsert);\n",
       "      return toinsert\n",
       "    }\n",
       "\n",
       "    /* Handle when an output is cleared or removed */\n",
       "    events.on('clear_output.CodeCell', handleClearOutput);\n",
       "    events.on('delete.Cell', handleClearOutput);\n",
       "\n",
       "    /* Handle when a new output is added */\n",
       "    events.on('output_added.OutputArea', handleAddOutput);\n",
       "\n",
       "    /**\n",
       "     * Register the mime type and append_mime function with output_area\n",
       "     */\n",
       "    OutputArea.prototype.register_mime_type(EXEC_MIME_TYPE, append_mime, {\n",
       "      /* Is output safe? */\n",
       "      safe: true,\n",
       "      /* Index of renderer in `output_area.display_order` */\n",
       "      index: 0\n",
       "    });\n",
       "  }\n",
       "\n",
       "  // register the mime type if in Jupyter Notebook environment and previously unregistered\n",
       "  if (root.Jupyter !== undefined) {\n",
       "    var events = require('base/js/events');\n",
       "    var OutputArea = require('notebook/js/outputarea').OutputArea;\n",
       "\n",
       "    if (OutputArea.prototype.mime_types().indexOf(EXEC_MIME_TYPE) == -1) {\n",
       "      register_renderer(events, OutputArea);\n",
       "    }\n",
       "  }\n",
       "\n",
       "  \n",
       "  if (typeof (root._bokeh_timeout) === \"undefined\" || force === true) {\n",
       "    root._bokeh_timeout = Date.now() + 5000;\n",
       "    root._bokeh_failed_load = false;\n",
       "  }\n",
       "\n",
       "  var NB_LOAD_WARNING = {'data': {'text/html':\n",
       "     \"<div style='background-color: #fdd'>\\n\"+\n",
       "     \"<p>\\n\"+\n",
       "     \"BokehJS does not appear to have successfully loaded. If loading BokehJS from CDN, this \\n\"+\n",
       "     \"may be due to a slow or bad network connection. Possible fixes:\\n\"+\n",
       "     \"</p>\\n\"+\n",
       "     \"<ul>\\n\"+\n",
       "     \"<li>re-rerun `output_notebook()` to attempt to load from CDN again, or</li>\\n\"+\n",
       "     \"<li>use INLINE resources instead, as so:</li>\\n\"+\n",
       "     \"</ul>\\n\"+\n",
       "     \"<code>\\n\"+\n",
       "     \"from bokeh.resources import INLINE\\n\"+\n",
       "     \"output_notebook(resources=INLINE)\\n\"+\n",
       "     \"</code>\\n\"+\n",
       "     \"</div>\"}};\n",
       "\n",
       "  function display_loaded() {\n",
       "    var el = document.getElementById(\"97f45a00-9ae8-4eaf-9ddd-bca9673730fd\");\n",
       "    if (el != null) {\n",
       "      el.textContent = \"BokehJS is loading...\";\n",
       "    }\n",
       "    if (root.Bokeh !== undefined) {\n",
       "      if (el != null) {\n",
       "        el.textContent = \"BokehJS \" + root.Bokeh.version + \" successfully loaded.\";\n",
       "      }\n",
       "    } else if (Date.now() < root._bokeh_timeout) {\n",
       "      setTimeout(display_loaded, 100)\n",
       "    }\n",
       "  }\n",
       "\n",
       "\n",
       "  function run_callbacks() {\n",
       "    try {\n",
       "      root._bokeh_onload_callbacks.forEach(function(callback) { callback() });\n",
       "    }\n",
       "    finally {\n",
       "      delete root._bokeh_onload_callbacks\n",
       "    }\n",
       "    console.info(\"Bokeh: all callbacks have finished\");\n",
       "  }\n",
       "\n",
       "  function load_libs(js_urls, callback) {\n",
       "    root._bokeh_onload_callbacks.push(callback);\n",
       "    if (root._bokeh_is_loading > 0) {\n",
       "      console.log(\"Bokeh: BokehJS is being loaded, scheduling callback at\", now());\n",
       "      return null;\n",
       "    }\n",
       "    if (js_urls == null || js_urls.length === 0) {\n",
       "      run_callbacks();\n",
       "      return null;\n",
       "    }\n",
       "    console.log(\"Bokeh: BokehJS not loaded, scheduling load and callback at\", now());\n",
       "    root._bokeh_is_loading = js_urls.length;\n",
       "    for (var i = 0; i < js_urls.length; i++) {\n",
       "      var url = js_urls[i];\n",
       "      var s = document.createElement('script');\n",
       "      s.src = url;\n",
       "      s.async = false;\n",
       "      s.onreadystatechange = s.onload = function() {\n",
       "        root._bokeh_is_loading--;\n",
       "        if (root._bokeh_is_loading === 0) {\n",
       "          console.log(\"Bokeh: all BokehJS libraries loaded\");\n",
       "          run_callbacks()\n",
       "        }\n",
       "      };\n",
       "      s.onerror = function() {\n",
       "        console.warn(\"failed to load library \" + url);\n",
       "      };\n",
       "      console.log(\"Bokeh: injecting script tag for BokehJS library: \", url);\n",
       "      document.getElementsByTagName(\"head\")[0].appendChild(s);\n",
       "    }\n",
       "  };var element = document.getElementById(\"97f45a00-9ae8-4eaf-9ddd-bca9673730fd\");\n",
       "  if (element == null) {\n",
       "    console.log(\"Bokeh: ERROR: autoload.js configured with elementid '97f45a00-9ae8-4eaf-9ddd-bca9673730fd' but no matching script tag was found. \")\n",
       "    return false;\n",
       "  }\n",
       "\n",
       "  var js_urls = [\"https://cdn.pydata.org/bokeh/release/bokeh-0.12.13.min.js\", \"https://cdn.pydata.org/bokeh/release/bokeh-widgets-0.12.13.min.js\", \"https://cdn.pydata.org/bokeh/release/bokeh-tables-0.12.13.min.js\", \"https://cdn.pydata.org/bokeh/release/bokeh-gl-0.12.13.min.js\"];\n",
       "\n",
       "  var inline_js = [\n",
       "    function(Bokeh) {\n",
       "      Bokeh.set_log_level(\"info\");\n",
       "    },\n",
       "    \n",
       "    function(Bokeh) {\n",
       "      \n",
       "    },\n",
       "    function(Bokeh) {\n",
       "      console.log(\"Bokeh: injecting CSS: https://cdn.pydata.org/bokeh/release/bokeh-0.12.13.min.css\");\n",
       "      Bokeh.embed.inject_css(\"https://cdn.pydata.org/bokeh/release/bokeh-0.12.13.min.css\");\n",
       "      console.log(\"Bokeh: injecting CSS: https://cdn.pydata.org/bokeh/release/bokeh-widgets-0.12.13.min.css\");\n",
       "      Bokeh.embed.inject_css(\"https://cdn.pydata.org/bokeh/release/bokeh-widgets-0.12.13.min.css\");\n",
       "      console.log(\"Bokeh: injecting CSS: https://cdn.pydata.org/bokeh/release/bokeh-tables-0.12.13.min.css\");\n",
       "      Bokeh.embed.inject_css(\"https://cdn.pydata.org/bokeh/release/bokeh-tables-0.12.13.min.css\");\n",
       "    }\n",
       "  ];\n",
       "\n",
       "  function run_inline_js() {\n",
       "    \n",
       "    if ((root.Bokeh !== undefined) || (force === true)) {\n",
       "      for (var i = 0; i < inline_js.length; i++) {\n",
       "        inline_js[i].call(root, root.Bokeh);\n",
       "      }if (force === true) {\n",
       "        display_loaded();\n",
       "      }} else if (Date.now() < root._bokeh_timeout) {\n",
       "      setTimeout(run_inline_js, 100);\n",
       "    } else if (!root._bokeh_failed_load) {\n",
       "      console.log(\"Bokeh: BokehJS failed to load within specified timeout.\");\n",
       "      root._bokeh_failed_load = true;\n",
       "    } else if (force !== true) {\n",
       "      var cell = $(document.getElementById(\"97f45a00-9ae8-4eaf-9ddd-bca9673730fd\")).parents('.cell').data().cell;\n",
       "      cell.output_area.append_execute_result(NB_LOAD_WARNING)\n",
       "    }\n",
       "\n",
       "  }\n",
       "\n",
       "  if (root._bokeh_is_loading === 0) {\n",
       "    console.log(\"Bokeh: BokehJS loaded, going straight to plotting\");\n",
       "    run_inline_js();\n",
       "  } else {\n",
       "    load_libs(js_urls, function() {\n",
       "      console.log(\"Bokeh: BokehJS plotting callback run at\", now());\n",
       "      run_inline_js();\n",
       "    });\n",
       "  }\n",
       "}(window));"
      ],
      "application/vnd.bokehjs_load.v0+json": "\n(function(root) {\n  function now() {\n    return new Date();\n  }\n\n  var force = true;\n\n  if (typeof (root._bokeh_onload_callbacks) === \"undefined\" || force === true) {\n    root._bokeh_onload_callbacks = [];\n    root._bokeh_is_loading = undefined;\n  }\n\n  \n\n  \n  if (typeof (root._bokeh_timeout) === \"undefined\" || force === true) {\n    root._bokeh_timeout = Date.now() + 5000;\n    root._bokeh_failed_load = false;\n  }\n\n  var NB_LOAD_WARNING = {'data': {'text/html':\n     \"<div style='background-color: #fdd'>\\n\"+\n     \"<p>\\n\"+\n     \"BokehJS does not appear to have successfully loaded. If loading BokehJS from CDN, this \\n\"+\n     \"may be due to a slow or bad network connection. Possible fixes:\\n\"+\n     \"</p>\\n\"+\n     \"<ul>\\n\"+\n     \"<li>re-rerun `output_notebook()` to attempt to load from CDN again, or</li>\\n\"+\n     \"<li>use INLINE resources instead, as so:</li>\\n\"+\n     \"</ul>\\n\"+\n     \"<code>\\n\"+\n     \"from bokeh.resources import INLINE\\n\"+\n     \"output_notebook(resources=INLINE)\\n\"+\n     \"</code>\\n\"+\n     \"</div>\"}};\n\n  function display_loaded() {\n    var el = document.getElementById(\"97f45a00-9ae8-4eaf-9ddd-bca9673730fd\");\n    if (el != null) {\n      el.textContent = \"BokehJS is loading...\";\n    }\n    if (root.Bokeh !== undefined) {\n      if (el != null) {\n        el.textContent = \"BokehJS \" + root.Bokeh.version + \" successfully loaded.\";\n      }\n    } else if (Date.now() < root._bokeh_timeout) {\n      setTimeout(display_loaded, 100)\n    }\n  }\n\n\n  function run_callbacks() {\n    try {\n      root._bokeh_onload_callbacks.forEach(function(callback) { callback() });\n    }\n    finally {\n      delete root._bokeh_onload_callbacks\n    }\n    console.info(\"Bokeh: all callbacks have finished\");\n  }\n\n  function load_libs(js_urls, callback) {\n    root._bokeh_onload_callbacks.push(callback);\n    if (root._bokeh_is_loading > 0) {\n      console.log(\"Bokeh: BokehJS is being loaded, scheduling callback at\", now());\n      return null;\n    }\n    if (js_urls == null || js_urls.length === 0) {\n      run_callbacks();\n      return null;\n    }\n    console.log(\"Bokeh: BokehJS not loaded, scheduling load and callback at\", now());\n    root._bokeh_is_loading = js_urls.length;\n    for (var i = 0; i < js_urls.length; i++) {\n      var url = js_urls[i];\n      var s = document.createElement('script');\n      s.src = url;\n      s.async = false;\n      s.onreadystatechange = s.onload = function() {\n        root._bokeh_is_loading--;\n        if (root._bokeh_is_loading === 0) {\n          console.log(\"Bokeh: all BokehJS libraries loaded\");\n          run_callbacks()\n        }\n      };\n      s.onerror = function() {\n        console.warn(\"failed to load library \" + url);\n      };\n      console.log(\"Bokeh: injecting script tag for BokehJS library: \", url);\n      document.getElementsByTagName(\"head\")[0].appendChild(s);\n    }\n  };var element = document.getElementById(\"97f45a00-9ae8-4eaf-9ddd-bca9673730fd\");\n  if (element == null) {\n    console.log(\"Bokeh: ERROR: autoload.js configured with elementid '97f45a00-9ae8-4eaf-9ddd-bca9673730fd' but no matching script tag was found. \")\n    return false;\n  }\n\n  var js_urls = [\"https://cdn.pydata.org/bokeh/release/bokeh-0.12.13.min.js\", \"https://cdn.pydata.org/bokeh/release/bokeh-widgets-0.12.13.min.js\", \"https://cdn.pydata.org/bokeh/release/bokeh-tables-0.12.13.min.js\", \"https://cdn.pydata.org/bokeh/release/bokeh-gl-0.12.13.min.js\"];\n\n  var inline_js = [\n    function(Bokeh) {\n      Bokeh.set_log_level(\"info\");\n    },\n    \n    function(Bokeh) {\n      \n    },\n    function(Bokeh) {\n      console.log(\"Bokeh: injecting CSS: https://cdn.pydata.org/bokeh/release/bokeh-0.12.13.min.css\");\n      Bokeh.embed.inject_css(\"https://cdn.pydata.org/bokeh/release/bokeh-0.12.13.min.css\");\n      console.log(\"Bokeh: injecting CSS: https://cdn.pydata.org/bokeh/release/bokeh-widgets-0.12.13.min.css\");\n      Bokeh.embed.inject_css(\"https://cdn.pydata.org/bokeh/release/bokeh-widgets-0.12.13.min.css\");\n      console.log(\"Bokeh: injecting CSS: https://cdn.pydata.org/bokeh/release/bokeh-tables-0.12.13.min.css\");\n      Bokeh.embed.inject_css(\"https://cdn.pydata.org/bokeh/release/bokeh-tables-0.12.13.min.css\");\n    }\n  ];\n\n  function run_inline_js() {\n    \n    if ((root.Bokeh !== undefined) || (force === true)) {\n      for (var i = 0; i < inline_js.length; i++) {\n        inline_js[i].call(root, root.Bokeh);\n      }if (force === true) {\n        display_loaded();\n      }} else if (Date.now() < root._bokeh_timeout) {\n      setTimeout(run_inline_js, 100);\n    } else if (!root._bokeh_failed_load) {\n      console.log(\"Bokeh: BokehJS failed to load within specified timeout.\");\n      root._bokeh_failed_load = true;\n    } else if (force !== true) {\n      var cell = $(document.getElementById(\"97f45a00-9ae8-4eaf-9ddd-bca9673730fd\")).parents('.cell').data().cell;\n      cell.output_area.append_execute_result(NB_LOAD_WARNING)\n    }\n\n  }\n\n  if (root._bokeh_is_loading === 0) {\n    console.log(\"Bokeh: BokehJS loaded, going straight to plotting\");\n    run_inline_js();\n  } else {\n    load_libs(js_urls, function() {\n      console.log(\"Bokeh: BokehJS plotting callback run at\", now());\n      run_inline_js();\n    });\n  }\n}(window));"
     },
     "metadata": {},
     "output_type": "display_data"
    }
   ],
   "source": [
    "from bokeh.io import output_notebook, output_file\n",
    "\n",
    "output_notebook()  # Render inline in a Jupyter Notebook or\n",
    "#output_file('filename.html')  # Render to static HTML"
   ]
  },
  {
   "cell_type": "code",
   "execution_count": 6,
   "metadata": {},
   "outputs": [
    {
     "name": "stderr",
     "output_type": "stream",
     "text": [
      "W-1001 (NO_DATA_RENDERERS): Plot has no data renderers: Figure(id='ce8b5ff3-6f20-4b69-b347-0c9f1499e086', ...)\n"
     ]
    },
    {
     "data": {
      "text/html": [
       "\n",
       "<div class=\"bk-root\">\n",
       "    <div class=\"bk-plotdiv\" id=\"f1dc7520-9fe8-4f15-92ee-147c8b1d24f2\"></div>\n",
       "</div>"
      ]
     },
     "metadata": {},
     "output_type": "display_data"
    },
    {
     "data": {
      "application/javascript": [
       "(function(root) {\n",
       "  function embed_document(root) {\n",
       "    \n",
       "  var docs_json = {\"2b43edf1-fd79-42c9-b045-08204cb009f3\":{\"roots\":{\"references\":[{\"attributes\":{},\"id\":\"3471abf7-7fb9-44f8-919f-29c96b10c61d\",\"type\":\"BasicTicker\"},{\"attributes\":{},\"id\":\"8f0cf927-2f04-45c2-ac69-d68f38462ed8\",\"type\":\"BasicTicker\"},{\"attributes\":{},\"id\":\"cbde274a-c0b0-48a2-9a8e-386864417267\",\"type\":\"BasicTickFormatter\"},{\"attributes\":{},\"id\":\"53fff88a-0c0d-4415-9ad0-9f174f8ff396\",\"type\":\"LinearScale\"},{\"attributes\":{\"plot\":null,\"text\":\"\"},\"id\":\"788bbce1-9c6a-4115-8e2c-5ad1da17a9c2\",\"type\":\"Title\"},{\"attributes\":{},\"id\":\"599f8f9f-679d-4aaa-a4b9-cbc3b34acf35\",\"type\":\"PanTool\"},{\"attributes\":{\"below\":[{\"id\":\"6dfc6e5d-4586-41b1-adf4-490f1d39f3f8\",\"type\":\"LinearAxis\"}],\"left\":[{\"id\":\"bae0224b-4b71-4aa6-8ab4-f183170ca696\",\"type\":\"LinearAxis\"}],\"renderers\":[{\"id\":\"6dfc6e5d-4586-41b1-adf4-490f1d39f3f8\",\"type\":\"LinearAxis\"},{\"id\":\"015b3145-2470-4c03-9bd0-4d8aacbc1c09\",\"type\":\"Grid\"},{\"id\":\"bae0224b-4b71-4aa6-8ab4-f183170ca696\",\"type\":\"LinearAxis\"},{\"id\":\"6660723b-3799-4b3c-9d84-4777e4e5e26a\",\"type\":\"Grid\"},{\"id\":\"b76b3a20-0776-40e7-8419-1a7248010f00\",\"type\":\"BoxAnnotation\"}],\"title\":{\"id\":\"788bbce1-9c6a-4115-8e2c-5ad1da17a9c2\",\"type\":\"Title\"},\"toolbar\":{\"id\":\"3476a496-5dfe-43d5-9b04-9fa886290d14\",\"type\":\"Toolbar\"},\"x_range\":{\"id\":\"0f0121d5-4f5e-4a8d-ba14-60752bf08f9d\",\"type\":\"DataRange1d\"},\"x_scale\":{\"id\":\"53fff88a-0c0d-4415-9ad0-9f174f8ff396\",\"type\":\"LinearScale\"},\"y_range\":{\"id\":\"cd7712d4-44c4-49b7-b1d3-5fd32e24dd1b\",\"type\":\"DataRange1d\"},\"y_scale\":{\"id\":\"132ba429-d1ac-4def-aff8-0d23371ef2a9\",\"type\":\"LinearScale\"}},\"id\":\"ce8b5ff3-6f20-4b69-b347-0c9f1499e086\",\"subtype\":\"Figure\",\"type\":\"Plot\"},{\"attributes\":{},\"id\":\"c3250345-7883-4fdd-a217-83640a0e7c50\",\"type\":\"WheelZoomTool\"},{\"attributes\":{},\"id\":\"132ba429-d1ac-4def-aff8-0d23371ef2a9\",\"type\":\"LinearScale\"},{\"attributes\":{\"overlay\":{\"id\":\"b76b3a20-0776-40e7-8419-1a7248010f00\",\"type\":\"BoxAnnotation\"}},\"id\":\"2594a963-22af-41a4-871d-f900714e7746\",\"type\":\"BoxZoomTool\"},{\"attributes\":{\"formatter\":{\"id\":\"cbde274a-c0b0-48a2-9a8e-386864417267\",\"type\":\"BasicTickFormatter\"},\"plot\":{\"id\":\"ce8b5ff3-6f20-4b69-b347-0c9f1499e086\",\"subtype\":\"Figure\",\"type\":\"Plot\"},\"ticker\":{\"id\":\"3471abf7-7fb9-44f8-919f-29c96b10c61d\",\"type\":\"BasicTicker\"}},\"id\":\"6dfc6e5d-4586-41b1-adf4-490f1d39f3f8\",\"type\":\"LinearAxis\"},{\"attributes\":{},\"id\":\"176db4e9-a45f-432f-add2-c1b0032138a8\",\"type\":\"SaveTool\"},{\"attributes\":{\"active_drag\":\"auto\",\"active_inspect\":\"auto\",\"active_scroll\":\"auto\",\"active_tap\":\"auto\",\"tools\":[{\"id\":\"599f8f9f-679d-4aaa-a4b9-cbc3b34acf35\",\"type\":\"PanTool\"},{\"id\":\"c3250345-7883-4fdd-a217-83640a0e7c50\",\"type\":\"WheelZoomTool\"},{\"id\":\"2594a963-22af-41a4-871d-f900714e7746\",\"type\":\"BoxZoomTool\"},{\"id\":\"176db4e9-a45f-432f-add2-c1b0032138a8\",\"type\":\"SaveTool\"},{\"id\":\"a36658ac-bb89-4faa-91cf-c6725a963599\",\"type\":\"ResetTool\"},{\"id\":\"e7133f88-20a5-418d-8b82-afa7df2cc866\",\"type\":\"HelpTool\"}]},\"id\":\"3476a496-5dfe-43d5-9b04-9fa886290d14\",\"type\":\"Toolbar\"},{\"attributes\":{},\"id\":\"a36658ac-bb89-4faa-91cf-c6725a963599\",\"type\":\"ResetTool\"},{\"attributes\":{\"formatter\":{\"id\":\"842ff9bf-4f04-4b3d-9542-3f8aeed1f112\",\"type\":\"BasicTickFormatter\"},\"plot\":{\"id\":\"ce8b5ff3-6f20-4b69-b347-0c9f1499e086\",\"subtype\":\"Figure\",\"type\":\"Plot\"},\"ticker\":{\"id\":\"8f0cf927-2f04-45c2-ac69-d68f38462ed8\",\"type\":\"BasicTicker\"}},\"id\":\"bae0224b-4b71-4aa6-8ab4-f183170ca696\",\"type\":\"LinearAxis\"},{\"attributes\":{\"callback\":null},\"id\":\"0f0121d5-4f5e-4a8d-ba14-60752bf08f9d\",\"type\":\"DataRange1d\"},{\"attributes\":{},\"id\":\"e7133f88-20a5-418d-8b82-afa7df2cc866\",\"type\":\"HelpTool\"},{\"attributes\":{\"dimension\":1,\"plot\":{\"id\":\"ce8b5ff3-6f20-4b69-b347-0c9f1499e086\",\"subtype\":\"Figure\",\"type\":\"Plot\"},\"ticker\":{\"id\":\"8f0cf927-2f04-45c2-ac69-d68f38462ed8\",\"type\":\"BasicTicker\"}},\"id\":\"6660723b-3799-4b3c-9d84-4777e4e5e26a\",\"type\":\"Grid\"},{\"attributes\":{\"callback\":null},\"id\":\"cd7712d4-44c4-49b7-b1d3-5fd32e24dd1b\",\"type\":\"DataRange1d\"},{\"attributes\":{\"plot\":{\"id\":\"ce8b5ff3-6f20-4b69-b347-0c9f1499e086\",\"subtype\":\"Figure\",\"type\":\"Plot\"},\"ticker\":{\"id\":\"3471abf7-7fb9-44f8-919f-29c96b10c61d\",\"type\":\"BasicTicker\"}},\"id\":\"015b3145-2470-4c03-9bd0-4d8aacbc1c09\",\"type\":\"Grid\"},{\"attributes\":{\"bottom_units\":\"screen\",\"fill_alpha\":{\"value\":0.5},\"fill_color\":{\"value\":\"lightgrey\"},\"left_units\":\"screen\",\"level\":\"overlay\",\"line_alpha\":{\"value\":1.0},\"line_color\":{\"value\":\"black\"},\"line_dash\":[4,4],\"line_width\":{\"value\":2},\"plot\":null,\"render_mode\":\"css\",\"right_units\":\"screen\",\"top_units\":\"screen\"},\"id\":\"b76b3a20-0776-40e7-8419-1a7248010f00\",\"type\":\"BoxAnnotation\"},{\"attributes\":{},\"id\":\"842ff9bf-4f04-4b3d-9542-3f8aeed1f112\",\"type\":\"BasicTickFormatter\"}],\"root_ids\":[\"ce8b5ff3-6f20-4b69-b347-0c9f1499e086\"]},\"title\":\"Bokeh Application\",\"version\":\"0.12.13\"}};\n",
       "  var render_items = [{\"docid\":\"2b43edf1-fd79-42c9-b045-08204cb009f3\",\"elementid\":\"f1dc7520-9fe8-4f15-92ee-147c8b1d24f2\",\"modelid\":\"ce8b5ff3-6f20-4b69-b347-0c9f1499e086\"}];\n",
       "  root.Bokeh.embed.embed_items_notebook(docs_json, render_items);\n",
       "\n",
       "  }\n",
       "  if (root.Bokeh !== undefined) {\n",
       "    embed_document(root);\n",
       "  } else {\n",
       "    var attempts = 0;\n",
       "    var timer = setInterval(function(root) {\n",
       "      if (root.Bokeh !== undefined) {\n",
       "        embed_document(root);\n",
       "        clearInterval(timer);\n",
       "      }\n",
       "      attempts++;\n",
       "      if (attempts > 100) {\n",
       "        console.log(\"Bokeh: ERROR: Unable to run BokehJS code because BokehJS library is missing\")\n",
       "        clearInterval(timer);\n",
       "      }\n",
       "    }, 10, root)\n",
       "  }\n",
       "})(window);"
      ],
      "application/vnd.bokehjs_exec.v0+json": ""
     },
     "metadata": {
      "application/vnd.bokehjs_exec.v0+json": {
       "id": "ce8b5ff3-6f20-4b69-b347-0c9f1499e086"
      }
     },
     "output_type": "display_data"
    }
   ],
   "source": [
    "from bokeh.io import show\n",
    "from bokeh.plotting import figure\n",
    "\n",
    "# Set up a generic figure() object\n",
    "fig = figure()\n",
    "\n",
    "# See what it looks like\n",
    "show(fig)"
   ]
  },
  {
   "cell_type": "code",
   "execution_count": 7,
   "metadata": {},
   "outputs": [
    {
     "name": "stderr",
     "output_type": "stream",
     "text": [
      "W-1001 (NO_DATA_RENDERERS): Plot has no data renderers: Figure(id='51574be3-bd72-47bf-8424-73d7f7f16ccf', ...)\n"
     ]
    },
    {
     "data": {
      "text/html": [
       "\n",
       "<div class=\"bk-root\">\n",
       "    <div class=\"bk-plotdiv\" id=\"3c79031a-ae3e-44e4-ac11-85befe6dcada\"></div>\n",
       "</div>"
      ]
     },
     "metadata": {},
     "output_type": "display_data"
    },
    {
     "data": {
      "application/javascript": [
       "(function(root) {\n",
       "  function embed_document(root) {\n",
       "    \n",
       "  var docs_json = {\"8acc1aac-f4cb-40ab-902e-191acdd2b50b\":{\"roots\":{\"references\":[{\"attributes\":{},\"id\":\"b601fa1e-c01e-4fb1-ab7b-3435ca11e75c\",\"type\":\"LinearScale\"},{\"attributes\":{\"active_drag\":\"auto\",\"active_inspect\":\"auto\",\"active_scroll\":\"auto\",\"active_tap\":\"auto\",\"tools\":[{\"id\":\"58615749-cb78-4c26-9e2c-3e0d244460ab\",\"type\":\"SaveTool\"}]},\"id\":\"cd804084-47f9-4a92-a85f-bf3f9583984b\",\"type\":\"Toolbar\"},{\"attributes\":{\"axis_label\":\"Y Label\",\"formatter\":{\"id\":\"ff94e457-bef0-462b-98ad-cf9cf421b226\",\"type\":\"BasicTickFormatter\"},\"plot\":{\"id\":\"51574be3-bd72-47bf-8424-73d7f7f16ccf\",\"subtype\":\"Figure\",\"type\":\"Plot\"},\"ticker\":{\"id\":\"db0cbbb6-6860-48f6-bfb7-2f191dfa6fa0\",\"type\":\"BasicTicker\"}},\"id\":\"dcf4be43-5ff1-435d-aeaa-bee2ff0cd40c\",\"type\":\"LinearAxis\"},{\"attributes\":{},\"id\":\"3f42da6a-1431-4c8d-b0e5-d9d0bfd0283c\",\"type\":\"LinearScale\"},{\"attributes\":{\"dimension\":1,\"plot\":{\"id\":\"51574be3-bd72-47bf-8424-73d7f7f16ccf\",\"subtype\":\"Figure\",\"type\":\"Plot\"},\"ticker\":{\"id\":\"db0cbbb6-6860-48f6-bfb7-2f191dfa6fa0\",\"type\":\"BasicTicker\"}},\"id\":\"e8820704-be37-42e2-8819-9ce3f4018126\",\"type\":\"Grid\"},{\"attributes\":{},\"id\":\"66a1e9c8-6091-4eb2-94b5-446d1f341bff\",\"type\":\"BasicTickFormatter\"},{\"attributes\":{\"callback\":null,\"end\":10},\"id\":\"c702d76f-f225-415e-a886-7756ffd99094\",\"type\":\"Range1d\"},{\"attributes\":{},\"id\":\"db0cbbb6-6860-48f6-bfb7-2f191dfa6fa0\",\"type\":\"BasicTicker\"},{\"attributes\":{},\"id\":\"58615749-cb78-4c26-9e2c-3e0d244460ab\",\"type\":\"SaveTool\"},{\"attributes\":{\"plot\":null,\"text\":\"Example Figure\"},\"id\":\"4d31940c-2b1e-4c69-a3aa-9468ccf41e21\",\"type\":\"Title\"},{\"attributes\":{\"callback\":null,\"end\":1000,\"start\":100},\"id\":\"a936a12a-5a4d-437e-83d2-11b20d08cfaf\",\"type\":\"Range1d\"},{\"attributes\":{},\"id\":\"9e8934f6-042f-45f7-954e-543d1edfb49d\",\"type\":\"BasicTicker\"},{\"attributes\":{\"background_fill_alpha\":{\"value\":0.2},\"background_fill_color\":{\"value\":\"pink\"},\"below\":[{\"id\":\"52dc64f1-78cc-477d-840c-e3eb471858ad\",\"type\":\"LinearAxis\"}],\"left\":[{\"id\":\"dcf4be43-5ff1-435d-aeaa-bee2ff0cd40c\",\"type\":\"LinearAxis\"}],\"plot_height\":400,\"renderers\":[{\"id\":\"52dc64f1-78cc-477d-840c-e3eb471858ad\",\"type\":\"LinearAxis\"},{\"id\":\"934f71af-8c4a-485d-a709-1e8ab3666687\",\"type\":\"Grid\"},{\"id\":\"dcf4be43-5ff1-435d-aeaa-bee2ff0cd40c\",\"type\":\"LinearAxis\"},{\"id\":\"e8820704-be37-42e2-8819-9ce3f4018126\",\"type\":\"Grid\"}],\"title\":{\"id\":\"4d31940c-2b1e-4c69-a3aa-9468ccf41e21\",\"type\":\"Title\"},\"toolbar\":{\"id\":\"cd804084-47f9-4a92-a85f-bf3f9583984b\",\"type\":\"Toolbar\"},\"toolbar_location\":\"below\",\"x_range\":{\"id\":\"a936a12a-5a4d-437e-83d2-11b20d08cfaf\",\"type\":\"Range1d\"},\"x_scale\":{\"id\":\"b601fa1e-c01e-4fb1-ab7b-3435ca11e75c\",\"type\":\"LinearScale\"},\"y_range\":{\"id\":\"c702d76f-f225-415e-a886-7756ffd99094\",\"type\":\"Range1d\"},\"y_scale\":{\"id\":\"3f42da6a-1431-4c8d-b0e5-d9d0bfd0283c\",\"type\":\"LinearScale\"}},\"id\":\"51574be3-bd72-47bf-8424-73d7f7f16ccf\",\"subtype\":\"Figure\",\"type\":\"Plot\"},{\"attributes\":{\"plot\":{\"id\":\"51574be3-bd72-47bf-8424-73d7f7f16ccf\",\"subtype\":\"Figure\",\"type\":\"Plot\"},\"ticker\":{\"id\":\"9e8934f6-042f-45f7-954e-543d1edfb49d\",\"type\":\"BasicTicker\"}},\"id\":\"934f71af-8c4a-485d-a709-1e8ab3666687\",\"type\":\"Grid\"},{\"attributes\":{\"axis_label\":\"X Label\",\"formatter\":{\"id\":\"66a1e9c8-6091-4eb2-94b5-446d1f341bff\",\"type\":\"BasicTickFormatter\"},\"plot\":{\"id\":\"51574be3-bd72-47bf-8424-73d7f7f16ccf\",\"subtype\":\"Figure\",\"type\":\"Plot\"},\"ticker\":{\"id\":\"9e8934f6-042f-45f7-954e-543d1edfb49d\",\"type\":\"BasicTicker\"}},\"id\":\"52dc64f1-78cc-477d-840c-e3eb471858ad\",\"type\":\"LinearAxis\"},{\"attributes\":{},\"id\":\"ff94e457-bef0-462b-98ad-cf9cf421b226\",\"type\":\"BasicTickFormatter\"}],\"root_ids\":[\"51574be3-bd72-47bf-8424-73d7f7f16ccf\"]},\"title\":\"Bokeh Application\",\"version\":\"0.12.13\"}};\n",
       "  var render_items = [{\"docid\":\"8acc1aac-f4cb-40ab-902e-191acdd2b50b\",\"elementid\":\"3c79031a-ae3e-44e4-ac11-85befe6dcada\",\"modelid\":\"51574be3-bd72-47bf-8424-73d7f7f16ccf\"}];\n",
       "  root.Bokeh.embed.embed_items_notebook(docs_json, render_items);\n",
       "\n",
       "  }\n",
       "  if (root.Bokeh !== undefined) {\n",
       "    embed_document(root);\n",
       "  } else {\n",
       "    var attempts = 0;\n",
       "    var timer = setInterval(function(root) {\n",
       "      if (root.Bokeh !== undefined) {\n",
       "        embed_document(root);\n",
       "        clearInterval(timer);\n",
       "      }\n",
       "      attempts++;\n",
       "      if (attempts > 100) {\n",
       "        console.log(\"Bokeh: ERROR: Unable to run BokehJS code because BokehJS library is missing\")\n",
       "        clearInterval(timer);\n",
       "      }\n",
       "    }, 10, root)\n",
       "  }\n",
       "})(window);"
      ],
      "application/vnd.bokehjs_exec.v0+json": ""
     },
     "metadata": {
      "application/vnd.bokehjs_exec.v0+json": {
       "id": "51574be3-bd72-47bf-8424-73d7f7f16ccf"
      }
     },
     "output_type": "display_data"
    }
   ],
   "source": [
    "fig = figure(x_range=(100,1000),\n",
    "             y_range=(0,10),\n",
    "             background_fill_color='pink',\n",
    "             background_fill_alpha=0.2,\n",
    "             plot_height=400,\n",
    "             plot_width=600,\n",
    "             x_axis_label='X Label',\n",
    "             y_axis_label='Y Label',\n",
    "             title='Example Figure',\n",
    "             toolbar_location='below',\n",
    "             tools='save')\n",
    "\n",
    "# See what it looks like\n",
    "show(fig)"
   ]
  },
  {
   "cell_type": "code",
   "execution_count": 8,
   "metadata": {},
   "outputs": [
    {
     "data": {
      "text/html": [
       "\n",
       "<div class=\"bk-root\">\n",
       "    <div class=\"bk-plotdiv\" id=\"50410768-a47d-4a07-baee-bbc1d5735005\"></div>\n",
       "</div>"
      ]
     },
     "metadata": {},
     "output_type": "display_data"
    },
    {
     "data": {
      "application/javascript": [
       "(function(root) {\n",
       "  function embed_document(root) {\n",
       "    \n",
       "  var docs_json = {\"6956545c-0e39-44df-9175-6d15a83f80ac\":{\"roots\":{\"references\":[{\"attributes\":{\"plot\":{\"id\":\"95cf83b1-a049-4559-9d87-23f672b53654\",\"subtype\":\"Figure\",\"type\":\"Plot\"},\"ticker\":{\"id\":\"3bc40172-6e57-431a-9892-c8ff20acf639\",\"type\":\"BasicTicker\"}},\"id\":\"a8f95c95-c3f5-4d4a-82ad-aae02fef4e14\",\"type\":\"Grid\"},{\"attributes\":{},\"id\":\"66aa596e-088e-4224-bd63-d4947ef4dba6\",\"type\":\"HelpTool\"},{\"attributes\":{\"data_source\":{\"id\":\"ec7c4a41-a742-4f94-a3ff-72e40208947e\",\"type\":\"ColumnDataSource\"},\"glyph\":{\"id\":\"6564e891-0217-4654-80d4-6bcc7dcd567e\",\"type\":\"Circle\"},\"hover_glyph\":null,\"muted_glyph\":null,\"nonselection_glyph\":{\"id\":\"9fbeddc0-bc6a-47fb-90ca-4d985b1a371a\",\"type\":\"Circle\"},\"selection_glyph\":null,\"view\":{\"id\":\"16193d82-a5cc-4ecb-9c49-a748b1e21a55\",\"type\":\"CDSView\"}},\"id\":\"9fdaff62-43ef-467d-92f9-84c7e5bbd1eb\",\"type\":\"GlyphRenderer\"},{\"attributes\":{},\"id\":\"3bc40172-6e57-431a-9892-c8ff20acf639\",\"type\":\"BasicTicker\"},{\"attributes\":{\"bottom_units\":\"screen\",\"fill_alpha\":{\"value\":0.5},\"fill_color\":{\"value\":\"lightgrey\"},\"left_units\":\"screen\",\"level\":\"overlay\",\"line_alpha\":{\"value\":1.0},\"line_color\":{\"value\":\"black\"},\"line_dash\":[4,4],\"line_width\":{\"value\":2},\"plot\":null,\"render_mode\":\"css\",\"right_units\":\"screen\",\"top_units\":\"screen\"},\"id\":\"b5baf74a-af63-4170-9a9c-fc94050a77cd\",\"type\":\"BoxAnnotation\"},{\"attributes\":{\"active_drag\":\"auto\",\"active_inspect\":\"auto\",\"active_scroll\":\"auto\",\"active_tap\":\"auto\",\"tools\":[{\"id\":\"14917527-4164-4c39-979f-734997ff2c80\",\"type\":\"PanTool\"},{\"id\":\"8d42df75-8d3f-4ef1-9460-8c204d7b06d0\",\"type\":\"WheelZoomTool\"},{\"id\":\"c415fe12-87b3-4d60-a10f-8715d753d14c\",\"type\":\"BoxZoomTool\"},{\"id\":\"da7bd790-6bb9-419e-abca-16725e0fcf62\",\"type\":\"SaveTool\"},{\"id\":\"74aaf3a6-98c5-4029-9852-644177a37814\",\"type\":\"ResetTool\"},{\"id\":\"66aa596e-088e-4224-bd63-d4947ef4dba6\",\"type\":\"HelpTool\"}]},\"id\":\"0d7d98a1-6d03-4b95-b716-8e5f4569c494\",\"type\":\"Toolbar\"},{\"attributes\":{},\"id\":\"da7bd790-6bb9-419e-abca-16725e0fcf62\",\"type\":\"SaveTool\"},{\"attributes\":{\"formatter\":{\"id\":\"9f5edcec-5fb0-4ef4-a113-c55e64077fa6\",\"type\":\"BasicTickFormatter\"},\"plot\":{\"id\":\"95cf83b1-a049-4559-9d87-23f672b53654\",\"subtype\":\"Figure\",\"type\":\"Plot\"},\"ticker\":{\"id\":\"3bc40172-6e57-431a-9892-c8ff20acf639\",\"type\":\"BasicTicker\"}},\"id\":\"bf243c8c-7adf-42cc-9747-615d9aacbb21\",\"type\":\"LinearAxis\"},{\"attributes\":{\"fill_alpha\":{\"value\":0.1},\"fill_color\":{\"value\":\"#1f77b4\"},\"line_alpha\":{\"value\":0.1},\"line_color\":{\"value\":\"#1f77b4\"},\"size\":{\"units\":\"screen\",\"value\":20},\"x\":{\"field\":\"x\"},\"y\":{\"field\":\"y\"}},\"id\":\"9fbeddc0-bc6a-47fb-90ca-4d985b1a371a\",\"type\":\"Circle\"},{\"attributes\":{\"dimension\":1,\"plot\":{\"id\":\"95cf83b1-a049-4559-9d87-23f672b53654\",\"subtype\":\"Figure\",\"type\":\"Plot\"},\"ticker\":{\"id\":\"b4e68edb-1d81-49ad-91a0-d6092ffce5c6\",\"type\":\"BasicTicker\"}},\"id\":\"76cfc17c-1094-48f0-8b24-32ae075cb882\",\"type\":\"Grid\"},{\"attributes\":{\"fill_alpha\":{\"value\":0.5},\"fill_color\":{\"value\":\"green\"},\"line_alpha\":{\"value\":0.5},\"line_color\":{\"value\":\"green\"},\"size\":{\"units\":\"screen\",\"value\":20},\"x\":{\"field\":\"x\"},\"y\":{\"field\":\"y\"}},\"id\":\"6564e891-0217-4654-80d4-6bcc7dcd567e\",\"type\":\"Circle\"},{\"attributes\":{},\"id\":\"b4e68edb-1d81-49ad-91a0-d6092ffce5c6\",\"type\":\"BasicTicker\"},{\"attributes\":{\"overlay\":{\"id\":\"b5baf74a-af63-4170-9a9c-fc94050a77cd\",\"type\":\"BoxAnnotation\"}},\"id\":\"c415fe12-87b3-4d60-a10f-8715d753d14c\",\"type\":\"BoxZoomTool\"},{\"attributes\":{\"callback\":null},\"id\":\"70576574-180b-478e-805d-6821bdb2986c\",\"type\":\"DataRange1d\"},{\"attributes\":{\"below\":[{\"id\":\"bf243c8c-7adf-42cc-9747-615d9aacbb21\",\"type\":\"LinearAxis\"}],\"left\":[{\"id\":\"d7bc44c0-8842-4d29-8b14-241c98d16b8d\",\"type\":\"LinearAxis\"}],\"plot_height\":300,\"plot_width\":300,\"renderers\":[{\"id\":\"bf243c8c-7adf-42cc-9747-615d9aacbb21\",\"type\":\"LinearAxis\"},{\"id\":\"a8f95c95-c3f5-4d4a-82ad-aae02fef4e14\",\"type\":\"Grid\"},{\"id\":\"d7bc44c0-8842-4d29-8b14-241c98d16b8d\",\"type\":\"LinearAxis\"},{\"id\":\"76cfc17c-1094-48f0-8b24-32ae075cb882\",\"type\":\"Grid\"},{\"id\":\"b5baf74a-af63-4170-9a9c-fc94050a77cd\",\"type\":\"BoxAnnotation\"},{\"id\":\"9fdaff62-43ef-467d-92f9-84c7e5bbd1eb\",\"type\":\"GlyphRenderer\"}],\"title\":{\"id\":\"f10ee6e7-5be4-4793-9f53-9e9c715d2c86\",\"type\":\"Title\"},\"toolbar\":{\"id\":\"0d7d98a1-6d03-4b95-b716-8e5f4569c494\",\"type\":\"Toolbar\"},\"x_range\":{\"id\":\"70576574-180b-478e-805d-6821bdb2986c\",\"type\":\"DataRange1d\"},\"x_scale\":{\"id\":\"c30dd044-17e7-4815-8743-944a2d2b50ac\",\"type\":\"LinearScale\"},\"y_range\":{\"id\":\"e6e92741-bfd3-43f8-b0de-2b57e6c6a5a3\",\"type\":\"DataRange1d\"},\"y_scale\":{\"id\":\"2a8c3b5a-fa8e-4e85-9b0f-9dd675f5bfc6\",\"type\":\"LinearScale\"}},\"id\":\"95cf83b1-a049-4559-9d87-23f672b53654\",\"subtype\":\"Figure\",\"type\":\"Plot\"},{\"attributes\":{\"source\":{\"id\":\"ec7c4a41-a742-4f94-a3ff-72e40208947e\",\"type\":\"ColumnDataSource\"}},\"id\":\"16193d82-a5cc-4ecb-9c49-a748b1e21a55\",\"type\":\"CDSView\"},{\"attributes\":{},\"id\":\"8d42df75-8d3f-4ef1-9460-8c204d7b06d0\",\"type\":\"WheelZoomTool\"},{\"attributes\":{\"callback\":null},\"id\":\"e6e92741-bfd3-43f8-b0de-2b57e6c6a5a3\",\"type\":\"DataRange1d\"},{\"attributes\":{\"callback\":null,\"column_names\":[\"x\",\"y\"],\"data\":{\"x\":[1,2,3,4,5],\"y\":[6,7,1,4,3]}},\"id\":\"ec7c4a41-a742-4f94-a3ff-72e40208947e\",\"type\":\"ColumnDataSource\"},{\"attributes\":{},\"id\":\"14917527-4164-4c39-979f-734997ff2c80\",\"type\":\"PanTool\"},{\"attributes\":{},\"id\":\"4f2ecb4d-c4d1-4287-8dcb-7d107ccf630a\",\"type\":\"BasicTickFormatter\"},{\"attributes\":{},\"id\":\"c30dd044-17e7-4815-8743-944a2d2b50ac\",\"type\":\"LinearScale\"},{\"attributes\":{},\"id\":\"9f5edcec-5fb0-4ef4-a113-c55e64077fa6\",\"type\":\"BasicTickFormatter\"},{\"attributes\":{\"formatter\":{\"id\":\"4f2ecb4d-c4d1-4287-8dcb-7d107ccf630a\",\"type\":\"BasicTickFormatter\"},\"plot\":{\"id\":\"95cf83b1-a049-4559-9d87-23f672b53654\",\"subtype\":\"Figure\",\"type\":\"Plot\"},\"ticker\":{\"id\":\"b4e68edb-1d81-49ad-91a0-d6092ffce5c6\",\"type\":\"BasicTicker\"}},\"id\":\"d7bc44c0-8842-4d29-8b14-241c98d16b8d\",\"type\":\"LinearAxis\"},{\"attributes\":{},\"id\":\"2a8c3b5a-fa8e-4e85-9b0f-9dd675f5bfc6\",\"type\":\"LinearScale\"},{\"attributes\":{\"plot\":null,\"text\":\"\"},\"id\":\"f10ee6e7-5be4-4793-9f53-9e9c715d2c86\",\"type\":\"Title\"},{\"attributes\":{},\"id\":\"74aaf3a6-98c5-4029-9852-644177a37814\",\"type\":\"ResetTool\"}],\"root_ids\":[\"95cf83b1-a049-4559-9d87-23f672b53654\"]},\"title\":\"Bokeh Application\",\"version\":\"0.12.13\"}};\n",
       "  var render_items = [{\"docid\":\"6956545c-0e39-44df-9175-6d15a83f80ac\",\"elementid\":\"50410768-a47d-4a07-baee-bbc1d5735005\",\"modelid\":\"95cf83b1-a049-4559-9d87-23f672b53654\"}];\n",
       "  root.Bokeh.embed.embed_items_notebook(docs_json, render_items);\n",
       "\n",
       "  }\n",
       "  if (root.Bokeh !== undefined) {\n",
       "    embed_document(root);\n",
       "  } else {\n",
       "    var attempts = 0;\n",
       "    var timer = setInterval(function(root) {\n",
       "      if (root.Bokeh !== undefined) {\n",
       "        embed_document(root);\n",
       "        clearInterval(timer);\n",
       "      }\n",
       "      attempts++;\n",
       "      if (attempts > 100) {\n",
       "        console.log(\"Bokeh: ERROR: Unable to run BokehJS code because BokehJS library is missing\")\n",
       "        clearInterval(timer);\n",
       "      }\n",
       "    }, 10, root)\n",
       "  }\n",
       "})(window);"
      ],
      "application/vnd.bokehjs_exec.v0+json": ""
     },
     "metadata": {
      "application/vnd.bokehjs_exec.v0+json": {
       "id": "95cf83b1-a049-4559-9d87-23f672b53654"
      }
     },
     "output_type": "display_data"
    }
   ],
   "source": [
    "# Circles\n",
    "\n",
    "p = figure(plot_width=300, plot_height=300)\n",
    "\n",
    "# add a circle renderer with a size, color, and alpha\n",
    "p.circle([1, 2, 3, 4, 5], [6, 7, 1, 4, 3], size=20, color=\"green\", alpha=0.5)\n",
    "\n",
    "# show the results\n",
    "show(p)"
   ]
  },
  {
   "cell_type": "code",
   "execution_count": 9,
   "metadata": {},
   "outputs": [
    {
     "data": {
      "text/html": [
       "\n",
       "<div class=\"bk-root\">\n",
       "    <div class=\"bk-plotdiv\" id=\"1f944046-5a62-4c40-82f8-e5c07a585878\"></div>\n",
       "</div>"
      ]
     },
     "metadata": {},
     "output_type": "display_data"
    },
    {
     "data": {
      "application/javascript": [
       "(function(root) {\n",
       "  function embed_document(root) {\n",
       "    \n",
       "  var docs_json = {\"aa25da8c-eebb-4167-a28e-5a90ef4e42d9\":{\"roots\":{\"references\":[{\"attributes\":{\"bottom_units\":\"screen\",\"fill_alpha\":{\"value\":0.5},\"fill_color\":{\"value\":\"lightgrey\"},\"left_units\":\"screen\",\"level\":\"overlay\",\"line_alpha\":{\"value\":1.0},\"line_color\":{\"value\":\"black\"},\"line_dash\":[4,4],\"line_width\":{\"value\":2},\"plot\":null,\"render_mode\":\"css\",\"right_units\":\"screen\",\"top_units\":\"screen\"},\"id\":\"e60d4289-3b96-493e-8517-8cc0f37b3b86\",\"type\":\"BoxAnnotation\"},{\"attributes\":{\"callback\":null,\"column_names\":[\"x\",\"y\"],\"data\":{\"x\":[1,2,3,4,5],\"y\":[6,7,1,4,3]}},\"id\":\"58eb2628-f533-4421-8440-43f0f0f4b223\",\"type\":\"ColumnDataSource\"},{\"attributes\":{},\"id\":\"b1380265-33f2-49fa-9a37-177eac766fae\",\"type\":\"LinearScale\"},{\"attributes\":{},\"id\":\"84120ebd-adc0-42a3-8395-d61d513f664c\",\"type\":\"BasicTickFormatter\"},{\"attributes\":{\"fill_alpha\":{\"value\":0.1},\"fill_color\":{\"value\":\"#1f77b4\"},\"line_alpha\":{\"value\":0.1},\"line_color\":{\"value\":\"#1f77b4\"},\"size\":{\"units\":\"screen\",\"value\":20},\"x\":{\"field\":\"x\"},\"y\":{\"field\":\"y\"}},\"id\":\"29721104-75df-41f9-8532-712f50530933\",\"type\":\"Square\"},{\"attributes\":{},\"id\":\"e829f7d0-5260-44a9-afea-9f435ff4bdab\",\"type\":\"BasicTickFormatter\"},{\"attributes\":{},\"id\":\"3ff9eb46-7647-4d20-9984-0991fbe6eb85\",\"type\":\"PanTool\"},{\"attributes\":{},\"id\":\"5010c397-6dd8-4e9e-95a5-e733a1718b2b\",\"type\":\"BasicTicker\"},{\"attributes\":{\"dimension\":1,\"plot\":{\"id\":\"16694f24-a44f-445a-bdc7-58ce4158e8ce\",\"subtype\":\"Figure\",\"type\":\"Plot\"},\"ticker\":{\"id\":\"eee5c61a-5a05-44cd-8f0f-d41279699e4c\",\"type\":\"BasicTicker\"}},\"id\":\"5f3b3caa-b2dc-4506-8b5e-4e7f149ad17a\",\"type\":\"Grid\"},{\"attributes\":{\"callback\":null},\"id\":\"44bff849-b24e-45a9-80d2-1d9dfa0b6ae8\",\"type\":\"DataRange1d\"},{\"attributes\":{},\"id\":\"f4d482db-0d84-42b2-8cc8-eba4025bd8a2\",\"type\":\"HelpTool\"},{\"attributes\":{\"active_drag\":\"auto\",\"active_inspect\":\"auto\",\"active_scroll\":\"auto\",\"active_tap\":\"auto\",\"tools\":[{\"id\":\"3ff9eb46-7647-4d20-9984-0991fbe6eb85\",\"type\":\"PanTool\"},{\"id\":\"5048fd21-9366-4bbf-b880-7c1ec331565e\",\"type\":\"WheelZoomTool\"},{\"id\":\"d6af6643-a4f5-4ce5-a09f-e94073c92251\",\"type\":\"BoxZoomTool\"},{\"id\":\"31689f25-1a0c-447b-9233-9f0c119272bc\",\"type\":\"SaveTool\"},{\"id\":\"56497279-d10c-40e9-b214-58876e161b7f\",\"type\":\"ResetTool\"},{\"id\":\"f4d482db-0d84-42b2-8cc8-eba4025bd8a2\",\"type\":\"HelpTool\"}]},\"id\":\"c9289809-8a7f-4495-8d65-c0ac3cb235c6\",\"type\":\"Toolbar\"},{\"attributes\":{\"plot\":null,\"text\":\"\"},\"id\":\"4d83a5b2-3e92-4e36-98aa-9084d3fe838b\",\"type\":\"Title\"},{\"attributes\":{\"plot\":{\"id\":\"16694f24-a44f-445a-bdc7-58ce4158e8ce\",\"subtype\":\"Figure\",\"type\":\"Plot\"},\"ticker\":{\"id\":\"5010c397-6dd8-4e9e-95a5-e733a1718b2b\",\"type\":\"BasicTicker\"}},\"id\":\"a7b08c4d-2e95-40d5-875c-8874bd26321d\",\"type\":\"Grid\"},{\"attributes\":{\"fill_alpha\":{\"value\":0.5},\"fill_color\":{\"value\":\"red\"},\"line_alpha\":{\"value\":0.5},\"line_color\":{\"value\":\"red\"},\"size\":{\"units\":\"screen\",\"value\":20},\"x\":{\"field\":\"x\"},\"y\":{\"field\":\"y\"}},\"id\":\"63799c4c-bd41-4806-a5dd-6f8d7a359404\",\"type\":\"Square\"},{\"attributes\":{\"callback\":null},\"id\":\"8a4b19ca-5159-413f-a38d-6f776d85eb66\",\"type\":\"DataRange1d\"},{\"attributes\":{\"formatter\":{\"id\":\"84120ebd-adc0-42a3-8395-d61d513f664c\",\"type\":\"BasicTickFormatter\"},\"plot\":{\"id\":\"16694f24-a44f-445a-bdc7-58ce4158e8ce\",\"subtype\":\"Figure\",\"type\":\"Plot\"},\"ticker\":{\"id\":\"eee5c61a-5a05-44cd-8f0f-d41279699e4c\",\"type\":\"BasicTicker\"}},\"id\":\"2b667c91-c5f3-4e8e-b709-e2c7d6c1ab8a\",\"type\":\"LinearAxis\"},{\"attributes\":{\"data_source\":{\"id\":\"58eb2628-f533-4421-8440-43f0f0f4b223\",\"type\":\"ColumnDataSource\"},\"glyph\":{\"id\":\"63799c4c-bd41-4806-a5dd-6f8d7a359404\",\"type\":\"Square\"},\"hover_glyph\":null,\"muted_glyph\":null,\"nonselection_glyph\":{\"id\":\"29721104-75df-41f9-8532-712f50530933\",\"type\":\"Square\"},\"selection_glyph\":null,\"view\":{\"id\":\"310deb77-ab99-4e72-ae3f-b84c997449cc\",\"type\":\"CDSView\"}},\"id\":\"2cf5f691-5933-4240-a441-f97ed5d923c4\",\"type\":\"GlyphRenderer\"},{\"attributes\":{\"formatter\":{\"id\":\"e829f7d0-5260-44a9-afea-9f435ff4bdab\",\"type\":\"BasicTickFormatter\"},\"plot\":{\"id\":\"16694f24-a44f-445a-bdc7-58ce4158e8ce\",\"subtype\":\"Figure\",\"type\":\"Plot\"},\"ticker\":{\"id\":\"5010c397-6dd8-4e9e-95a5-e733a1718b2b\",\"type\":\"BasicTicker\"}},\"id\":\"af570b14-eaec-424f-a90f-1532ece14990\",\"type\":\"LinearAxis\"},{\"attributes\":{},\"id\":\"eee5c61a-5a05-44cd-8f0f-d41279699e4c\",\"type\":\"BasicTicker\"},{\"attributes\":{},\"id\":\"56497279-d10c-40e9-b214-58876e161b7f\",\"type\":\"ResetTool\"},{\"attributes\":{},\"id\":\"5048fd21-9366-4bbf-b880-7c1ec331565e\",\"type\":\"WheelZoomTool\"},{\"attributes\":{},\"id\":\"31689f25-1a0c-447b-9233-9f0c119272bc\",\"type\":\"SaveTool\"},{\"attributes\":{\"overlay\":{\"id\":\"e60d4289-3b96-493e-8517-8cc0f37b3b86\",\"type\":\"BoxAnnotation\"}},\"id\":\"d6af6643-a4f5-4ce5-a09f-e94073c92251\",\"type\":\"BoxZoomTool\"},{\"attributes\":{\"source\":{\"id\":\"58eb2628-f533-4421-8440-43f0f0f4b223\",\"type\":\"ColumnDataSource\"}},\"id\":\"310deb77-ab99-4e72-ae3f-b84c997449cc\",\"type\":\"CDSView\"},{\"attributes\":{},\"id\":\"45f654fe-4d53-4225-9d8c-dafbf02dedd1\",\"type\":\"LinearScale\"},{\"attributes\":{\"below\":[{\"id\":\"af570b14-eaec-424f-a90f-1532ece14990\",\"type\":\"LinearAxis\"}],\"left\":[{\"id\":\"2b667c91-c5f3-4e8e-b709-e2c7d6c1ab8a\",\"type\":\"LinearAxis\"}],\"plot_height\":300,\"plot_width\":300,\"renderers\":[{\"id\":\"af570b14-eaec-424f-a90f-1532ece14990\",\"type\":\"LinearAxis\"},{\"id\":\"a7b08c4d-2e95-40d5-875c-8874bd26321d\",\"type\":\"Grid\"},{\"id\":\"2b667c91-c5f3-4e8e-b709-e2c7d6c1ab8a\",\"type\":\"LinearAxis\"},{\"id\":\"5f3b3caa-b2dc-4506-8b5e-4e7f149ad17a\",\"type\":\"Grid\"},{\"id\":\"e60d4289-3b96-493e-8517-8cc0f37b3b86\",\"type\":\"BoxAnnotation\"},{\"id\":\"2cf5f691-5933-4240-a441-f97ed5d923c4\",\"type\":\"GlyphRenderer\"}],\"title\":{\"id\":\"4d83a5b2-3e92-4e36-98aa-9084d3fe838b\",\"type\":\"Title\"},\"toolbar\":{\"id\":\"c9289809-8a7f-4495-8d65-c0ac3cb235c6\",\"type\":\"Toolbar\"},\"x_range\":{\"id\":\"8a4b19ca-5159-413f-a38d-6f776d85eb66\",\"type\":\"DataRange1d\"},\"x_scale\":{\"id\":\"b1380265-33f2-49fa-9a37-177eac766fae\",\"type\":\"LinearScale\"},\"y_range\":{\"id\":\"44bff849-b24e-45a9-80d2-1d9dfa0b6ae8\",\"type\":\"DataRange1d\"},\"y_scale\":{\"id\":\"45f654fe-4d53-4225-9d8c-dafbf02dedd1\",\"type\":\"LinearScale\"}},\"id\":\"16694f24-a44f-445a-bdc7-58ce4158e8ce\",\"subtype\":\"Figure\",\"type\":\"Plot\"}],\"root_ids\":[\"16694f24-a44f-445a-bdc7-58ce4158e8ce\"]},\"title\":\"Bokeh Application\",\"version\":\"0.12.13\"}};\n",
       "  var render_items = [{\"docid\":\"aa25da8c-eebb-4167-a28e-5a90ef4e42d9\",\"elementid\":\"1f944046-5a62-4c40-82f8-e5c07a585878\",\"modelid\":\"16694f24-a44f-445a-bdc7-58ce4158e8ce\"}];\n",
       "  root.Bokeh.embed.embed_items_notebook(docs_json, render_items);\n",
       "\n",
       "  }\n",
       "  if (root.Bokeh !== undefined) {\n",
       "    embed_document(root);\n",
       "  } else {\n",
       "    var attempts = 0;\n",
       "    var timer = setInterval(function(root) {\n",
       "      if (root.Bokeh !== undefined) {\n",
       "        embed_document(root);\n",
       "        clearInterval(timer);\n",
       "      }\n",
       "      attempts++;\n",
       "      if (attempts > 100) {\n",
       "        console.log(\"Bokeh: ERROR: Unable to run BokehJS code because BokehJS library is missing\")\n",
       "        clearInterval(timer);\n",
       "      }\n",
       "    }, 10, root)\n",
       "  }\n",
       "})(window);"
      ],
      "application/vnd.bokehjs_exec.v0+json": ""
     },
     "metadata": {
      "application/vnd.bokehjs_exec.v0+json": {
       "id": "16694f24-a44f-445a-bdc7-58ce4158e8ce"
      }
     },
     "output_type": "display_data"
    }
   ],
   "source": [
    "# Squares\n",
    "\n",
    "p = figure(plot_width=300, plot_height=300)\n",
    "\n",
    "# add a circle renderer with a size, color, and alpha\n",
    "p.square([1, 2, 3, 4, 5], [6, 7, 1, 4, 3], size=20, color=\"red\", alpha=0.5)\n",
    "\n",
    "# show the results\n",
    "show(p)"
   ]
  },
  {
   "cell_type": "code",
   "execution_count": 10,
   "metadata": {},
   "outputs": [
    {
     "data": {
      "text/html": [
       "\n",
       "<div class=\"bk-root\">\n",
       "    <div class=\"bk-plotdiv\" id=\"cd79f016-0ad1-450f-8bf9-6ffeee7ad3af\"></div>\n",
       "</div>"
      ]
     },
     "metadata": {},
     "output_type": "display_data"
    },
    {
     "data": {
      "application/javascript": [
       "(function(root) {\n",
       "  function embed_document(root) {\n",
       "    \n",
       "  var docs_json = {\"d1848f61-2098-4f1a-b024-2f6943b103ff\":{\"roots\":{\"references\":[{\"attributes\":{},\"id\":\"35771a45-31bd-4001-924c-6541e6099767\",\"type\":\"PanTool\"},{\"attributes\":{\"active_drag\":\"auto\",\"active_inspect\":\"auto\",\"active_scroll\":\"auto\",\"active_tap\":\"auto\",\"tools\":[{\"id\":\"35771a45-31bd-4001-924c-6541e6099767\",\"type\":\"PanTool\"},{\"id\":\"9f8c204f-089c-4768-bd99-40630d25234b\",\"type\":\"WheelZoomTool\"},{\"id\":\"3930dac5-ecae-4b87-be6c-752b54052626\",\"type\":\"BoxZoomTool\"},{\"id\":\"4469007b-fb25-4c8e-96d6-f0ca57368317\",\"type\":\"SaveTool\"},{\"id\":\"b2143ef5-f852-4444-aae4-2ec257cd1467\",\"type\":\"ResetTool\"},{\"id\":\"1457e9b9-494b-4874-961e-08347fa090da\",\"type\":\"HelpTool\"}]},\"id\":\"c8eb21ac-1cb7-41ee-945e-b34ba838c3d0\",\"type\":\"Toolbar\"},{\"attributes\":{\"below\":[{\"id\":\"c98bff5e-3d36-4eaf-979b-1f765d1c8ef3\",\"type\":\"LinearAxis\"}],\"left\":[{\"id\":\"fb6e4ee2-ac37-419a-b8a5-b6e0cf239055\",\"type\":\"LinearAxis\"}],\"plot_height\":300,\"plot_width\":300,\"renderers\":[{\"id\":\"c98bff5e-3d36-4eaf-979b-1f765d1c8ef3\",\"type\":\"LinearAxis\"},{\"id\":\"6c6f41eb-e056-4834-aedc-db6dfbf7c4d9\",\"type\":\"Grid\"},{\"id\":\"fb6e4ee2-ac37-419a-b8a5-b6e0cf239055\",\"type\":\"LinearAxis\"},{\"id\":\"889c371c-b639-4a86-8c64-ed784d7ed153\",\"type\":\"Grid\"},{\"id\":\"40523653-313f-40d6-b2b3-1323e3fa4182\",\"type\":\"BoxAnnotation\"},{\"id\":\"bb884bf7-d7e6-4a6f-8cad-5c53b18677c9\",\"type\":\"GlyphRenderer\"}],\"title\":{\"id\":\"4008042e-8aa6-4d9c-ba41-0691e57a52b7\",\"type\":\"Title\"},\"toolbar\":{\"id\":\"c8eb21ac-1cb7-41ee-945e-b34ba838c3d0\",\"type\":\"Toolbar\"},\"x_range\":{\"id\":\"252a394e-3f71-4a9a-a796-cb851edff0c1\",\"type\":\"DataRange1d\"},\"x_scale\":{\"id\":\"f9b5903b-4205-4ca8-8a00-61e125dd3e58\",\"type\":\"LinearScale\"},\"y_range\":{\"id\":\"868660ff-daca-48d9-8bab-61ed17255ca8\",\"type\":\"DataRange1d\"},\"y_scale\":{\"id\":\"3cd4d047-cd37-4c4e-ad84-307bc949a809\",\"type\":\"LinearScale\"}},\"id\":\"4aac9a11-892c-4de1-8592-fdd67a2cdbfa\",\"subtype\":\"Figure\",\"type\":\"Plot\"},{\"attributes\":{\"callback\":null},\"id\":\"252a394e-3f71-4a9a-a796-cb851edff0c1\",\"type\":\"DataRange1d\"},{\"attributes\":{\"plot\":null,\"text\":\"\"},\"id\":\"4008042e-8aa6-4d9c-ba41-0691e57a52b7\",\"type\":\"Title\"},{\"attributes\":{\"callback\":null,\"column_names\":[\"x\",\"y\"],\"data\":{\"x\":[1,2,3,4,5],\"y\":[6,7,1,4,3]}},\"id\":\"75ad6565-c8e5-454b-8dec-b581e6aa1dd2\",\"type\":\"ColumnDataSource\"},{\"attributes\":{\"source\":{\"id\":\"75ad6565-c8e5-454b-8dec-b581e6aa1dd2\",\"type\":\"ColumnDataSource\"}},\"id\":\"11e3e680-c62e-4b3d-a8ec-858f95d9b81f\",\"type\":\"CDSView\"},{\"attributes\":{\"formatter\":{\"id\":\"77f59808-9fce-4581-8a98-c1444abdda12\",\"type\":\"BasicTickFormatter\"},\"plot\":{\"id\":\"4aac9a11-892c-4de1-8592-fdd67a2cdbfa\",\"subtype\":\"Figure\",\"type\":\"Plot\"},\"ticker\":{\"id\":\"80368a12-73cc-4b79-ab19-bbd411a32ff6\",\"type\":\"BasicTicker\"}},\"id\":\"c98bff5e-3d36-4eaf-979b-1f765d1c8ef3\",\"type\":\"LinearAxis\"},{\"attributes\":{},\"id\":\"1457e9b9-494b-4874-961e-08347fa090da\",\"type\":\"HelpTool\"},{\"attributes\":{\"line_color\":\"pink\",\"line_width\":2,\"x\":{\"field\":\"x\"},\"y\":{\"field\":\"y\"}},\"id\":\"d648354f-be16-4af8-9718-110683669fbd\",\"type\":\"Line\"},{\"attributes\":{\"plot\":{\"id\":\"4aac9a11-892c-4de1-8592-fdd67a2cdbfa\",\"subtype\":\"Figure\",\"type\":\"Plot\"},\"ticker\":{\"id\":\"80368a12-73cc-4b79-ab19-bbd411a32ff6\",\"type\":\"BasicTicker\"}},\"id\":\"6c6f41eb-e056-4834-aedc-db6dfbf7c4d9\",\"type\":\"Grid\"},{\"attributes\":{\"dimension\":1,\"plot\":{\"id\":\"4aac9a11-892c-4de1-8592-fdd67a2cdbfa\",\"subtype\":\"Figure\",\"type\":\"Plot\"},\"ticker\":{\"id\":\"2215f535-91e5-4596-8284-b0bea3189b91\",\"type\":\"BasicTicker\"}},\"id\":\"889c371c-b639-4a86-8c64-ed784d7ed153\",\"type\":\"Grid\"},{\"attributes\":{},\"id\":\"b2143ef5-f852-4444-aae4-2ec257cd1467\",\"type\":\"ResetTool\"},{\"attributes\":{},\"id\":\"2215f535-91e5-4596-8284-b0bea3189b91\",\"type\":\"BasicTicker\"},{\"attributes\":{\"formatter\":{\"id\":\"e28fede2-e6e3-4526-ba8b-4295afb93a88\",\"type\":\"BasicTickFormatter\"},\"plot\":{\"id\":\"4aac9a11-892c-4de1-8592-fdd67a2cdbfa\",\"subtype\":\"Figure\",\"type\":\"Plot\"},\"ticker\":{\"id\":\"2215f535-91e5-4596-8284-b0bea3189b91\",\"type\":\"BasicTicker\"}},\"id\":\"fb6e4ee2-ac37-419a-b8a5-b6e0cf239055\",\"type\":\"LinearAxis\"},{\"attributes\":{},\"id\":\"f9b5903b-4205-4ca8-8a00-61e125dd3e58\",\"type\":\"LinearScale\"},{\"attributes\":{},\"id\":\"80368a12-73cc-4b79-ab19-bbd411a32ff6\",\"type\":\"BasicTicker\"},{\"attributes\":{\"callback\":null},\"id\":\"868660ff-daca-48d9-8bab-61ed17255ca8\",\"type\":\"DataRange1d\"},{\"attributes\":{},\"id\":\"77f59808-9fce-4581-8a98-c1444abdda12\",\"type\":\"BasicTickFormatter\"},{\"attributes\":{\"bottom_units\":\"screen\",\"fill_alpha\":{\"value\":0.5},\"fill_color\":{\"value\":\"lightgrey\"},\"left_units\":\"screen\",\"level\":\"overlay\",\"line_alpha\":{\"value\":1.0},\"line_color\":{\"value\":\"black\"},\"line_dash\":[4,4],\"line_width\":{\"value\":2},\"plot\":null,\"render_mode\":\"css\",\"right_units\":\"screen\",\"top_units\":\"screen\"},\"id\":\"40523653-313f-40d6-b2b3-1323e3fa4182\",\"type\":\"BoxAnnotation\"},{\"attributes\":{},\"id\":\"4469007b-fb25-4c8e-96d6-f0ca57368317\",\"type\":\"SaveTool\"},{\"attributes\":{\"data_source\":{\"id\":\"75ad6565-c8e5-454b-8dec-b581e6aa1dd2\",\"type\":\"ColumnDataSource\"},\"glyph\":{\"id\":\"d648354f-be16-4af8-9718-110683669fbd\",\"type\":\"Line\"},\"hover_glyph\":null,\"muted_glyph\":null,\"nonselection_glyph\":{\"id\":\"f76df711-64af-4581-b662-276e60a64524\",\"type\":\"Line\"},\"selection_glyph\":null,\"view\":{\"id\":\"11e3e680-c62e-4b3d-a8ec-858f95d9b81f\",\"type\":\"CDSView\"}},\"id\":\"bb884bf7-d7e6-4a6f-8cad-5c53b18677c9\",\"type\":\"GlyphRenderer\"},{\"attributes\":{\"overlay\":{\"id\":\"40523653-313f-40d6-b2b3-1323e3fa4182\",\"type\":\"BoxAnnotation\"}},\"id\":\"3930dac5-ecae-4b87-be6c-752b54052626\",\"type\":\"BoxZoomTool\"},{\"attributes\":{},\"id\":\"3cd4d047-cd37-4c4e-ad84-307bc949a809\",\"type\":\"LinearScale\"},{\"attributes\":{},\"id\":\"9f8c204f-089c-4768-bd99-40630d25234b\",\"type\":\"WheelZoomTool\"},{\"attributes\":{\"line_alpha\":0.1,\"line_color\":\"#1f77b4\",\"line_width\":2,\"x\":{\"field\":\"x\"},\"y\":{\"field\":\"y\"}},\"id\":\"f76df711-64af-4581-b662-276e60a64524\",\"type\":\"Line\"},{\"attributes\":{},\"id\":\"e28fede2-e6e3-4526-ba8b-4295afb93a88\",\"type\":\"BasicTickFormatter\"}],\"root_ids\":[\"4aac9a11-892c-4de1-8592-fdd67a2cdbfa\"]},\"title\":\"Bokeh Application\",\"version\":\"0.12.13\"}};\n",
       "  var render_items = [{\"docid\":\"d1848f61-2098-4f1a-b024-2f6943b103ff\",\"elementid\":\"cd79f016-0ad1-450f-8bf9-6ffeee7ad3af\",\"modelid\":\"4aac9a11-892c-4de1-8592-fdd67a2cdbfa\"}];\n",
       "  root.Bokeh.embed.embed_items_notebook(docs_json, render_items);\n",
       "\n",
       "  }\n",
       "  if (root.Bokeh !== undefined) {\n",
       "    embed_document(root);\n",
       "  } else {\n",
       "    var attempts = 0;\n",
       "    var timer = setInterval(function(root) {\n",
       "      if (root.Bokeh !== undefined) {\n",
       "        embed_document(root);\n",
       "        clearInterval(timer);\n",
       "      }\n",
       "      attempts++;\n",
       "      if (attempts > 100) {\n",
       "        console.log(\"Bokeh: ERROR: Unable to run BokehJS code because BokehJS library is missing\")\n",
       "        clearInterval(timer);\n",
       "      }\n",
       "    }, 10, root)\n",
       "  }\n",
       "})(window);"
      ],
      "application/vnd.bokehjs_exec.v0+json": ""
     },
     "metadata": {
      "application/vnd.bokehjs_exec.v0+json": {
       "id": "4aac9a11-892c-4de1-8592-fdd67a2cdbfa"
      }
     },
     "output_type": "display_data"
    }
   ],
   "source": [
    "# Line\n",
    "\n",
    "p = figure(plot_width=300, plot_height=300)\n",
    "\n",
    "# add a circle renderer with a size, color, and alpha(for transparency)\n",
    "p.line([1, 2, 3, 4, 5], [6, 7, 1, 4, 3], line_width=2, color=\"pink\")\n",
    "\n",
    "# show the results\n",
    "show(p)"
   ]
  },
  {
   "cell_type": "code",
   "execution_count": 11,
   "metadata": {},
   "outputs": [
    {
     "data": {
      "text/html": [
       "\n",
       "<div class=\"bk-root\">\n",
       "    <div class=\"bk-plotdiv\" id=\"b922fcc7-faeb-4bc6-afae-926a9dfc811f\"></div>\n",
       "</div>"
      ]
     },
     "metadata": {},
     "output_type": "display_data"
    },
    {
     "data": {
      "application/javascript": [
       "(function(root) {\n",
       "  function embed_document(root) {\n",
       "    \n",
       "  var docs_json = {\"594ddda0-3e1a-46d2-8161-92a34cf6d96c\":{\"roots\":{\"references\":[{\"attributes\":{},\"id\":\"02c80d44-0cda-4abc-af65-1baf5539af45\",\"type\":\"BasicTicker\"},{\"attributes\":{\"plot\":null,\"text\":\"\"},\"id\":\"180cd646-cf00-4ef8-8f00-54b4fbf8f779\",\"type\":\"Title\"},{\"attributes\":{\"fill_alpha\":{\"value\":0.1},\"fill_color\":{\"value\":\"#1f77b4\"},\"line_alpha\":{\"value\":0.1},\"line_color\":{\"value\":\"#1f77b4\"},\"x\":{\"field\":\"x\"},\"y\":{\"field\":\"y\"}},\"id\":\"b13a8a3a-62a1-4924-886f-36e4f9999718\",\"type\":\"Circle\"},{\"attributes\":{\"axis_label\":\"GDP per Capita\",\"formatter\":{\"id\":\"b1570718-eddb-45f2-a3a8-b8bdad8f30ca\",\"type\":\"BasicTickFormatter\"},\"plot\":{\"id\":\"fb318294-56dd-4d39-ab51-2ef4b18b0ccd\",\"subtype\":\"Figure\",\"type\":\"Plot\"},\"ticker\":{\"id\":\"c82223ba-dcfd-4b19-8c12-5b2908ebc239\",\"type\":\"BasicTicker\"}},\"id\":\"462b967f-0e7a-469f-afe5-24255bd55d9c\",\"type\":\"LinearAxis\"},{\"attributes\":{},\"id\":\"c82223ba-dcfd-4b19-8c12-5b2908ebc239\",\"type\":\"BasicTicker\"},{\"attributes\":{\"fill_color\":{\"value\":\"#1f77b4\"},\"line_color\":{\"value\":\"#1f77b4\"},\"x\":{\"field\":\"x\"},\"y\":{\"field\":\"y\"}},\"id\":\"56cb6c0c-334f-46eb-8454-076c674be7a9\",\"type\":\"Circle\"},{\"attributes\":{},\"id\":\"07f542ee-771a-47d5-9b9d-ed6e82b5570f\",\"type\":\"PanTool\"},{\"attributes\":{\"below\":[{\"id\":\"462b967f-0e7a-469f-afe5-24255bd55d9c\",\"type\":\"LinearAxis\"}],\"left\":[{\"id\":\"eea7c1a5-ba4a-4f04-b5a3-b077ff92b934\",\"type\":\"LinearAxis\"}],\"plot_height\":400,\"plot_width\":400,\"renderers\":[{\"id\":\"462b967f-0e7a-469f-afe5-24255bd55d9c\",\"type\":\"LinearAxis\"},{\"id\":\"ab7a216e-3659-4872-8351-289272219c6c\",\"type\":\"Grid\"},{\"id\":\"eea7c1a5-ba4a-4f04-b5a3-b077ff92b934\",\"type\":\"LinearAxis\"},{\"id\":\"ff7a87fb-91fb-445d-ada0-5383df981372\",\"type\":\"Grid\"},{\"id\":\"4969fc11-48b0-49db-bdb4-580f5c1d428e\",\"type\":\"BoxAnnotation\"},{\"id\":\"2241716a-6499-41be-ae3f-e2030c039b7b\",\"type\":\"GlyphRenderer\"}],\"title\":{\"id\":\"180cd646-cf00-4ef8-8f00-54b4fbf8f779\",\"type\":\"Title\"},\"toolbar\":{\"id\":\"da0757b2-272c-4795-abe2-74ef970e44a7\",\"type\":\"Toolbar\"},\"x_range\":{\"id\":\"65eded19-4255-421a-b608-717f2b8acd74\",\"type\":\"DataRange1d\"},\"x_scale\":{\"id\":\"f4f365b9-68e9-40e8-b763-24dda59cf985\",\"type\":\"LinearScale\"},\"y_range\":{\"id\":\"74d61f48-a350-4035-8a25-35392ff7261b\",\"type\":\"DataRange1d\"},\"y_scale\":{\"id\":\"c842a38b-8fc5-4aae-862a-ba923a0a19ca\",\"type\":\"LinearScale\"}},\"id\":\"fb318294-56dd-4d39-ab51-2ef4b18b0ccd\",\"subtype\":\"Figure\",\"type\":\"Plot\"},{\"attributes\":{\"callback\":null},\"id\":\"74d61f48-a350-4035-8a25-35392ff7261b\",\"type\":\"DataRange1d\"},{\"attributes\":{\"callback\":null},\"id\":\"65eded19-4255-421a-b608-717f2b8acd74\",\"type\":\"DataRange1d\"},{\"attributes\":{},\"id\":\"f4f365b9-68e9-40e8-b763-24dda59cf985\",\"type\":\"LinearScale\"},{\"attributes\":{},\"id\":\"c842a38b-8fc5-4aae-862a-ba923a0a19ca\",\"type\":\"LinearScale\"},{\"attributes\":{\"source\":{\"id\":\"bfaa26c2-f573-43d4-9947-192964516bc7\",\"type\":\"ColumnDataSource\"}},\"id\":\"4d4888da-1038-40de-883e-9c527cc13d85\",\"type\":\"CDSView\"},{\"attributes\":{\"data_source\":{\"id\":\"bfaa26c2-f573-43d4-9947-192964516bc7\",\"type\":\"ColumnDataSource\"},\"glyph\":{\"id\":\"56cb6c0c-334f-46eb-8454-076c674be7a9\",\"type\":\"Circle\"},\"hover_glyph\":null,\"muted_glyph\":null,\"nonselection_glyph\":{\"id\":\"b13a8a3a-62a1-4924-886f-36e4f9999718\",\"type\":\"Circle\"},\"selection_glyph\":null,\"view\":{\"id\":\"4d4888da-1038-40de-883e-9c527cc13d85\",\"type\":\"CDSView\"}},\"id\":\"2241716a-6499-41be-ae3f-e2030c039b7b\",\"type\":\"GlyphRenderer\"},{\"attributes\":{\"axis_label\":\"Life Expectancy\",\"formatter\":{\"id\":\"9e626853-aa92-4069-b7e9-906f049f6479\",\"type\":\"BasicTickFormatter\"},\"plot\":{\"id\":\"fb318294-56dd-4d39-ab51-2ef4b18b0ccd\",\"subtype\":\"Figure\",\"type\":\"Plot\"},\"ticker\":{\"id\":\"02c80d44-0cda-4abc-af65-1baf5539af45\",\"type\":\"BasicTicker\"}},\"id\":\"eea7c1a5-ba4a-4f04-b5a3-b077ff92b934\",\"type\":\"LinearAxis\"},{\"attributes\":{},\"id\":\"9e626853-aa92-4069-b7e9-906f049f6479\",\"type\":\"BasicTickFormatter\"},{\"attributes\":{\"active_drag\":\"auto\",\"active_inspect\":\"auto\",\"active_scroll\":\"auto\",\"active_tap\":\"auto\",\"tools\":[{\"id\":\"07f542ee-771a-47d5-9b9d-ed6e82b5570f\",\"type\":\"PanTool\"},{\"id\":\"c068fe71-8980-4f0b-bf4f-a5e65d509730\",\"type\":\"WheelZoomTool\"},{\"id\":\"e260dd31-83b6-413d-9d95-7bd87d7b20c8\",\"type\":\"BoxZoomTool\"},{\"id\":\"89289f26-340a-47b3-bff8-8d005efb760f\",\"type\":\"SaveTool\"},{\"id\":\"a208a02f-4faf-4625-a388-5f83f7cc427c\",\"type\":\"ResetTool\"},{\"id\":\"5114a733-ce81-4c60-8818-187446c3aa47\",\"type\":\"HelpTool\"}]},\"id\":\"da0757b2-272c-4795-abe2-74ef970e44a7\",\"type\":\"Toolbar\"},{\"attributes\":{\"overlay\":{\"id\":\"4969fc11-48b0-49db-bdb4-580f5c1d428e\",\"type\":\"BoxAnnotation\"}},\"id\":\"e260dd31-83b6-413d-9d95-7bd87d7b20c8\",\"type\":\"BoxZoomTool\"},{\"attributes\":{},\"id\":\"a208a02f-4faf-4625-a388-5f83f7cc427c\",\"type\":\"ResetTool\"},{\"attributes\":{\"plot\":{\"id\":\"fb318294-56dd-4d39-ab51-2ef4b18b0ccd\",\"subtype\":\"Figure\",\"type\":\"Plot\"},\"ticker\":{\"id\":\"c82223ba-dcfd-4b19-8c12-5b2908ebc239\",\"type\":\"BasicTicker\"}},\"id\":\"ab7a216e-3659-4872-8351-289272219c6c\",\"type\":\"Grid\"},{\"attributes\":{\"bottom_units\":\"screen\",\"fill_alpha\":{\"value\":0.5},\"fill_color\":{\"value\":\"lightgrey\"},\"left_units\":\"screen\",\"level\":\"overlay\",\"line_alpha\":{\"value\":1.0},\"line_color\":{\"value\":\"black\"},\"line_dash\":[4,4],\"line_width\":{\"value\":2},\"plot\":null,\"render_mode\":\"css\",\"right_units\":\"screen\",\"top_units\":\"screen\"},\"id\":\"4969fc11-48b0-49db-bdb4-580f5c1d428e\",\"type\":\"BoxAnnotation\"},{\"attributes\":{\"callback\":null,\"column_names\":[\"x\",\"y\"],\"data\":{\"x\":{\"__ndarray__\":\"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\",\"dtype\":\"float64\",\"shape\":[1704]},\"y\":{\"__ndarray__\":\"kxgEVg7NPEChRbbz/VQ+QKwcWmQ7/z9Aw/UoXI8CQUAlBoGVQwtCQPLSTWIQOENAWmQ730/tQ0Dvp8ZLN2lEQIPAyqFF1kRAjGzn+6nhRECNl24SgxBFQESLbOf76UVAPQrXo3CdS0CkcD0K16NNQBSuR+F6NFBArkfhehSOUEBcj8L1KOxQQOxRuB6FO1FAexSuR+GaUUAAAAAAAABSQHe+nxov5VFAzczMzMw8UkCMbOf7qelSQFCNl24SG1NAYOXQItuJRUBI4XoUrtdGQBFYObTIJkhAarx0kxi0SUD8qfHSTUJLQG4Sg8DKAU1AyXa+nxqvTkBBYOXQInNQQFYOLbKd71BAfT81XrpJUUBWDi2ynb9RQCUGgZVDE1JApHA9CtcDPkA6tMh2vv8/QAAAAAAAAEFArkfhehT+QUARWDm0yPZCQOj7qfHSvUNAf2q8dJP4Q0CHFtnO9/NDQIlBYOXQUkRAJQaBlUN7RECq8dJNYoBEQCGwcmiRXUVArkfhehQ+T0Coxks3iRlQQAwCK4cWSVBAf2q8dJNoUEBcj8L1KMRQQBFYObTIHlFAPzVeukl8UUCoxks3ibFRQGQ730+N91FAmpmZmZlRUkD2KFyPwpVSQBSuR+F61FJASOF6FK5HUUCF61G4HpVRQOxRuB6Fu1FAZmZmZmbGUUDsUbgehftRQI/C9ShcX1JAj8L1KFyvUkAUrkfhehRTQKRwPQrXY1NAhetRuB61U0BI4XoUrhdUQNejcD0KT1RAMzMzMzOzUEAfhetRuN5QQMP1KFyPYlFAKVyPwvWIUUC4HoXrUahRQHsUrkfhClJA7FG4HoVLUkBcj8L1KLxSQMP1KFyPAlNAcT0K16NgU0AfhetRuL5TQJMYBFYO9VNA1HjpJjF4SUDRItv5fupKQKAaL90kdkxAoBov3ST2TUBmZmZmZqZPQMuhRbbzZVBAFtnO91NDUUAAAAAAALBRQFg5tMh2JlJAMzMzMzN7UkB7FK5H4bJSQHE9Ctej6FJAy6FFtvO9QkAGgZVDi6xDQM/3U+Olm0RARIts5/u5RUDGSzeJQaBGQKAaL90kdkdA/dR46SYBSUBFtvP91GhKQPyp8dJNAkxA2/l+ary0TUCMbOf7qQFPQIcW2c73A1BAAAAAAAAAUUCPwvUoXE9RQAAAAAAAkFFAXI/C9Si8UUBcj8L1KNxRQDMzMzMzM1JA7FG4HoV7UkBmZmZmZtZSQD0K16NwHVNAUrgehethU0AUrkfhepRTQE5iEFg53FNABoGVQ4scQ0Do+6nx0i1EQMl2vp8aT0VA4XoUrkdxRkBuEoPAyoFHQLgehetRmEhAwMqhRbZzSUBBYOXQIitKQBKDwMqh9UpA+n5qvHRjS0CIFtnO9zNLQHe+nxovXUxAokW28/00REBSuB6F6/FEQBFYObTItkVAarx0kxiERkAIrBxaZFtHQG3n+6nxAklAyqFFtvPtSkDkpZvEIKBMQNEi2/l++k1AZmZmZmYGT0AbL90kBvFPQPp+arx0Y1BAKVyPwvXoSkCamZmZmTlNQNejcD0K905Aw/UoXI8yUEDNzMzMzNxQQNejcD0Kd1FAXI/C9SisUUApXI/C9chRQAisHFpkC1JAVg4tsp1PUkD2KFyPwoVSQEoMAiuHtlJAVg4tsp3PR0DJdr6fGs9IQMP1KFyPwklAoBov3SSmSkBPjZduEgNMQEW28/3UqE1AyqFFtvO9TkBWDi2ync9PQI/C9ShcX09Au0kMAitHSkD91HjpJlFHQHe+nxovXUlATDeJQWB1SUAUrkfheqRKQIXrUbge1UtAN4lBYOXQTECNl24Sg8BNQDvfT42Xvk5AX7pJDAKrT0CF61G4Hk1QQM/3U+Olw1BARrbz/dRYUUCq8dJNYsBRQClcj8L1GFJAzczMzMzMTUDXo3A9CqdQQHE9CtejYFFAexSuR+GaUUCamZmZmblRQKRwPQrXs1FAhetRuB7FUUD2KFyPwtVRQFyPwvUozFFAFK5H4XqUUUApXI/C9QhSQLgehetRQFJAmpmZmZn5P0CHFtnO93NBQNV46SYx6EJA76fGSzdZREDP91PjpctFQKjGSzeJEUdAVg4tsp0PSECd76fGS8dIQOF6FK5HIUlAtvP91HgpSUAzMzMzM1NJQPYoXI/CJUpAhxbZzveDQ0BOYhBYOUREQPYoXI/CBUVAoBov3STGRUCd76fGSwdGQBSuR+F69EZAQDVeukm8R0BfukkMAhtIQJLtfD81XkZAfT81XrqpRkCuR+F6FK5HQArXo3A9ykhATDeJQWC1Q0ADK4cW2a5EQIXrUbgetUVAhetRuB61RkB/arx0kyhEQLgehetROD9A0SLb+X56SUChRbbz/fRKQBFYObTI5ktAMQisHFpETEDGSzeJQWBMQAaBlUOL3E1Abef7qfFCQ0ARWDm0yDZEQPyp8dJNUkVAg8DKoUVmRkCDwMqhRYZHQD0K16NwrUhAX7pJDAJ7SkCuR+F6FH5LQNR46SYxKEtAtvP91HgZSkAhsHJoke1IQNejcD0KN0lAAAAAAAAwUUA9CtejcH1RQDMzMzMz01FAuB6F61EIUkC4HoXrUThSQD0K16NwjVJAcT0K16PwUkDXo3A9CjdTQM3MzMzMfFNA16NwPQqnU0DhehSuR/FTQG8Sg8DKKVRAJQaBlUO7QUAIrBxaZLtCQM3MzMzMvENAd76fGi+9REDRItv5frpFQDMzMzMzY0dA9ihcj8IlSECuR+F6FD5JQKabxCCwskhAnMQgsHIIR0CBlUOLbKdFQAMrhxbZXkZAsp3vp8YLQ0BU46WbxPBDQM/3U+Ol20RAsXJoke3MRUBFtvP91MhGQBsv3SQGsUdAGARWDi3CSEBKDAIrh4ZJQOkmMQis3ElA001iEFjJSUAzMzMzM0NJQBfZzvdTU0lAj8L1KFxfS0C28/3UeAlMQIPAyqFF9kxAbef7qfFCTkCcxCCwcrhPQBbZzvdTw1BAXI/C9SikUUBzaJHtfB9SQPLSTWIQiFJATmIQWDn0UkDXo3A9CndTQAisHFpko1NAAAAAAAAARkD1Zz9SREZJQOPCgZAsQEZA/uxHisgwTUACE7h1N49PQLK61XPS+09AmpmZmZlhUECoxks3idFQQFyPwvUoLFFAJQaBlUObUUBvEoPAygFSQC/dJAaBPVJA/Knx0k1SSUDJdr6fGo9LQFg5tMh27kxAJQaBlUP7TUA6tMh2vs9OQEFg5dAi609AbxKDwMqpUED+1HjpJvFQQG3n+6nxGlFAeekmMQiUUUDP91PjpetRQDeJQWDlOFJA7FG4HoVbREB7FK5H4TpFQLKd76fGO0ZAI9v5fmo8R0BFtvP91HhIQNR46SYxeElAgZVDi2x3SkBKDAIrh3ZLQNR46SYx+ExAFK5H4XpUTkDpJjEIrHxPQH0/NV66SVBA/Knx0k2SQ0D6fmq8dFNEQFYOLbKdD0VAu0kMAisHRkA730+Nl/5GQPP91Hjp5kdAMQisHFrkR0Db+X5qvLRHQKAaL90kxkZAQWDl0CJLRUDP91PjpXtGQEFg5dAiO0dAku18PzUORUARWDm0yIZGQEjhehSuN0hAhetRuB4FSkBqvHSTGHRLQAAAAAAA0EtAKVyPwvVYTEBcj8L1KLxMQIGVQ4tsN0xAQWDl0CJ7SkBcj8L1KHxKQO+nxks3qUtA7nw/NV6aTEAX2c73UwNOQLKd76fGa09AQWDl0CJbUEB0kxgEVvZQQAAAAAAAsFFAzczMzMxcUkDjpZvEILBSQBODwMqh7VJAcT0K16NQU0AdWmQ734dTQDVeukkMslNAkxgEVg49REB46SYxCDxFQNejcD0Kd0ZAzczMzMysR0BKDAIrh+ZIQBxaZDvfL0pA6Pup8dL9SkCkcD0K11NLQBKDwMqhBUpAAyuHFtn+R0DRItv5fmpHQESLbOf7KUhAexSuR+GaTkDhehSuRzFQQLgehetRyFBAAAAAAAAgUUDXo3A9CmdRQClcj8L1qFFAPQrXo3CdUUDhehSuR+FRQH0/NV66IVJA7FG4HoVrUkDy0k1iELhSQB1aZDvf71JA2s73U+O1TUCamZmZmSlPQDq0yHa+T1BAw/UoXI8SUUCDwMqhRa5RQKjGSzeJKVJA2c73U+NtUkBBYOXQIotSQNEi2/l+mlJAjGzn+6kJU0AnMQisHEpTQLbz/dR4kVNASOF6FK63UEBSuB6F60FRQJqZmZmZeVFAuB6F61GYUUDD9Shcj5JRQD0K16NwrVFAPQrXo3C9UUCF61G4HuVRQJqZmZmZGVJAcT0K16OAUkBxPQrXo+BSQMl2vp8aH1NAUrgeheuxUUCkcD0K1/NRQGZmZmZmFlJAPQrXo3A9UkCuR+F6FF5SQFyPwvUorFJAuB6F61GoUkAzMzMzM7NSQIXrUbge1VJA16NwPQoHU0DsUbgehUtTQGiR7Xw/lVNADi2yne9nQUBEi2zn+6lCQGMQWDm02ENAtvP91HgJRUADK4cW2S5GQN9PjZduQkdADi2yne9nSECF61G4HgVJQFpkO99PzUlAarx0kxiUSkA6tMh2vq9KQGmR7Xw/ZUtAEVg5tMj2RkBEi2zn++lIQJduEoPAukpA5KWbxCBgTEBU46WbxNBNQL+fGi/d5E5AkxgEVg7dT0Bt5/up8YJQQGiR7Xw/HVFAaJHtfD99UUCR7Xw/NbZRQNejcD0KD1JABFYOLbItSEAhsHJoka1JQFK4HoXrUUtAEVg5tMhWTEDazvdT42VNQEjhehSup05A2c73U+MVUEARWDm0yM5QQKwcWmQ7Z1FAhxbZzvcTUkBQjZduEotSQFYOLbKdv1JA/Knx0k3yREBFtvP91DhGQOXQItv5fkdAL90kBoGlSECoxks3iZFJQEW28/3UqEpAVOOlm8QATEC8dJMYBOZNQIPAyqFF1k9A2c73U+PNUEDdJAaBlXNRQBODwMqh1VFAqMZLN4mhRkApXI/C9UhIQJ3vp8ZLJ0pAPQrXo3DtS0DRItv5fhpNQA0CK4cWWUxAWmQ7309NTEDAyqFFtpNPQFCNl24Ss1BACtejcD1iUUDl0CLb+a5RQNV46SYx+FFABFYOLbI9QUDo+6nx0v1BQK5H4XoUvkJAdJMYBFZ+Q0A1XrpJDEJEQE+Nl24SA0VA2/l+arzURUChRbbz/dRGQPYoXI/CxUdAj8L1KFwfSEAGgZVDi6xIQCYxCKwcyklAEVg5tMj2QUC8dJMYBAZDQE5iEFg5FERA1HjpJjEYRUAYBFYOLRJGQBSuR+F6REZAUrgehevxRUBEi2zn+zlHQAMrhxbZ/khAqvHSTWKwSkAfhetRuJ5LQIXrUbgeBU1ARIts5/sJQUBMN4lBYFVCQGQ730+NB0RAH4XrUbgORUBSuB6F68FFQOF6FK5HQUZAaZHtfD91RkBkO99PjVdHQM/3U+OlC0hA+n5qvHSzSEDNzMzMzFxJQO+nxks3eUpAMzMzMzOjUECPwvUoXN9QQAAAAAAAMFFAhetRuB51UUBI4XoUrrdRQOF6FK5HIVJAMzMzMzOjUkCF61G4HrVSQM3MzMzM7FJAuB6F61FIU0BI4XoUrpdTQHnpJjEI1FNACtejcD3aUEDsUbgehTtRQHE9CtejoFFAMzMzMzPjUUC4HoXrURhSQIXrUbgedVJAKVyPwvW4UkD2KFyPwhVTQD0K16NwXVNAKVyPwvWoU0D2KFyPwuVTQDVeukkMKlRAqvHSTWKAQkAdWmQ7339DQDzfT42XPkRABoGVQ4tMRkC4HoXrUVhIQIXrUbgeZUpA1HjpJjFITEC4HoXrURhOQAMrhxbZrk5AX7pJDAI7TkDFILByaGFMQK5H4XoUXkxAAAAAAAAAPkC4HoXrUQhAQKabxCCw8kBABFYOLbLtQUCBlUOLbCdDQLKd76fG60RACtejcD3KRkBSuB6F66FIQN9PjZduUkpAku18PzXuS0Bpke18PwVNQNNNYhBYuU1AAAAAAADgUEBmZmZmZkZRQDMzMzMzk1FAMzMzMzOzUUAAAAAAAMBRQAAAAAAAIFJAMzMzMzNzUkCR7Xw/NbZSQBSuR+F6BFNA9ihcj8JVU0B7FK5H4apTQESLbOf72VNAT42XbhKTRUDAyqFFtmNGQGDl0CLbOUdA76fGSzcJSEAAAAAAAPBIQFTjpZvE4ElArBxaZDvfSkBaZDvfT91LQOSlm8QgwExAu0kMAitHTUBEi2zn+zlNQIlBYOXQAk5A16NwPQp3UEDXo3A9CvdQQHE9CtejYFFAAAAAAADAUUD2KFyPwhVSQOxRuB6Fa1JAj8L1KFzPUkB7FK5H4SpTQFK4HoXrQVNAVg4tsp13U0Cq8dJNYpBTQPT91Hjp3lNAbef7qfECRUAYBFYOLRJGQCYxCKwcekdANl66SQwCSUBYObTIdt5KQMDKoUW2A0xAqMZLN4kRTUBqvHSTGGROQDq0yHa+r09A+FPjpZuUUEA830+Nlz5RQH9qvHSTkFFAy6FFtvPNQECBlUOLbEdBQKrx0k1i4EFA76fGSzeZQkCyne+nxmtDQKjGSzeJYURANl66SQxyRUAtsp3vp8ZGQH0/NV66SUhACtejcD26SUBKDAIrh9ZKQDeJQWDlAExAAAAAAABAQEA830+Nl75AQFg5tMh2PkFA5dAi2/m+QUCR7Xw/NT5CQOxRuB6Fu0JAYOXQItupQ0CPwvUoXJ9EQDZeukkMokVAOrTIdr5vRkCNl24Sg8BGQIxs5/upMUdAJzEIrBzKQkAMAiuHFllEQOxRuB6Fy0VAyXa+nxofR0BMN4lBYAVIQKAaL90k9khAX7pJDAK7SUDFILByaNFKQAisHFpki0tA2s73U+NVTECoxks3iRFNQGmR7Xw/dU5A2/l+arz0RECF61G4HlVGQGmR7Xw/BUhAg8DKoUV2SUD91HjpJvFKQPp+arx0s0xAMQisHFp0TkBzaJHtfB9QQKjGSzeJmVBAGARWDi3qUEBcj8L1KCRRQOomMQisjFFAexSuR+F6TkAAAAAAADBQQJqZmZmZ6VBAAAAAAACAUUAAAAAAAABSQGZmZmZmZlJAzczMzMzcUkDNzMzMzAxTQFg5tMh2ZlNAAAAAAAAAVEBI4XoUrl9UQFpkO99PjVRAUrgehesBUEAK16NwPZpQQD0K16Nw/VBAAAAAAABgUUBxPQrXo3BRQM3MzMzMfFFAKVyPwvVYUUCF61G4HmVRQHsUrkfhSlFAw/UoXI/CUUD2KFyPwiVSQBODwMqhVVJAj8L1KFwfUkCuR+F6FF5SQOxRuB6Fa1JAH4XrUbhuUkA9CtejcJ1SQNejcD0KB1NAj8L1KFw/U0AfhetRuE5TQOF6FK5HsVNAzczMzMy8U0AAAAAAACBUQJzEILBycFRAOrTIdr6vQkAdWmQ73x9EQD0K16NwzUVAYxBYObSYR0AX2c73U1NJQLTIdr6fGktAQDVeuklMTEARWDm0yEZNQAaBlUOLHE5AUrgehevhTkCNl24Sg3BPQOomMQisLFBAlkOLbOe7QkAv3SQGgfVDQPyp8dJNQkVACKwcWmT7RkBEi2zn+5lIQGDl0CLbWUpAMQisHFoUTECoxks3iRFOQLtJDAIrV09AtMh2vp+CUEATg8DKoSVRQJqZmZmZqVFArBxaZDtvRkC7SQwCK5dHQJqZmZmZqUhAeOkmMQg8SkDKoUW2851LQGDl0CLb2UxAj8L1KFzPTUCF61G4HoVPQHNoke18b1BAppvEILACUUC/nxov3VxRQARWDi2yvVFAKVyPwvWoRkAOLbKd7zdIQNEi2/l+uklAl24Sg8A6S0CamZmZmXlMQL+fGi/dNE5Av58aL90ET0CJQWDl0EJQQF+6SQwCu01ALIcW2c5nTUDazvdT44VMQPYoXI/CxU1ACtejcD26UECamZmZmTlRQMP1KFyPklFAhetRuB7FUUBSuB6F69FRQFK4HoXrAVJAZmZmZmZGUkDXo3A9CpdSQNnO91Pj3VJAK4cW2c4HU0AnMQisHHJTQHE9CtejuFNAKVyPwvVYUED2KFyPwvVQQClcj8L1WFFAAAAAAACwUUC4HoXrUehRQKRwPQrXQ1JAzczMzMycUkBmZmZmZuZSQOxRuB6FO1NA76fGSzeRU0AGgZVDi+xTQEjhehSuL1RAXI/C9Sh8UECkcD0K1/NQQI/C9ShcT1FApHA9CtfDUUBcj8L1KAxSQB+F61G4XlJAH4XrUbi+UkB7FK5H4RpTQFyPwvUoXFNAFK5H4Xq0U0CPwvUoXA9UQG3n+6nxIlRApHA9CtdDTUCuR+F6FE5PQNejcD0KZ1BAcT0K16PgUEAAAAAAAEBRQNejcD0Kh1FAPQrXo3DNUUDhehSuR/FRQBsv3SQG8VFAVOOlm8QQUkBeukkMAgNSQD81XrpJJFJApHA9CteDT0AAAAAAAGBQQB+F61G4LlFA7FG4HoXbUUB7FK5H4VpSQLgehetR2FJA16NwPQpHU0B7FK5H4apTQNejcD0K11NAXI/C9SgsVEAAAAAAAIBUQDvfT42XplRATmIQWDmURUASg8DKodVGQOSlm8QgEEhAjZduEoPQSUDdJAaBlUNMQP3UeOkmkU5AO99PjZfeT0BWDi2ynXdQQClcj8L1AFFAxCCwcmhxUUBGtvP91NBRQArXo3A9IlJAw/UoXI8iRUAshxbZzldGQLbz/dR4+UdAwMqhRbZTSUBkO99PjcdKQKRwPQrXE0xANl66SQxiTUAIrBxaZKtNQBSuR+F6pE1Aarx0kxg0S0Dl0CLb+X5JQK5H4XoUDktAu0kMAisHSUDufD81XgpLQIgW2c73U0xAf2q8dJP4TUDo+6nx0v1PQBgEVg4tylBAZmZmZmZGUUDEILByaKlRQDzfT42XflFASgwCK4fuUEDtfD81XqpQQF66SQwC01BARIts5/u5R0C7SQwCK1dKQEw3iUFgpUtAz/dT46XbTEB0kxgEVk5PQBsv3SQGMVBAHVpkO9/HUECkcD0K13NRQFYOLbKdD1JAxCCwcmipUkB7FK5H4UJTQB1aZDvfp1NAuB6F61HIS0BOYhBYOQRNQFyPwvUoPE5ADi2yne8nUEAhsHJoke1QQMuhRbbzVVFAsp3vp8bTUUBBYOXQIotSQFyPwvUozFJARIts5/sJU0Bg5dAi2zlTQBODwMqhZVNAEVg5tMj2S0A730+Nl75NQHjpJjEIDE9Aj8L1KFzvT0Bt5/up8VpQQHSTGARWhlBA9P3UeOm+UEAlBoGVQ/tQQKabxCCwUlFAKVyPwvWQUUBvEoPAysFRQGQ730+N/1FAjGzn+6kRRUC8dJMYBIZGQFYOLbKd30dA5dAi2/k+SEAYBFYOLeJIQLTIdr6fGkpARIts5/uJS0DXo3A9CpdMQEjhehSu101AgZVDi2zHS0CWQ4ts50tGQLKd76fGS0VAPQrXo3A9Q0CR7Xw/Nb5DQMZLN4lBQERA+FPjpZvEREA730+Nl05FQG4Sg8DK4UVAkxgEVg5tRkD6fmq8dANHQC2yne+nZkRAQDVeukkcRUCq8dJNYuBFQBFYObTI1kZABoGVQ4tcRUChRbbz/aRGQIGVQ4ts50dAkxgEVg4dSUBt5/up8WJKQH9qvHSTuExApHA9CtcTT0Dl0CLb+Y5QQLgehetRMFFA7FG4HoXjUUC6SQwCKy9SQLByaJHtfFJAukkMAitXQkAfhetRuG5DQAaBlUOLbERAVOOlm8RwRUCxcmiR7WxGQFTjpZvEcEdAeOkmMQh8SEDNzMzMzKxIQAisHFpkG0pAd76fGi99S0D4U+Olm6RMQGMQWDm0uE1AVOOlm8QgQkDRItv5fppCQBSuR+F6NENAdJMYBFa+Q0A2XrpJDOJEQBgEVg4t4kVAGARWDi3SRkDRItv5frpHQPYoXI/CtUhAj8L1KFy/R0D91HjpJoFGQBFYObTIJkhAJQaBlUM7SECTGARWDg1KQHSTGARW3ktAc2iR7XyvTUDhehSuR4FPQKrx0k1iUFBAAAAAAAAAUUAAAAAAAGBRQDEIrBxarFFAeekmMQj8UUCJQWDl0EJSQIGVQ4tsj1JASOF6FK7XQECd76fGS6dBQCuHFtnOd0JAdJMYBFY+Q0CTGARWDv1DQAisHFpk20RAaZHtfD/1RUA730+Nly5HQIxs5/upMUhA3SQGgZXzSEBjEFg5tOhJQLKd76fGO0tAL90kBoFFREAlBoGVQytFQDq0yHa+H0ZAoUW28/0kR0AOLbKd7zdIQJMYBFYObUlA6SYxCKzMSkDD9ShcjxJMQLTIdr6fKk1A16NwPQo3TkBWDi2ynR9PQNEi2/l+ClBAku18PzV+SUAIrBxaZAtNQHNoke18H05Ane+nxkvHTkBFtvP91HhPQOxRuB6FO1BAL90kBoGtUECPwvUoXC9RQEjhehSub1FAyXa+nxqvUUCTGARWDv1RQCUGgZVDM1JAoUW28/1kSUC4HoXrUZhLQIPAyqFFJk1ArkfhehQOTkCS7Xw/NS5PQDVeukkMQlBAUrgehevZUEAdWmQ7319RQIXrUbge3VFAexSuR+FqUkB9PzVeurlSQBSuR+F6DFNArBxaZDsfRUA6tMh2vp9GQOSlm8QgIEhAqvHSTWKgSUCNl24Sg+BKQAMrhxbZvktAO99PjZe+TEAj2/l+ahxOQKabxCCwok5AAAAAAADQT0AnMQisHEJQQAisHFpks1BAoUW28/2UTUDTTWIQWLlOQHe+nxov3U9ACKwcWmTLUEBjEFg5tKhRQE5iEFg5RFJAWDm0yHaGUkCPwvUoXLdSQKRwPQrX21JAFK5H4XrcUkARWDm0yH5SQJhuEoPAolJAOrTIdr5vRUCgGi/dJLZGQIPAyqFF9kdAexSuR+EqSUB0kxgEVm5KQD0K16Nw3UtAMzMzMzPTTUAtsp3vp1ZPQP7UeOkmWVBACtejcD3qUECPwvUoXGdRQNEi2/l+ylFA76fGSzdJP0DByqFFtuNAQPhT46WbFEJAWDm0yHYOQ0BEi2zn+ylEQI/C9ShcP0VA9ihcj8JlRUCS7Xw/NW5FQDEIrBxaJEZAeOkmMQgsR0AX2c73UwNGQNEi2/l+CkVARrbz/dQoQkCkcD0K1/NEQOj7qfHSjUZAjZduEoOwSEApXI/C9YhKQGQ730+NB0xAu0kMAisHTUAIrBxaZCtNQClcj8L1qE1ARIts5/spTkBOYhBYOfRNQEW28/3UCE9AzczMzMzcRECxcmiR7ZxGQMUgsHJoMUhAMQisHFqUSUDl0CLb+e5KQA4tsp3vN0xAlkOLbOd7TUB7FK5H4WpOQBxaZDvf/05AMQisHFp0TUBaZDvfT71JQIgW2c73c0pAarx0kxgUQkArhxbZztdCQPyp8dJNskNAI9v5fmq8REBANV66SfxFQDq0yHa+X0dAeOkmMQjMSEDb+X5qvERKQJMYBFYO3UtASgwCK4e2TUDsUbgehatOQBSuR+F65E9AuB6F61EIUkCPwvUoXD9SQB+F61G4TlJAFK5H4Xp0UkAAAAAAAHBSQI/C9Shcz1JAMzMzMzMDU0CF61G4HjVTQHsUrkfhWlNAUrgeheuBU0BSuB6F66FTQFTjpZvE8FNAKVyPwvVYUUBxPQrXo5BRQI/C9Shcz1FA4XoUrkfhUUApXI/C9fhRQK5H4XoUDlJA9ihcj8J1UkAUrkfhepRSQIXrUbgeFVNAMzMzMzNjU0DXo3A9CsdTQJMYBFYODVRA1HjpJjEoRUCd76fGS7dGQDeJQWDlUEhA/dR46SbxSUAX2c73U5NLQFyPwvUovExAoBov3SSmTUAbL90kBgFPQMuhRbbzdVBAJQaBlUMbUUAv3SQGgbVRQKjGSzeJOVJARrbz/dS4QkAGgZVDi0xDQHSTGARWvkNAyXa+nxoPREDZzvdT40VEQGmR7Xw/pURABoGVQ4tMRUDXo3A9CkdGQDZeukkMskdA8tJNYhCoSUBzaJHtfD9LQOXQItv5bkxAtvP91HgpQkAtsp3vp+ZCQK5H4XoUrkNAhetRuB6FREANAiuHFmlFQG4Sg8DKQUZAfT81XrrpRkDFILByaHFHQCPb+X5qvEdACKwcWmS7R0Do+6nx0k1HQMqhRbbzbUdAexSuR+EqUkBcj8L1KFxSQK5H4XoUXlJAhetRuB6FUkD2KFyPwpVSQEjhehSu11JArkfhehT+UkApXI/C9fhSQBSuR+F6VFNAFK5H4XqUU0AzMzMzM8NTQAaBlUOLDFRARIts5/vJQkAK16NwPQpEQIXrUbgelUVAWDm0yHZ+R0D8qfHSTRJKQOXQItv5rkxAd76fGi9dT0Dl0CLb+e5QQPhT46WbzFFADi2yne8fUkAxCKwcWoxSQClcj8L16FJALIcW2c63RUCd76fGS8dGQPYoXI/C1UdAZmZmZmbmSEDz/dR46fZJQC/dJAaBBUtATmIQWDkUTECPwvUoXB9NQCUGgZVDa05AYxBYObToTkCuR+F6FM5PQPT91HjpXlBAnMQgsHKYS0B9PzVeuplNQH9qvHST6E5ABoGVQ4sEUEDo+6nx0o1QQN0kBoGVK1FAke18PzWeUUC28/3UeOFRQCGwcmiRHVJArBxaZDtvUkAhsHJoka1SQO18PzVe4lJAT42XbhJTT0ANAiuHFplPQMl2vp8aF1BAv58aL908UEBcj8L1KHRQQDzfT42XllBADi2yne+3UEDVeOkmMdhQQGZmZmZmDlFAmpmZmZlZUUC4HoXrUbBRQOOlm8Qg8FFA+n5qvHTzRUCMbOf7qSFHQEA1XrpJjEhAKVyPwvW4SUDTTWIQWLlLQO+nxks3OU1AiBbZzvezTkB/arx0kwhQQFpkO99PnVBAYxBYObQYUUBEi2zn+3lRQG3n+6nx2lFAxks3iUHgR0CXbhKDwKpJQDeJQWDlYEtA/Knx0k0yTEC4HoXrUQhNQEjhehSuB05A0SLb+X4KT0CMbOf7qQlQQFpkO99PnVBAarx0kxgkUUAIrBxaZJNRQHnpJjEI7FFASOF6FK6nTkDhehSuR3FQQClcj8L16FBA16NwPQpnUUBmZmZmZrZRQHsUrkfhqlFAFK5H4XrUUUAfhetRuL5RQI/C9Shcv1FAAAAAAAAwUkB7FK5H4apSQHnpJjEI5FJAKVyPwvXoTUDhehSuR8FOQClcj8L1GFBAZmZmZmamUEBxPQrXo1BRQArXo3A9mlFA4XoUrkcxUkCkcD0K14NSQNejcD0Kt1JArkfhehT+UkDD9Shcj1JTQIPAyqFFhlNAUrgehesRUEDD9ShcjyJRQEjhehSuZ1FAZmZmZmbGUUAK16NwPQpSQFyPwvUoXFJAAAAAAABwUkC4HoXrUahSQPyp8dJNelJAppvEILC6UkBvEoPAynFTQDq0yHa+r1NA6SYxCKxcSkDsUbgehYtLQGmR7Xw/1UxATDeJQWBFTkCoxks3iRFQQGq8dJMYxFBAcT0K16N4UUDfT42XbvpRQI/C9ShcZ1JAxCCwcmixUkBWDi2yne9SQD81XrpJHFNAZmZmZmaGTkBmZmZmZgZQQDMzMzMzs1BAMzMzMzOzUEA9CtejcE1RQD0K16NwXVFACtejcD1qUUBSuB6F62FRQNejcD0KV1FArkfhehRuUUD4U+Olm9RRQFg5tMh2HlJAAAAAAAAAREAAAAAAAMBEQAAAAAAAgEVAzczMzMwMRkDNzMzMzExGQAAAAAAAgEZAlkOLbOcbR0DD9ShcjwJGQNNNYhBYmTdAQWDl0CILQkC/nxov3bRFQOXQItv5HkdAQDVeukk8R0ApXI/C9XhIQPyp8dJN8klAZmZmZmY2S0A9CtejcD1MQGZmZmZmRk1AsXJoke0sTkB3vp8aL91OQOXQItv5Xk9Au0kMAiunT0AhsHJokRVQQG8Sg8DKYVBAAAAAAADwQ0DJdr6fGm9FQKFFtvP99EZAF9nO91PzSEDFILByaPFKQLgehetRWE1AqMZLN4mBT0B7FK5H4ZJQQP7UeOkmMVFAJzEIrByiUUDy0k1iEOhRQH0/NV66MVJA3SQGgZWjQkAnMQisHKpDQCYxCKwcukRA8tJNYhDIRUC4HoXrUehGQI2XbhKDcEhAjZduEoMwSkDfT42XbuJLQA0CK4cWGU1ADi2yne8XTkDNzMzMzMxOQA4tsp3vh09Ac2iR7Xz/TEBI4XoUrtdOQESLbOf7IVBA0SLb+X66UEDNzMzMzCxRQDMzMzMzk1FA7Xw/NV6KUUDLoUW2881RQBgEVg4t6lFAAiuHFtkOUkATg8DKoU1SQOOlm8QggFJA2/l+arxUPkBSuB6F65E/QBgEVg4tYkBAWDm0yHYOQUAzMzMzM7NBQL+fGi/dZEJAKVyPwvU4Q0BU46WbxABEQLTIdr6fKkNAiUFg5dDyQ0Coxks3iYFEQGMQWDm0SEVAppvEILAyTkDz/dR46ZZPQFCNl24Sc1BABoGVQ4v8UEDTTWIQWGFRQHsUrkfhslFAcT0K16PwUUCkcD0K12NSQN9PjZdu8lJAJzEIrBxKU0DhehSuR7FTQJHtfD81/lNA16NwPQoXUEDNzMzMzNxQQIXrUbgelVFAH4XrUbi+UUBmZmZmZpZRQM3MzMzMnFFAMzMzMzOzUUCF61G4HsVRQLgehetR2FFAPQrXo3AtUkAzMzMzM3NSQN9PjZduqlJAFK5H4XpkUEBmZmZmZvZQQJqZmZmZSVFA7FG4HoVLUUAUrkfhenRRQK5H4XoUvlFAeekmMQjEUUAAAAAAABBSQClcj8L1aFJAuB6F61HIUkAK16NwPSpTQCUGgZVDe1NAd76fGi99QECTGARWDn1BQCGwcmiRfUJAkxgEVg59Q0AGgZVDi3xEQOkmMQis/ERACtejcD16RUDkpZvEIEBGQE5iEFg51ENA9ihcj8LlRUAshxbZzvdGQDEIrBxaFEhA/dR46SaBRkCuR+F6FP5HQH0/NV66+UhALbKd76f2SUANAiuHFtlKQPp+arx0w0tA+FPjpZsUTUCXbhKDwGpOQIxs5/up8U5Aku18PzUeTkAfhetRuK5KQAisHFpkq0hAXI/C9Sg8UEAK16NwPapQQFyPwvUobFFAXI/C9SjcUUCkcD0K10NSQClcj8L1mFJAMzMzMzMTU0CamZmZmTlTQBSuR+F6ZFNA4XoUrkexU0BSuB6F6/FTQE5iEFg5PFRAlkOLbOfLTEDufD81XrpOQH9qvHSTGE9AGy/dJAYRUECmm8QgsEJQQNv5fmq8fFBAnMQgsHIwUUBjEFg5tEBRQMZLN4lBmFFAaJHtfD+dUUBcj8L1KLRRQNNNYhBYGVJA4XoUrkdRQ0AdWmQ7389DQI/C9Shcb0RA6Pup8dJtRUC0yHa+n4pGQGZmZmZm5kdAJQaBlUMrSUCsHFpkO99JQLtJDAIrx0pAOrTIdr6vS0CsHFpkOy9MQLtJDAIrR01Aarx0kxi0RECDwMqhRbZFQOXQItv5fkZAGy/dJAZRR0Atsp3vp8ZIQNv5fmq8REpALIcW2c7HS0ARWDm0yNZMQOkmMQisPE1AoUW28/0kS0CsHFpkO+9FQFg5tMh2zkNA16NwPQr3UUCPwvUoXB9SQEjhehSuV1JACtejcD2KUkCuR+F6FK5SQFyPwvUo3FJAexSuR+EaU0Bcj8L1KExTQArXo3A9ilNAKVyPwvXYU0DD9ShcjwJUQH9qvHSTOFRASOF6FK5nUUCkcD0K16NRQBSuR+F61FFA4XoUrkcxUkBSuB6F63FSQClcj8L12FJAPQrXo3ANU0AK16NwPVpTQFK4HoXrgVNASOF6FK7XU0BI4XoUridUQL+fGi/dbFRAGy/dJAbxRkAxCKwcWiRIQNejcD0KJ0lApHA9CtfTSkDazvdT46VMQClcj8L1mE5A9ihcj8IlUEB0kxgEVr5QQA4tsp3vT1FAfT81XrrhUUAIrBxaZENSQP7UeOkmiVJAAAAAAABATUAzMzMzMzNPQM3MzMzMTFBAAAAAAADgUEApXI/C9VhRQPYoXI/CpVFACtejcD0KUkCamZmZmVlSQHE9CtejkFJAAAAAAADQUkCPwvUoXD9TQJqZmZmZmVNA7FG4HoWbREDpJjEIrHxFQHNoke18H0ZAN4lBYOXgRkCPwvUoXM9HQBKDwMqh9UhA6Pup8dJNSUAUrkfhesRJQLgehetROElAz/dT46U7SEAX2c73U9NIQBgEVg4tQkpABoGVQ4tsSUBxPQrXo9BKQCyHFtnOB0xAFK5H4XokTUCkcD0K1zNOQKwcWmQ7P09Ake18PzUmUEBMN4lBYIVQQFCNl24S01BA001iEFjhUEBqvHSTGCRRQIGVQ4tsp1FAPzVeuklMQ0C0yHa+n5pEQLx0kxgE9kVA30+Nl25iR0D91HjpJuFIQKjGSzeJcUpAQDVeukm8S0CcxCCwcnhMQCyHFtnOB01AUrgehesxTUAshxbZzsdMQPYoXI/CNU1AzczMzMyMTUBmZmZmZuZOQJqZmZmZOVBAmpmZmZlZUECamZmZmXlQQDMzMzMzE1FAaJHtfD81UUBoke18P2VRQLpJDAIrd1FA9ihcj8JdUUBYObTIdj5RQCPb+X5qdFFAzczMzMxMRkDNzMzMzIxHQCYxCKwcykhAEVg5tMgGSkCTGARWDs1LQEFg5dAi601AUI2XbhIDUEDvp8ZLN7lQQPLSTWIQgFFAg8DKoUX+UUCmm8QgsEJSQFCNl24Se1JAexSuR+HKRUAmMQisHApIQAaBlUOLDEpAX7pJDAIrS0BxPQrXo4BMQDeJQWDlwE1A+FPjpZuETkDo+6nx0o1PQNNNYhBYiVBAPQrXo3A1UUCuR+F6FLZRQH0/NV668VFAd76fGi/9Q0ANAiuHFklFQHjpJjEIrEZASgwCK4cGSEA2XrpJDIJJQM3MzMzMLElA6SYxCKzsSED91HjpJsFJQJqZmZmZaUhARIts5/tJRkDy0k1iEOhHQEw3iUFgxUlA7FG4HoVLUUB7FK5H4ZpRQHE9CtejsFFA16NwPQrXUUBxPQrXowBSQHE9CtejMFJAw/UoXI+CUkCcxCCwcsBSQHsUrkfhGlNAy6FFtvNNU0CgGi/dJJ5TQDMzMzMz21NAXI/C9SgcUUCPwvUoXF9RQD0K16NwjVFAcT0K16OwUUD2KFyPwtVRQLgehetRWFJAmpmZmZmpUkDhehSuR8FSQPYoXI/CBVNApHA9CtczU0CkcD0K11NTQHNoke18j1NABoGVQ4uEUECJQWDl0MJQQNV46SYxEFFAy6FFtvMdUUBQjZduEitRQBFYObTIXlFA7FG4HoWzUUCYbhKDwPpRQOOlm8QgMFJAg8DKoUWOUkDP91PjpdNSQH9qvHSTGFNAJQaBlUOLS0BqvHSTGPRMQMP1KFyPYk5AWmQ730+9T0AhsHJokW1QQHe+nxov3VBAz/dT46UjUUBcj8L1KIxRQJqZmZmZyVFA001iEFgJUkAbL90kBjFSQCuHFtnOb1JA2/l+arw0RECoxks3iXFFQFg5tMh2rkZAJQaBlUPrR0CNl24SgyBJQG4Sg8DK4UtAnMQgsHJoTUApXI/C9WhPQO18PzVe6lBAXrpJDAKrUUAMAiuHFkFSQA4tsp3vj1JAFK5H4XqURUDazvdT49VGQMZLN4lBEEhAVOOlm8TQSUBqvHSTGERMQFK4HoXrYU5ARIts5/sZUEBt5/up8cJQQMuhRbbzbVFAoBov3STGUUBI4XoUrhdSQF66SQwCW1JAoBov3SRGQEBcj8L1KPxAQNejcD0Kl0FAy6FFtvN9QkAGgZVDi+xDQGZmZmZmFkZAWDm0yHaOSEC8dJMYBHZKQOkmMQiszEtAw/UoXI8CTUCBlUOLbCdOQNNNYhBYWU9Av58aL90ERUBg5dAi2wlGQG3n+6nxAkdA/Knx0k3iR0AEVg4tsg1JQMUgsHJosUlADQIrhxbpSUANAiuHFmlJQM3MzMzMDEdAWDm0yHYeREBjEFg5tJhDQP3UeOkmMUVAfT81Xro5SEB46SYxCDxJQOj7qfHSLUpAj8L1KFz/SkDhehSuR9FLQIPAyqFF1kxAWDm0yHYuTkCxcmiR7SxPQMZLN4lBME5AZDvfT41nR0A830+Nl/5DQHSTGARWvkVA\",\"dtype\":\"float64\",\"shape\":[1704]}}},\"id\":\"bfaa26c2-f573-43d4-9947-192964516bc7\",\"type\":\"ColumnDataSource\"},{\"attributes\":{},\"id\":\"89289f26-340a-47b3-bff8-8d005efb760f\",\"type\":\"SaveTool\"},{\"attributes\":{},\"id\":\"c068fe71-8980-4f0b-bf4f-a5e65d509730\",\"type\":\"WheelZoomTool\"},{\"attributes\":{},\"id\":\"b1570718-eddb-45f2-a3a8-b8bdad8f30ca\",\"type\":\"BasicTickFormatter\"},{\"attributes\":{},\"id\":\"5114a733-ce81-4c60-8818-187446c3aa47\",\"type\":\"HelpTool\"},{\"attributes\":{\"dimension\":1,\"plot\":{\"id\":\"fb318294-56dd-4d39-ab51-2ef4b18b0ccd\",\"subtype\":\"Figure\",\"type\":\"Plot\"},\"ticker\":{\"id\":\"02c80d44-0cda-4abc-af65-1baf5539af45\",\"type\":\"BasicTicker\"}},\"id\":\"ff7a87fb-91fb-445d-ada0-5383df981372\",\"type\":\"Grid\"}],\"root_ids\":[\"fb318294-56dd-4d39-ab51-2ef4b18b0ccd\"]},\"title\":\"Bokeh Application\",\"version\":\"0.12.13\"}};\n",
       "  var render_items = [{\"docid\":\"594ddda0-3e1a-46d2-8161-92a34cf6d96c\",\"elementid\":\"b922fcc7-faeb-4bc6-afae-926a9dfc811f\",\"modelid\":\"fb318294-56dd-4d39-ab51-2ef4b18b0ccd\"}];\n",
       "  root.Bokeh.embed.embed_items_notebook(docs_json, render_items);\n",
       "\n",
       "  }\n",
       "  if (root.Bokeh !== undefined) {\n",
       "    embed_document(root);\n",
       "  } else {\n",
       "    var attempts = 0;\n",
       "    var timer = setInterval(function(root) {\n",
       "      if (root.Bokeh !== undefined) {\n",
       "        embed_document(root);\n",
       "        clearInterval(timer);\n",
       "      }\n",
       "      attempts++;\n",
       "      if (attempts > 100) {\n",
       "        console.log(\"Bokeh: ERROR: Unable to run BokehJS code because BokehJS library is missing\")\n",
       "        clearInterval(timer);\n",
       "      }\n",
       "    }, 10, root)\n",
       "  }\n",
       "})(window);"
      ],
      "application/vnd.bokehjs_exec.v0+json": ""
     },
     "metadata": {
      "application/vnd.bokehjs_exec.v0+json": {
       "id": "fb318294-56dd-4d39-ab51-2ef4b18b0ccd"
      }
     },
     "output_type": "display_data"
    }
   ],
   "source": [
    "from bokeh.io import show\n",
    "from bokeh.plotting import figure\n",
    "\n",
    "p = figure(height = 400, width = 400)\n",
    "p.circle(x = data['gdpPercap'], y = data['lifeExp'])\n",
    "p.xaxis.axis_label = \"GDP per Capita\"\n",
    "p.yaxis.axis_label = \"Life Expectancy\"\n",
    "show(p)"
   ]
  },
  {
   "cell_type": "code",
   "execution_count": 12,
   "metadata": {},
   "outputs": [
    {
     "data": {
      "text/html": [
       "\n",
       "<div class=\"bk-root\">\n",
       "    <div class=\"bk-plotdiv\" id=\"427030c9-5fe1-4a3f-97bb-2d88c8e0a8d3\"></div>\n",
       "</div>"
      ]
     },
     "metadata": {},
     "output_type": "display_data"
    },
    {
     "data": {
      "application/javascript": [
       "(function(root) {\n",
       "  function embed_document(root) {\n",
       "    \n",
       "  var docs_json = {\"89c9587f-f7a5-4121-b58d-c118ac3fc26d\":{\"roots\":{\"references\":[{\"attributes\":{\"fill_alpha\":{\"value\":0.6},\"fill_color\":{\"value\":\"orange\"},\"line_alpha\":{\"value\":0.6},\"line_color\":{\"value\":\"orange\"},\"x\":{\"field\":\"x\"},\"y\":{\"field\":\"y\"}},\"id\":\"fdea7023-76be-4e3c-bf33-68bae90edb01\",\"type\":\"Circle\"},{\"attributes\":{\"source\":{\"id\":\"026ec7ba-b35d-4105-a9a6-4426bb9dd109\",\"type\":\"ColumnDataSource\"}},\"id\":\"e732ee21-e134-41f0-a584-45379af3cd7f\",\"type\":\"CDSView\"},{\"attributes\":{\"callback\":null,\"column_names\":[\"x\",\"y\"],\"data\":{\"x\":{\"__ndarray__\":\"em8MAZBbiEAp1C4B06aJQApjC0HOqIpAV04xvZMhikBTZ/9N2R+HQGWlSSnokIhAP785bReQjkAreBvlKqOKQBgYaC27SoRAqKs7Frvag0DGex9Y37WGQOeEdYikdI5AgzC3ezkEmUBX8NsQI1meQAnDgCXHEaJAI9kj1GSQpUCHiQYp2OKpQELUfQACmqtAvHX+7cJdrECsIXGP3TWtQMZTjzTggqNAdjQO9RvyqEBaYmU0NvyxQGEUBI8HMbdAowbTMAQio0BKYkm584unQINpGD6i7aNAPpRoyftdqUAyjpHsqVawQGpuhbBqLrNAZRu4AylxtkBXPzbJWzG2QMeDLXY3n7NAp1t2iEu9skBZiXlWCqi0QG2tLxJeT7hAQ+GzdTiBq0AQ5KCE4eetQG5PkNhGrbBAbxKDwMaStUAVGLK6SWG1QM5THXJLgadAOUayR+iJpUDLSL2navyiQHDTn/2wh6RAD5nyIUjKoUB/944ak6qlQKVpUDQ7vbJAgjtQp1AXt0ByqrUw28i6QGO7e4Aq3btAZisv+fN0v0AGg2vuhHHCQMBgN2yDr8NAhXtl3vKSwUDyIhPw1dnBQEEOSpg1LsJAjgbwFqRrxUADXfsC0i7BQCEkC5iw9chAGXjuPcybw0Do3sMl02LFQGKcvwmd3MdAufyH9A9fzEBfe2ZJKGXQQKj7AKSM59FAISQLmEAF00DLFd7lOGDVQOYivhMx4NZAGkzD8Htd2kDUDn9N8PfdQOeHEcJr0OBAaM76lBP5t0ADPj+MTEXBQGgdVU1c/8RAjnVxG00RyUAYldQJaEXQQEaU9gZbSdNAUrMHWkUX1UCNtFTe9CHXQEaZDTKBaNpAsOsX7Ppp3EAGmWTkZqjfQFjKMsTPo+FAbVuU2YpFw0BlqmBU5rnGQOmayTej6MhAApoIG1bqzECBzw8jKtfRQGA8g4YG49JAGOyGbcnC0kBJ9DKKARfSQDQMHxHlltJAOl0WEwHR00DoZRTL49rWQMWnABgDGd1A5WQ9EPRhhUCrMGyDGa2EQJgGj4C7coVA5vnCGn2JhkDVB5J33rGDQP3PUJIEn4RAigha3NonhUC0kIDR1X+HQBenazd7LopAJwY3CClmjkCDxeHMj8GRQPLPDOIDvZVAdjHNdI1LwEBlyLH1evnCQA+XHHead8VAdsO2RYWuyUBBSBYwCUjQQKdc4V1+q9JAgc8PI/Z81EBCsoAJZP/VQIpZL4bk+dhA2/6VlUzq2kD2KFyPeMXdQG+70FyTc+BANIC3QAKbkEAbDksDz/yNQN2gURX+q41AI7pnXVMvkEB6bwwBMPeQQMpt+x6lFJBAdxGmKJf3k0AyrOKNbCeTQAH8U6rUnJJANDDysuZDk0CUFFgAg3OVQA5qv7UjhZZASzj0FqfqpEDKGB9mX5+gQLafjPHxCaFADCO9qMU1pEDH8UOlqUinQAExCRcyuKtAW+z2WQWpqEAFL/oKYoOlQGq+Sj5mI6dAKqxUUEn8qUD5vU1/hqqqQJ3B3y9G3K1ALaOi+0NsjkD0p43q9CeVQNkHWRa8tppAuJbJcLT4oED+1HjpVlimQM3km232kKtAUG7b95wesED9+bZgHdqwQD8djxmQ5aNAhEiGHFueskDJWkOp+YK3QPJ4Wn5MFr1A4OEs2+2ZikBt9UE73LGMQNmS+lc7vY5A/5QqUdb6kkBCKO/jOK+hQNe/6zO3HalAIEHxYyTHsUCSXP5D4j24QMNHxJQcEr9AZvhPN5LjwEC77UJzzX3FQNyizAbtjMhAoaF/guN5oEBkA+liu26jQN1fPe4rEapAIy4AjbrLqkAvibMitnmzQIrJG2AeBLpAcsEZ/NV2u0BfSIeHGH++QBRzEHRIJrtAIRtIF/sVv0Aw/OB8NsO/QGkAb4HmtMFA7tKGw5IYo0AXg4dpV4GnQFDgnXxWnrBAbjSAtwDJtUA1Cd6QfsW5QLdCWI09vL1AsI7jhxgQwEDrcd9q7RfAQBb9oZmfnrhA/n3GhWNSt0BIUPwYxxC+QM8xIHtl3MRAtWDzuwr6gEC8n2S8d0mDQAefQZ4YlIZAiP1Uy5zWiEAN2YpH47WKQMryv6YYO4dArp/+s5Y5iUAdhG9QgYCMQHgu560FHo1AjaTuFFySjUDFVtC0lDaQQNvbLckhBJNA1VF6S740dUByfnm3CLl3QHjyRGtAM3ZAVPZM5aPPeUAxxWaRlwF9QIwap3zTYIFAd0fGatN8gUDFZuzwjG6DQJIxiFmZvYNATTM4pdfxfEBiyKDJdOZ7QKLhg40h4XpAvgeeMYIHd0DxA6EGnSB7QBoh8kyeDn9AxbQlYXVbgEDRVV8C/Fl6QMNN/AfHZ4BAo4+ex82Dg0BlKUgiKl+FQJbLRudsUoVAZ341B0jyhkApDxzhzgGMQGnf3F8dx5pAC5jAratSkkDiP91AMYSUQAB1AwVu3pVA/oAHBtCRl0DMn28LllCaQElJD0O73ZtAfgG9cPd/okCdD88SVFWkQKEYWTKnBJxAqDl5kVl5mkBJYkm5CzieQBU1mIZh6J9AXoWUn5QzxkCe6pCb+WTIQEmdgCY+S8pAiSmRREtmz0CmYfiIpIbSQBoXDoS4ktVAd/hrsrJc1kCeY0D2oADaQEpBt5e4udlAbCHIQbtG3EALe9rhHkbgQAixM4Xnu+FAxXWMKz69kEBj7ISXYJuSQAK6L2dGpJJA2lVI+TnAkUBrK/aXDbiQQJrudVJ/VZFAifX8HwbmjUCynv/DAmeKQKL9/oM+X4dAbWOi9wwkh0Apo9tchhWHQGSRJt4hEIZAGHrE6KlqkkCZfol4+3GUQHwqpz1Ft5VAIVnABD6zkkDWcJF7akCRQMiYu5bwt5FA01M/ykPviEBLGM3KFsONQIj029dBiJBASnfX2bBnj0DNAYI5uhCSQOE/3UBBoJpAX/HUI/XHrkB3R8Zqn9uwQACQEyYYp7FAWYgOgafys0DQ04BBBna1QIKPwYrDlLJAtTnObarns0D9oC5SEKu1QHk8LT8grL1AZiyazgbDw0B8YTJVZA3FQIY41sXRuclAA1q6gi0HeUD7VLpg5f+BQH22acfIen5ABtCUQqUlg0Abp3xjMyeFQEZynlbmKYdAYFW9/F4TjkD7A+W2nYuVQJaTUPoi35lAon2s4HfioUAou5nRj16oQNBdEmcdX7NAzefc7TrAoECP4hx1nCeiQKoQj8SzeKNAsRh1rXXtpEAK2uTwUYGpQNf6IqGdz61ApmJjXpMtsUCOBvAWOCezQKGCwwumRLVAdsdim1zlt0A0oN6MQnu2QPruVpaUXrtAt0Htt/Y7kUCMh/ccmOySQN0iMNaX+pVAOQ68Wh5QnUDeAgmKT0aeQM4bJ4VpUpJAi28ofGbMk0AZHvtZ7I+UQHztmSWhe5NA+IiYEnlWkkA7cw8JP8+QQBM+Stsu0Y5APkrbrlZkiEA5bGzA4U6MQNCFkV6EAoxAzhTf9b7sikDPM/YlK0eMQMx+3ekO3ohA21YOiPsNhUBjRKLQMgaFQKEmn8OBm3xAB+3VxwODc0Ca1TvcTiVuQDXIyWnUWHFASwaAKj6boEC9UwH3HBaiQERN9PmQQaNA5pfBGOHrpEBPV3csThqpQGghAaNbdqlAADj27IEPs0DHJ2TnMWmwQOOKi6N6YK9AflAXKVQ4q0CrJoi6HzirQIwPs5cdYaxAhgZi2QSGpEB2+daHBVynQBKlvcHfCatA6zpUU7pBsECCV8udJf6zQKzI6IDgJrdAtDukGLyOtEBxy0dS6v21QMU7wJNqELhADcSymQsVukDwG197ciu+QKlNnNyH1sJAiudsAWGylUCt+lxtlXOXQOloVUt6A5tAqtiY1xkIoEC7XwX4ZpSiQO85sBx5q6NARGtFm2tVpEBxP+CB6dmgQPUu3o9LwJlAhUTaxg/pm0CKy/EKNMOZQFkxXB0AI5hAs0EmGXleqEAzcEBLO/KwQNo6ONjjZbVAwVWeQEwwu0C+EkiJC+bBQLMkQE2xFMZARpkNMunSyUBqwYu+Sv/KQL0BZr7lf8BAeV2/YM1Jw0DkFB3JMbbGQBTGFoKcjcxAvW987YnStUDEmsqiLMy3QLhYUYPBPLRA1ouhnEQ6tkBZFkz8cbm0QKF+F7Z+7LhAOnMPCeuUvECMmUS97Gy9QAmM9Q3Y2LVAeGLWi/03tUDhXwSNpcS4QIGzlCwNesFARIts5yPcukBBSYEFLCDAQLGnHf5uzMNAKdAn8rhDxkC8lpAPOprJQIo3Mo8U6MxAwFsgQZ0IzkCGyVTBONvPQAJDVreC7MtAJsed0kFYz0A9lj50DS/RQB+6oL5TTNZA+Um1TzHuwkBPr5Rl1K3FQHx+GCGoh8pA+KqVCZsgz0Bau+1CjWzSQFYOLbK58dNACW05lwIu1UAUlnhAC4fYQH3Qs1mvydlATRB1HxYb3UCDqPsAoGnfQLFtUWbNOeFAGeJYFw/bpECuvroq8GGmQEkQroD6madACwbX3BmYp0B8vma5bNysQBLzrKSFE6hArVJ6pu9+pkA7+8qDNICmQMzXZfhPkqJAOfJAZBGcnUBtBrggC9GdQKsn84/2RKBAAWcpWd7WlUDOpbiqnCGYQD9z1qeM+JlAo//lWuTWmUDFOlW+vxuhQAfOGVH686RAN8E3TS9apkAFxY8xr6emQLEYda1tyKdAJ6Wg2zM8rEAiOC7jztOxQB1Av+9fibdAOQzmrziEq0CmzqPiF4mtQGN+bmg67K9A3xXB/xLjsUABh1Cl/qC0QOik942fF7pAaF95kMotvEA5ZAPpxlG5QFYTRN2zv7tA/+VatHQFvUBHcCNlC422QOX2yydD2bpACacFL0orlkDHKxA9qcuWQA5N2elXdZpAsJKP3YVbnEA96q9XCKCfQMqnx7b8wqVA+IvZknVfq0DiXS7i61quQDVG66iCpa1Ag4k/ii5NsEA/O+C6mpKyQKSK4lUuzbVA63O1FZvQp0BbzTrjC7uqQF6G/3Sbga1ARPesa5gGsUCOWmH6PqixQK7UsyDsErRAGlHaG1gCsECp3EQtcSywQHzysFA7XLFA+7K0U9MitEBYUBiUkee0QK685H9aYLZA1pxyO0p6d0AdSTjjiqF6QFZZgFu8NoJArW71nMScjEBaUHNNTAOFQL2H8NSI9I1A8QNGTZr+jECGUEqtLDeOQKw41Vo4sJFAx/SEJfb8pUAWak3zfhe+QGiR7XwLvcdAVQiahQyPdEDvYqsVl4J1QA5XYvnuz3dA35xbMrhMfUDCAHj6lxKAQJGvqZgPnH9AzB1HvQFngEBwxnq0EkmAQEOCmDreNoJARiqMLcSLjEBoIJbNzOqHQM4Iysj0CoRAJyFHKVeidkDy49Rzd653QOPt93pNN3pA/EaF+/IggEBlSASZ87GBQAlNt5F3ZoFABCVgz+IOgkB9qCM27u2BQFX8OsunVXpAKcRtfh0fgEBY/iGibZCAQJEHx9FxloVATUnW4YQYuUA3pbxWanm9QPHxCdnrTcJA4Ln3cNFUxUBIv30dcAvMQOMeSx+2es5A4UBIFkoZ0kCCVmDIQKXUQIs3Mo/KKdRAKqkT0Pwq10AAHebLJYvbQPmgZ7PiNuBAxeQNMM91u0DACvDdauvAQJ3X2CU+oMRAbATidfVjyUAoCvSJmHXPQBk+IqYo3dFAXhH8b3nR00AQkgVMnIzVQC0hH/TyH9hAZ2FPO3JI2UCWytsRgj/cQHbgnBGBwd1AXf5D+nnFsEBftp22MnCzQJqvko9157lAfT7KiGFTwECZtn9l+UTGQN2YnrBkPNVAj8cMVK6EzUAxDcNHNCzHQDuInSkUacpAlU25wmvBzED7Bbth23TIQCFZwAQ+y8lAZrCYx7BTfkC5WoLnaUeAQP1K58MzvYJAEI2TZ0P2hkDY5DrXsaCHQEEG4cAKpotA5yM6FXoeikDb6PdYRR2DQK+BCMz+zIRADySUY9dthEBhQOVOr6SEQI5zm3D/hYdA5RHcSB3ou0CfzarP6eXDQH+HokA7M8lABg39E9DMzECcLouJC5jRQIasbvU6CNRAUoNpGOKD1UALe9rhyw/YQMgkI2dT4tlAHNMTljgj20AD7KNT81TdQL5Nf/aXat9AfWAiOWR6jED5KY4DP06QQBtF1hoqmJJAUaBP5MmWkUBqv7UT5WiSQKghBarKCY9A6C6Js0Jgi0CDFDyFDHiKQMk1BTJ76IxAtidIbPdpj0BxGTc18F+RQNRgGoZvvpRAGTp2UGGVq0Buh4bFTDSzQES94NMwgbdAmDEFa4ygwEDfiVkvatrIQPpmmxvDuctAnDi53zXSzUDFlEiiQ3zPQO3YCMRfIdFAAmVTruxO0kDBqKROkPzVQHjuPVya5NpAAr7bvHn4okCDGOjaT3KkQFGGqpi6fKVAvOR/8g9VqUDQgeUI0X6vQCuhuyT+D7NAY7SOqn7UskC1xMpofJawQLoPQGpzV7FAQtKnVVBMskCGrG71WPqyQLQh/8wMQrRAqCYc1STjf0DZtb3dIgKCQPPevUj9coVAzOstihMmhkC74MJwVC2HQPMPbKZ8VYtAaq6JuwDKikAOVxhslCyJQF1lEprJ0ohAnAZWH5kri0DVT+4tq4yNQHF5B9M7dY1AroIY6Jq9ckCG3tG1pfx6QA7bFmVGUIBA8m2wJqVchkCzaJX0y6GJQOaglcXO5YdAPYJ24v0wikAi5Be5UgOHQJNYradRTIdA4rWm1FDliEBTJ/tCo/2BQJ3wEpzaGYJAgnLbvnfBnEDUYvAwjfuaQDFhNCtbEpxAXcDLDDuwlkAn+Kbp09mZQArT9xoySZ1AbyTQYKNsn0CZR/5gEHycQDlCBvI8wZZAzJ2ZYOj2lEAO9buwddmTQBAiGXKMxpJA2SJpN9oloUCygXSx+VihQL1XrUxQ5qFA1bFK6YnUo0DmBdhHr8OjQNJyoIdqBqlA/YnKhoVjqEAcBYiCMZ6nQGghAaNjE6hAgnFw6eiwqEDPa+wSdTeoQAecpWSpuKtAkL+0qNfcp0AaNV8lJ1qsQOleJ/WlVLJAInL6evY1uEB5knTN9j3AQEjhehQS2cVAGW7A50NwzEDKjo1AnpHTQEpBt5dmLdhAtgvNdWi220AOpmH4QIDdQHK/Q1GfZeNAhZM0f6yPtEDsbTMVLpi3QJUp5iBcfr1AW+uLhFI3wkBKmGn7U9zDQFSu8C5rzcZAumbyzf6AyEBeEfxvPV3JQPOOU3TQk8RAxLEubmPgxkC5GW7A9/3MQEJ4tHE8ltFAp0HRPLBjvEDptkQuAA7CQA39E1wUN8RA12mkpfIDykCvPbMkCNvOQFjFG5m9MdNAFK5H4Wa51kB1B7EzzUraQG0csRYZjthAL1bUYEZn20DHounszG7eQApjC0GZquFA4amRp4YUgUDdQ8L3fnCCQDcSDffGkoRAllPxNSrmhUDlCYSdQqCGQIOpZtayaolAYzcizsm9ikCpO6r1GYSOQODaiZKgMZJAggGED0XLlkAb17/rE0ubQLNfd7prKKNAWLFTB3Rth0Bh8B/BM9eKQN52/HJRiopAmkbuRHTTh0AKMCx/blyRQNifxOfOmpVANPeQ8H2zl0DKMy+HbVGbQCVcyCNInqJA4Qoo1KteqEAAV7Jj03OmQIHuy5lNqatA3PC76aa2p0AWhsjpg7SpQChk521UW7BADI6SV7sSt0CjOh3I6MbCQEDZlCtMOMdALQd6qFW4vUClpIeh4fK5QCMqVDenQ7xA5rD7jssjwECvlGWIYQzCQKmHaHTbqsZA6Po+HMQhsEAwuVFkVVW4QMDPuHDeSsBArDsW27pxwUA7G/LPBLTCQCIVxhYesMxA8DMuHPRazECJB5RNyb3GQPFfIAhIQ61AfQVpxnoIqEAHXcKhtyaxQG1VEtkPd7FAJ2iTw0datEBGXWvvE9+1QHH/kemY57lAoiWPp5HnvUCakUHuYp3CQJD3qpV9x8VATX/2IymlyECqmiDqbhjLQJCg+DG0JdFAxCXHnXzy10BYVpqUoaPgQCxlGeJ/3ONAp3hcVAvtr0CKkpBIRwm1QGTL8nWhwbtAkIZT5t5kwEAtCVBTd/nIQK31RUJP/clAhlrTvIMDzkCqtwa2nrjQQLecS3HhoNFA28TJ/SZo1EAjFcYWZmTVQG6jAbzR7NhAg7uzdmdDs0CXAtL+p2i4QJT7HYrKGcBAx0YgXjOTw0AmGTkLo/bHQF66SQz+18tA5/up8V4m0EAcd0oHz8HSQKDgYkVpf9VABK3AkMEY2EDc0mpIBlDbQLyWkA9u5ttAImqizw+lpkDcZ5WZhpSyQIlfsYYbfrRAVl9dFbTst0CRv7So4wm9QPt2EhEy+rlApgpGJQ20t0D36XjMPM+4QM7Cnnbs7LxAfL5muezRu0DyXUpdxlK7QOq12VjhmLxAQWFQpukhqUB9lufBsd2wQAd7E0OmsLlAMv0S8eQ7w0BxyXGnZN3MQBGN7iCYONBAN+Dzwwbu0kCc/uxH/NnVQBR0e0k5MtpAn+V5cCUk3ECgibDhJe/bQItUGFsE6t5AUoAomKErmEBodXKGUnidQP58W7AEWKJAwJZXrpdrpUCKHCJutn2gQKSMuAC0SKZAev1JfGpBsEAofLYOrmCxQLzkf/Ivz6pA9NxCV8J6rEAstHOa1QmuQN16TQ92p7FARzZXzVOsikC4SmargYONQNlN3yG7B4xApKfIIfKCkEBtjnObcBmTQBvXv+tzzpNA7YLBNecQlUA/5C1Xv0eVQCY8odev95RAf1NYqfBBlUDSyOcVDx6UQO3Vx0P/3JZAz9iXbBwBkUD5FADjiYyYQEnajT7GVplA2e2zyhS/oEC8JqQ1PuusQPSKpx5NCrBA0R+aeYYKsEBUGFsIfgqwQCJQ/YMgHK1An8w/+gZrmkC4WbxYCLuZQCtqMA1D5JhAXRd+cF4akEDdzynIXz6XQKtY/KZgAZhAYXMOnum0n0AU0ETYwK2nQMNHxJQ4MbJAqBlSRfH2tUBcVfZdi6rAQF/SGK0jpMdAzHoxlMM8z0CkU1c+f8jSQBIZVvEIzdZAbHh6peV1+kAawFsgMrf7QJDaxMkhTvdA3jzVIe6/80BaZDvfPbL6QPMau0Qv8OxAX3tmSYKe3kB81cqEm3XbQPcBSG2dDuFAm1q21pOt40CQFJFhwyThQEgbR6xfGedAy7xV183iskAdsoF0ycm3QMfWM4SPUrZAmPijqPt2t0CD+StkYj69QFYL7DHZ6cBAlQhU/4TYvUAtXFZhFwG1QKbW+43O6rpAINJvX3sZwUBA2ZQr+DDCQHeE04KHbsRArO+yFYqtckCRjfYu9P90QO101l3PvHlAb+zZczkqf0C+aZ8zTgl/QE2UztH0SodAr3IN2BrqiEBo6zsa8i+IQI0j1uLji45ABDi9i5eIkkCjkjoBveyTQBUaiGVThZhA47H6fpX8gUCNZyuKwmeDQD9XW7GP0YNASVaPRdRMhkAxYTQrCxiJQNILiFqUAoRAQnLXt5jhgUCTPghc0qF/QG9UAr375INA5yhRQGQJg0AfmbPj25uAQHXmHhIe6HlAfgBSmxinokBLsDickfCqQDGwjuMHZbpAr1+wGzBV0kBP5EnS34TUQKbQeY3Nb9VAf2/TnxH10ECX/5B+S/3GQLyYZroR1MJAGO5cGLl9wkCPGD23Vp/CQMYzaOi/jMdAflcE/wuMlkAOLbKdz9SYQNFXkGaMrZlAwk6xajCImUDyeFp+QFKbQEvJchLqIJhAejnsvoNblEAiOgSOxA2SQIi/Jmu0QpBAPiiD/l3SjkDpbo2+GPWLQDL/6JsUU5BAecMiK6QSd0CfnR266gV6QFnuu9hqvnpA2BmVijz4fkCCFOHL+USCQAsP9RbKuYRAkbAUbm7Gg0AtGWyPI9yDQM7BM6GZmYFAMtMH3DSihUCjKgGMYsuEQFKgqp3MuodAV19dFYicnEBhBI2ZREicQCuLwi6K059AXRlUG3zLoUChEAGHMEKmQONzJ9jX561A+s+aH1s4s0AJwap6zYG0QLlRZK3pbbxAkWEVb3TKw0C6TiMtfe/DQFwgQfHTUchAIt7fRWRFfEB1F81vHaZ+QLEErRvKAn9AKvHKPxQIgUA1DlB18yqCQOdk84Ipc4VAYYyjzRxQg0ALS5dZX2GFQArXo3AdGIdA+d46WhCyiEDQo/MrR7uNQAqfrYNTSpBAUJYQYu04h0DMc45L9nCKQCcQdoqVf5BAb0p5rZQ0lkBrSUc5aMuYQFtdTgn4ZZdA4Cwly5kkl0CastMPajaWQFYqqKh6RZVAO088Z4ssl0B2hxQDFKyYQOd1xCGbLJxAPBbbpNK/nkB6w33kJsifQNDzp40iwqNAWMaGbsZWo0AxsI7j9x6kQFwk7Ub3/axAkbWGUhPQrEDtZkY/lq+yQDksDfxAqrdACY82jrQBvUCA7zZv6J7BQDUpBd1+ZsVAZktWRUAsq0CnIarwiyOwQKzFpwCc5bFAF5zB37t6tkCd+dUcaJm6QHSaBdrt+r1A6Zyf4pLFwkCKA+j3E/jAQIIclDAxgMJAyol2FaYTw0B0e0ljOPvEQEEOSpjJZMdA8L+V7IiUiEBqbK8FTYWMQKFI93NqgZBAipP7HSook0DMXUvI9zaWQAjm6PELvplAxR9FnWlCn0DaAGxABESiQOARFaqb5ZtASZ2AJgK5nUBdVIuIermgQE3BGmeLL6hAA+/k0yuvpEBEigEShcSsQNszSwKYKbJA9dkB19kTt0D9ogT9aWK+QLGFIAf3vcJAPdUhN0vrxUCzJEBNQerGQCP7IMtWW7tACahwBJ1BuUA0FHe8MZ25QEvnw7PyEsJAyXGndNBgmkBL6ZleAqiZQHapEfppeZhAXtcv2C28mkAnwoanxyieQJyIfm09haJAwTdNnz0dpUBqUDQPGIalQFcFajEYCKdArFW7JjRMp0DXoC+9/XSpQI4ev7dZ2K1AMz/tpmpIfUBEe1CrY/l+QNsPHad9ZYFA7SNcbVq1gUAvXXepV6eGQAUHxaAdZX9AMhaX9GHjfEAlpCTaBF54QFaMBGRZrnlAUSYkiImFfUBlrfyN8cyDQL3HmSZ8vYlAAAAAAACwdEAAAAAAAOB1QAAAAAAAQHhAAAAAAADQdUAAAAAAAFB2QAAAAAAAMHdAAAAAAACAekAAAAAAABB4QAAAAAAAsHVAAAAAAADweUAAAAAAABiDQAAAAAAAgI1AyZI5lo/vokBssdtn5XqkQF3Ed2JuyqhAmUuqtmOjrUBaKQRyKUStQHWqfM/4SK5A48EWuxlfsEC1os1xdtusQJDcmnQTua1ANIXOawx3rkCvWMNFptCvQLtiRngPy7JAL7cgAO0OgUBbExyofa+CQOiUkcQsY4RAr3N4rYkjhUAUSOQWThaFQCZ+1kbmsIVAffYSGfxyhkDRfv9BDz2IQAfKEkLsDYxAJ2w/GSOXj0A41zBD04SQQEjfpGlwDZFA+pekMsl2wUDfVKTCGAbGQP7PYb5s+8hAw4GQLKABzkDnqQ65r1rSQPvL7slDttRARzgteN3l1ECqtwa21BjXQH0Faca8KdpAeO49XIiJ3UCy17s/mHfgQJbnwd299+FAzhQ6r0mexEC6g9iZsuvHQFg5tMjWu8lAqYx/n/U/zEBmTpfFBFfPQCv2l93btM9Aklz+Qxo40UCDaRg+zI/SQEsk0cvU7tFAhCo1e5qO1ECqglFJc6XWQAQcQpVAmNhA5GpkV7pQqEC9UwH31AKrQO9YbJO6ZKxA3uukvmQjskDMmljgl1CyQOhOsP9ebrVA5YHIIq0cq0AAAAAA+BenQAmkxK5N9KBAWycuxwuaoUDZ0M3+GFWjQFJEhlWkeqVAGcdI9gjPh0ApYabtLxyKQGf8sf8gLo9AGcbdIIp5kEAXzRSErNGNQAwRgTQtR4lARrLs7sZtjEBvkFpyZuKEQEtZhjh2KYJAgmOFEXEigkAazBWUmMiCQEkHkEZqXYNAuvjbniDVkEBIx9XIXjKRQAn3yry1+5FA8NWO4hy0j0DEdYwrjomaQItoO6bO955A7FG4HuWjmECwWMNFHqSVQKVL/5JkT5lAK/aX3cNjmUDzGrtEJT2ZQN9UpMLod59ACcTr+rW3w0DaIJOM/MLGQIL/rWQzRcpA9kArMPD0z0Cm0HmNQ4XSQOPfZ1zWw9ZANEbrqKiu2UAJih9jPs3eQHgLJCi1leBA+PwwQmUo5EDufD81f9HlQFZl3xWmGehAKSSZ1euQnECYw+47foWhQE5Ev7ZG2aZAXWvvU/FwskCh1jTvBL3EQDkQkgUsJMdAZ9DQP2VNyUAxDcNHzrDRQM5wAz4tLtJAMhtkkoM900BAMEePtU/TQJhp+1cMy9VAEiBU88ZkhUAXclsRq1iHQMevae+9GolAb5IwHURzjUBDOjyEwWeQQDfBN02vX5JAGTvhJbiNlkD1K50Pv6KaQNfEAl9Rz55AIA99d7MCoECpFhHFbFmgQLCsNCnlW6RAHVcju8Jgo0BoXDgQmiOnQP4pVaIUoatA6zpUUwJFsUAGFOrpP/S0QD7pRILp57RAV5dTApphu0BSZRh3x3q7QEtZhji+2rlAl1RtN7HJu0CindMsCLy8QHui68KXKMNA+WwdHDyBnkD66T9rnvifQG+cFOYNyKBAQNzVq8D2oUCaQ1ILrbajQHmQniK/YKlAIhYx7ICisECLVBhbwD2vQBtmaDxpZLBA3UCBd2aXsEAd5WA2WY+tQOCik6XWTLBACDnv/wtdrUDyyvW2QZWwQNY3MLkJXbNAvJF55BectkCJldHI0zG3QOAoeXVKibhAO6jEdYAiuUCbxYuF8di4QEM6PIRhXrFAOpUMAFnOtkCIDoEjBRW3QIh/2NLn8LxAwqONI4bjk0BJfy+Fxy+YQI2VmGc1xplAHooCfYJYnECowTQMfxWfQP8/TphoiqJAlBPtKoxWpEA/jBAeRRuhQLNkjuWlzqFAoImw4RHRo0DJkjmW17WkQLWpukf27KhADa1Ozqh6r0BEatrFQH6yQOqScYzA2rRAnfNTHCeduUBOEkvKgUa/QPInKhsSksJABmfw98OBwECjPzTzLL3BQLNEZ5nhOr5AqrcGtsrXw0CQZiyaHnHHQKML6lv2Ds5AJICbxaP4p0BvnX+7JH2tQE8Cm3P0d7JAj3Iwm4TZuEC9OVyrH5/BQIKtEiw+3sNAvJF55Ov0xkAom3KFp3fJQBKN7iCip89A9zsUBUI60UDBxYoauoDTQFVNEHVpB9RAYoTwaOsTqED+LQH4T4auQDjzqzlY9LNApMNDGEcRu0BvRs1XhdHBQP5/nDBDFcNAa5p3nH4txEAW9rTDq/zHQJOkaybLmMxAV+wvu9uZ0EDgMqfL5mnSQKJ6a2At4NJAoOBiRcU9pUDKxRhY56KlQMfXnllyy6hARFN2+llqr0Bbs5WXqLezQMu8VdfN37BASKmEJziTtECitg2jYLe0QJC6nX1B1bdAGLFPAPG3t0BNFYxKKqy4QN0J9l8f9r1Au/CD8zmRqEBTliGOvc6uQPLMy2H/frJAg6Pk1d1GuUBl3T8Waku/QFWkwtgyRsJAG4LjMqjCwkCVn1T7IvDCQIgrZ+9oxrlAsQ+yLIyyvEDptkQuXM2+QNPZyeA8HMVAxf/Cly7VfkAkUA6wUOKAQAz5VtrIq4JADruUX2vvf0DE9w8zpXSCQCyEMBKl8IRAkJA3r5CMi0DqsS0D7n+KQGGhe3uMCIdAPpuwWI5vgkA0GgrpOo2IQASrjyy1+IpAXOffLqt8i0CzujAt5eWKQNEEilg0vpBA/FBpxFyjlUADsWzm8POXQEc6AyM/JptAzxYQWt+InUDRWWYRGrKXQHzxRXscU5ZARpVh3E3slEDp8XubXiSVQGaH+Ie9+ZhAEVDhCI47uUDUZwdcl92/QD81Xro1tcZAhbGFIMOB0EDcaABvW0HYQH4dOGf4ruBAVOOlm6Vz4EAfSx+6kLPUQJwui4lnQthAgq0SLKwa1EBQcLGiopHSQA9FgT61JdVA6ZjzjG2plkBe2JqtnH6YQDZXzXP025lAqdvZV54xmUCvQzUl2faYQFILJZMTZ5hAavrsgOu5l0BLdmwE4oaWQCXoL/SYX5VAUrr0L3nBlUCRKR+Cir6XQA6dnnfjwZpAbKzEPOv6q0CA8KFEF3WzQA3jbhChkbhAHQJHArU3v0BoJ4OjCI3EQFtfJLRVWslAK/aX3YumzUCaAwRzcP/OQCzVBbyINsJAyGRx/1HqvkD+R6ZDE0S8QFsjgnFEHcNAG1dtSE1+i0DHf4Eg4GOPQNmR6juPcpFAFcYWgizYkkD5ugz/CSeVQKSMuAAkEZVASP31CgvklkAr/u+IyjmUQLKbGf3IspBAO3VAbS/1gUBoO6bu6tuFQOck73dT9IpA2XiwxUYWokDRsBh1NTamQLWn5Jx4taxAEfxvJWtxs0CWJTrL4MrAQNOkFHQL5cVAXYWUn5SgzUCZgcr4YWvSQIy5awl5MNhAqaROQO9d4EAg0m9f45bhQKFinL/lBOdAqiwKu6jSs0CAQ6hSQ823QB7jiosbOb1AgbG+gXNuwED7zcR0FeXCQJ9BQ/9UVcVAQ61p3kUqxkCIug9AooLHQEvmWN47jcJAaW/whR2vx0AXz6ChY6PKQGB2Tx6UPdJA58WJrwp3sEAgfCjRRua2QMVyS6tN6rxA4ZaPpL5ewkCoNc07vi/IQKhNnNyD1s1AeekmMa5y0UB+GCE8oj3SQLkZbsBbw8tAzojS3kbC0EC2uTE9AS3UQHLEWnwQKtlAq8yU1v++kUAG+G7zlqiTQNY1Wg70ZZVAVOi8xu4SlEBffTz0TZqTQGzvU1X4q5ZAb59VZjpjkkDsppTX+hSRQLsD4a+u94xAP8NAfMUUjUDNGDCSp5CLQAW4augg8YxA9Wvrp0t1skCfrBiuGm+1QFa6u866iLZAb7VOXHrKu0D0GVBv9lW+QFfQtMSmXL9ApFTCEyK8wECYGTbK0pG+QPxs5LoRObxAqz/CMDA3vUB/aydK8h6+QIZzDTPUGsJAmRO0yRH0rUD8471qzdSxQMhCdAjYPbZA8BezJYM5v0CUE+0qYMfEQAcI5uh12slAprOTwRUzy0DcLjTXfcrOQHx+GCHEKtJAtB8pIlP300C1bK0v3kDYQDAqqRNEJdxA9+l4zCDukEC2R2+4L8KQQBR0e0njyZBA7pV5qw6+kUBZ+tAFlfWSQHB4QUQaE5VAUyY1tFHAmUDC2hg7EVOdQPdUTnt606BAk40HW/TQpEBKI2b2wY6nQJ+xL9kwBK9AeESF6vY/mUBTOe0pWambQMfZdARgnp5AmDCalf1fmkCWsgxxnO6ZQDtXlBL6NaFAjPZ4IS2enUDl7J3RRo+XQJ/jo8XJUJdAs5yE0teAmUAoDqDflyWfQCveyDzKVKRASwM/qoHxkUCoVl9d1XKTQCPb+X66AJ1AS1RvDTRqpEAIrBxarEmqQEzChTzSiq1AJ94BnsRurkCTpdb7rSGvQNxGA3gLwqtAktCWc4lJrkB/+PnvHSCwQA1uawt7obFAF2niHeynwEBAprVp8FvDQLql1ZC4FMhA8uocAybNzUCLprOTAWrRQC8012nuadJAZmZmZtgu1EDK4Ch5uwjXQOYivhMBUtdA3e9QFKas2EAFOShhaKfcQP+ye/J3iOBAEoPAyh3HzEB4f7xXX33RQBb7y+7F89NACvSJPIlt1kDIHww8x47aQLUy4ZeSWdpALa2GxG2720DFpwAYbZLdQERpb/DhH99AkyIyrNRh30AicY+lHtbgQBd9BWlNUOJA7pOjAPGtmUAeMuVDeIqgQDS5GAMTIqFAKEaWzLFnnUCAf0qV2BakQHbEIRv49qhAvAD76KxjrUCRYRVvjFmoQKHyr+UVGapAUrmJWnpcr0D0HfzE2fWvQEyKj0+MWLBA0Jm0qcrbkkB9eQH2cY+XQBOB6h+Ee5xAZDkJpbenpEDyQjo8DL2vQJwVUROF3LVAeAd40loCvUBEi2znR5fFQAU0ETbUt81Aq7LvirS700Cu8C4X27DWQI4ev7eRC9xAVkwAWTNlhkD+53rsSNSFQOMnH8wHkIZAM9yAz7+BikD+xLdm4Z+MQFjQajfwE45ARuri2/BRi0C5TV2ek/6JQDJYcap1zYlAFGKJYn2piEAAPP37lxiMQOFCHsHtTZFAA/aHHGGuh0DPkaaLnsyIQDxSfeeXUY9ATUpBt9c9lEBtNeuMb9GXQCeqtwbmpJ5AkJ4ih3CyokAErFW7Tk2nQGUe+YPlCLJAv0aSIKDctkANiuYBMBm3QIWvr3VlIr1AiAEBIXjeikBeimE9RO+MQEuOO6UjrpBAPq4NFWMWl0DZtFIIpMaZQDscXaUb85dAgEbp0k8ClUDC9pMxzsiSQJPi4xMyKZBAa6f3nkuyjkAirpy9w7GLQKkf5XHCl4tAvJUlOouep0A/xty1ZASwQA6l9iKGhbNAflUuVF71tUBkq8spjdu5QCcapOCN275AuOhkqcPPwUDMme0Kmdy8QI80uK39yrxAP1kxXEkswUAKLlbUTGLGQHReY5cgltFA2xfQC+fxlkB3ZRcM7syVQEinrnw28ZlAZjiez3AxnkC1Oc5tkoKlQIwTX+3AYahAjyCVYnfQq0CwHvet1sStQML7qly47LBAIZT3ccwMs0B/ZaVJ5Vq2QGTMXUvstLtANBZNZ2fEnkCPN/ktglWhQA7VlGS9JaJAcVtbeLYUpkAtW+uLZPWqQHO5wVAfrbBAIEJcOVuRsEBLdQEvC+GzQCXLSShZLrZAD9HoDm7JuUCuZp3xFWy5QJIIjWAjhcBAeZCeIgf2hkBt9CDz9zKIQCuQ6oUs+odAVbHnIVlnjEAfSUkP47WNQNpLCXfdXYpAjDqEOyFShUAUlKKVy02DQBDew8pdIYRAhZZ1/3iEiUDbepecxP2MQBh+cD6FgZBAuR0aFsF9w0ApyxDHlgnGQI3ROqqWXshAP6n26Wyfy0B224XmjgvPQJfFxOYvBdFAIO9VKxvO0UCCbi9pMijVQGXkLOxFLNZAml/NAaJ22UAfnbryv8ncQOPfZ1xoNuBACCXMtD1Ty0BV2XdFkP/MQOVciquSls9AmbZ/ZZcS00AoSddMgkvVQDVj0XQogtdAeSPzyGNs2ECNEB5tFi/dQAH20an7QN9ABrth2+124UBKe4MvIxfjQOv/HOb0+ORAZ7RVScRUtkDS30vhxQa4QDlgV5Nb47VA85Nqn55EtUBmEYqtaEe2QKqEJ/RWaLlAWM7eGTkIu0AeF9UiZhy9QNc07zgByb9A8Q2Fzx4HwkB3ilWDAC++QDCeQUO7ucRAngsjvcwJvkBevB+3OyXDQPVPcLF8c8BAFEAxsryiwkAK9Ik8oYTEQBHHurj5q8lA4QZ8fjTIxUDW477Vyk3DQPp5U5H29sRA0egOYr/aw0BeglMfhs7AQFyU2SDnS8ZApefMLIjogkC4LduYSCKFQB9aGq5kIIhAuzPJfvzog0DaXftdA9yFQFRgXAVMTIZAwnrt4+IZhkCiI15DZaaJQI/rlWgv6I5ARNycSpanlUBXryKj05GbQJHSbB4nE6NA401+i16ul0BEqiheRYycQIz5uaHpLaFA08JlFW6zpEACRMGM0XqoQKPhlLmpxaxAyqSGNgjwsEDBAMKHMvOzQNzWFp6ngbdAMCsU6arGu0BZF7fRfKOxQGo0uRizoqdAIc+JmL1tiEB6Cm/FpCaJQMiemFD8zIlAYdT/g4nzikCY++QoMMSTQJs6j4oPl5xAL1bUYDrmnkD3yrxV986eQDrP2Jf8XZ1AILjKE/iKoEBZwW9DpHWhQP2FHjGK0aFAr7K2KY7tkUCzX3e603+UQDLKMy/nspZAkSVzLE/Em0D3Hi45/rWbQHr7c9HA0phA10y+2bYClkDJycStQvWSQNmvO92J65JA8gpET2q9kEAXvymsdL6QQEDc1avY3JNAjn6PVSVueUAC95c4HTaAQIjMpm0teoBA7w9KTlzOgUA4A2285fqIQI8/rJKzbIVA48nJH9emiEC+f5gpQhGGQAY118Rdq4VA/CfJhJnDiEASC2sZTwCFQNjp9khZW31A\",\"dtype\":\"float64\",\"shape\":[1704]},\"y\":{\"__ndarray__\":\"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\",\"dtype\":\"float64\",\"shape\":[1704]}}},\"id\":\"026ec7ba-b35d-4105-a9a6-4426bb9dd109\",\"type\":\"ColumnDataSource\"},{\"attributes\":{\"bottom_units\":\"screen\",\"fill_alpha\":{\"value\":0.5},\"fill_color\":{\"value\":\"lightgrey\"},\"left_units\":\"screen\",\"level\":\"overlay\",\"line_alpha\":{\"value\":1.0},\"line_color\":{\"value\":\"black\"},\"line_dash\":[4,4],\"line_width\":{\"value\":2},\"plot\":null,\"render_mode\":\"css\",\"right_units\":\"screen\",\"top_units\":\"screen\"},\"id\":\"40900dd8-0575-43db-9718-ab0267585b76\",\"type\":\"BoxAnnotation\"},{\"attributes\":{},\"id\":\"33c70788-5220-46cb-879e-3f82a752eb2d\",\"type\":\"PanTool\"},{\"attributes\":{\"below\":[{\"id\":\"5aa8347f-4d50-4255-82e8-8e356fbd3a69\",\"type\":\"LogAxis\"}],\"left\":[{\"id\":\"05f3cc18-47e3-4dfc-8460-4515ad699ad2\",\"type\":\"LinearAxis\"}],\"plot_height\":400,\"renderers\":[{\"id\":\"5aa8347f-4d50-4255-82e8-8e356fbd3a69\",\"type\":\"LogAxis\"},{\"id\":\"fab54968-2b4d-4a02-8ff6-0d933cc46b3e\",\"type\":\"Grid\"},{\"id\":\"05f3cc18-47e3-4dfc-8460-4515ad699ad2\",\"type\":\"LinearAxis\"},{\"id\":\"499e8c2c-b05a-46cd-a6a4-fde26722b308\",\"type\":\"Grid\"},{\"id\":\"40900dd8-0575-43db-9718-ab0267585b76\",\"type\":\"BoxAnnotation\"},{\"id\":\"1c1e491e-da56-4d56-a4d1-8d3dafc34a49\",\"type\":\"GlyphRenderer\"}],\"title\":{\"id\":\"26d613f4-8f93-4917-9738-e9b72f998087\",\"type\":\"Title\"},\"toolbar\":{\"id\":\"253b6f41-3709-444b-8a87-c5ab2e63f868\",\"type\":\"Toolbar\"},\"x_range\":{\"id\":\"af6f406a-b88d-4f7c-8cbe-182a667871d8\",\"type\":\"Range1d\"},\"x_scale\":{\"id\":\"302cd764-de87-4fd2-9197-8911eafcaa74\",\"type\":\"LogScale\"},\"y_range\":{\"id\":\"8807978f-0620-4bf7-a5b1-4d9420462a43\",\"type\":\"Range1d\"},\"y_scale\":{\"id\":\"c7d87cfa-8b77-47ef-9963-b6e562ab6c7d\",\"type\":\"LinearScale\"}},\"id\":\"c835e711-0d45-4a2c-bb87-8d91c645d842\",\"subtype\":\"Figure\",\"type\":\"Plot\"},{\"attributes\":{},\"id\":\"7b4c2c3b-6bfd-48e1-8e7f-dce6d093d2fa\",\"type\":\"BasicTickFormatter\"},{\"attributes\":{\"plot\":null,\"text\":\"Life Expectancy vs GDP of Nations \"},\"id\":\"26d613f4-8f93-4917-9738-e9b72f998087\",\"type\":\"Title\"},{\"attributes\":{},\"id\":\"41ebcf6d-1763-4929-adf2-a5d7012eafce\",\"type\":\"WheelZoomTool\"},{\"attributes\":{\"callback\":null,\"end\":100},\"id\":\"8807978f-0620-4bf7-a5b1-4d9420462a43\",\"type\":\"Range1d\"},{\"attributes\":{\"overlay\":{\"id\":\"40900dd8-0575-43db-9718-ab0267585b76\",\"type\":\"BoxAnnotation\"}},\"id\":\"9c560e78-b99b-4e57-8ef4-9f71c17f53c4\",\"type\":\"BoxZoomTool\"},{\"attributes\":{},\"id\":\"c7d87cfa-8b77-47ef-9963-b6e562ab6c7d\",\"type\":\"LinearScale\"},{\"attributes\":{},\"id\":\"9ea348ca-e357-47df-af28-40b91420368d\",\"type\":\"SaveTool\"},{\"attributes\":{\"plot\":{\"id\":\"c835e711-0d45-4a2c-bb87-8d91c645d842\",\"subtype\":\"Figure\",\"type\":\"Plot\"},\"ticker\":{\"id\":\"73264d62-88ff-4c13-a18c-e669f8b2a706\",\"type\":\"LogTicker\"}},\"id\":\"fab54968-2b4d-4a02-8ff6-0d933cc46b3e\",\"type\":\"Grid\"},{\"attributes\":{},\"id\":\"44da0dc5-120b-4b83-8997-c8c353b60e00\",\"type\":\"ResetTool\"},{\"attributes\":{\"active_drag\":\"auto\",\"active_inspect\":\"auto\",\"active_scroll\":\"auto\",\"active_tap\":\"auto\",\"tools\":[{\"id\":\"33c70788-5220-46cb-879e-3f82a752eb2d\",\"type\":\"PanTool\"},{\"id\":\"41ebcf6d-1763-4929-adf2-a5d7012eafce\",\"type\":\"WheelZoomTool\"},{\"id\":\"9c560e78-b99b-4e57-8ef4-9f71c17f53c4\",\"type\":\"BoxZoomTool\"},{\"id\":\"9ea348ca-e357-47df-af28-40b91420368d\",\"type\":\"SaveTool\"},{\"id\":\"44da0dc5-120b-4b83-8997-c8c353b60e00\",\"type\":\"ResetTool\"},{\"id\":\"3689f20f-d9da-48be-b630-64f824a1b0ad\",\"type\":\"HelpTool\"}]},\"id\":\"253b6f41-3709-444b-8a87-c5ab2e63f868\",\"type\":\"Toolbar\"},{\"attributes\":{},\"id\":\"3689f20f-d9da-48be-b630-64f824a1b0ad\",\"type\":\"HelpTool\"},{\"attributes\":{\"num_minor_ticks\":10},\"id\":\"73264d62-88ff-4c13-a18c-e669f8b2a706\",\"type\":\"LogTicker\"},{\"attributes\":{\"fill_alpha\":{\"value\":0.1},\"fill_color\":{\"value\":\"#1f77b4\"},\"line_alpha\":{\"value\":0.1},\"line_color\":{\"value\":\"#1f77b4\"},\"x\":{\"field\":\"x\"},\"y\":{\"field\":\"y\"}},\"id\":\"a912c503-4bb2-488e-93ed-bdc6d36aa02a\",\"type\":\"Circle\"},{\"attributes\":{\"callback\":null,\"end\":100000,\"start\":100},\"id\":\"af6f406a-b88d-4f7c-8cbe-182a667871d8\",\"type\":\"Range1d\"},{\"attributes\":{},\"id\":\"302cd764-de87-4fd2-9197-8911eafcaa74\",\"type\":\"LogScale\"},{\"attributes\":{\"axis_label\":\"GDP per Capita\",\"formatter\":{\"id\":\"dbd09256-e0bd-4068-ad64-201fb46f44a1\",\"type\":\"NumeralTickFormatter\"},\"plot\":{\"id\":\"c835e711-0d45-4a2c-bb87-8d91c645d842\",\"subtype\":\"Figure\",\"type\":\"Plot\"},\"ticker\":{\"id\":\"73264d62-88ff-4c13-a18c-e669f8b2a706\",\"type\":\"LogTicker\"}},\"id\":\"5aa8347f-4d50-4255-82e8-8e356fbd3a69\",\"type\":\"LogAxis\"},{\"attributes\":{\"axis_label\":\"Life Expectancy(Years)\",\"formatter\":{\"id\":\"7b4c2c3b-6bfd-48e1-8e7f-dce6d093d2fa\",\"type\":\"BasicTickFormatter\"},\"plot\":{\"id\":\"c835e711-0d45-4a2c-bb87-8d91c645d842\",\"subtype\":\"Figure\",\"type\":\"Plot\"},\"ticker\":{\"id\":\"ff02486a-54a3-4440-9765-4c5f58806834\",\"type\":\"BasicTicker\"}},\"id\":\"05f3cc18-47e3-4dfc-8460-4515ad699ad2\",\"type\":\"LinearAxis\"},{\"attributes\":{},\"id\":\"ff02486a-54a3-4440-9765-4c5f58806834\",\"type\":\"BasicTicker\"},{\"attributes\":{\"dimension\":1,\"plot\":{\"id\":\"c835e711-0d45-4a2c-bb87-8d91c645d842\",\"subtype\":\"Figure\",\"type\":\"Plot\"},\"ticker\":{\"id\":\"ff02486a-54a3-4440-9765-4c5f58806834\",\"type\":\"BasicTicker\"}},\"id\":\"499e8c2c-b05a-46cd-a6a4-fde26722b308\",\"type\":\"Grid\"},{\"attributes\":{\"format\":\"$0,\"},\"id\":\"dbd09256-e0bd-4068-ad64-201fb46f44a1\",\"type\":\"NumeralTickFormatter\"},{\"attributes\":{\"data_source\":{\"id\":\"026ec7ba-b35d-4105-a9a6-4426bb9dd109\",\"type\":\"ColumnDataSource\"},\"glyph\":{\"id\":\"fdea7023-76be-4e3c-bf33-68bae90edb01\",\"type\":\"Circle\"},\"hover_glyph\":null,\"muted_glyph\":null,\"nonselection_glyph\":{\"id\":\"a912c503-4bb2-488e-93ed-bdc6d36aa02a\",\"type\":\"Circle\"},\"selection_glyph\":null,\"view\":{\"id\":\"e732ee21-e134-41f0-a584-45379af3cd7f\",\"type\":\"CDSView\"}},\"id\":\"1c1e491e-da56-4d56-a4d1-8d3dafc34a49\",\"type\":\"GlyphRenderer\"}],\"root_ids\":[\"c835e711-0d45-4a2c-bb87-8d91c645d842\"]},\"title\":\"Bokeh Application\",\"version\":\"0.12.13\"}};\n",
       "  var render_items = [{\"docid\":\"89c9587f-f7a5-4121-b58d-c118ac3fc26d\",\"elementid\":\"427030c9-5fe1-4a3f-97bb-2d88c8e0a8d3\",\"modelid\":\"c835e711-0d45-4a2c-bb87-8d91c645d842\"}];\n",
       "  root.Bokeh.embed.embed_items_notebook(docs_json, render_items);\n",
       "\n",
       "  }\n",
       "  if (root.Bokeh !== undefined) {\n",
       "    embed_document(root);\n",
       "  } else {\n",
       "    var attempts = 0;\n",
       "    var timer = setInterval(function(root) {\n",
       "      if (root.Bokeh !== undefined) {\n",
       "        embed_document(root);\n",
       "        clearInterval(timer);\n",
       "      }\n",
       "      attempts++;\n",
       "      if (attempts > 100) {\n",
       "        console.log(\"Bokeh: ERROR: Unable to run BokehJS code because BokehJS library is missing\")\n",
       "        clearInterval(timer);\n",
       "      }\n",
       "    }, 10, root)\n",
       "  }\n",
       "})(window);"
      ],
      "application/vnd.bokehjs_exec.v0+json": ""
     },
     "metadata": {
      "application/vnd.bokehjs_exec.v0+json": {
       "id": "c835e711-0d45-4a2c-bb87-8d91c645d842"
      }
     },
     "output_type": "display_data"
    }
   ],
   "source": [
    "from bokeh.io import show\n",
    "from bokeh.plotting import figure\n",
    "\n",
    "\n",
    "p = figure(\n",
    "    height = 400, \n",
    "    width = 600,\n",
    "    x_axis_type = 'log',\n",
    "    x_range =(100,100000), y_range = (0,100),\n",
    "    title = \"Life Expectancy vs GDP of Nations \",)\n",
    "\n",
    "p.circle(x = data['gdpPercap'], y = data['lifeExp'],color=\"orange\",alpha = 0.6)\n",
    "p.xaxis.axis_label = \"GDP per Capita\"\n",
    "p.yaxis.axis_label = \"Life Expectancy(Years)\"\n",
    "\n",
    "\n",
    "from bokeh.models import NumeralTickFormatter\n",
    "p.xaxis[0].formatter = NumeralTickFormatter(format='$0,')\n",
    "\n",
    "\n",
    "show(p)"
   ]
  },
  {
   "cell_type": "code",
   "execution_count": 13,
   "metadata": {},
   "outputs": [],
   "source": [
    "# Choosing year 2007\n",
    "\n",
    "from bokeh.models import ColumnDataSource\n",
    "source = ColumnDataSource(data.loc[2007])"
   ]
  },
  {
   "cell_type": "code",
   "execution_count": 14,
   "metadata": {},
   "outputs": [
    {
     "data": {
      "text/html": [
       "\n",
       "<div class=\"bk-root\">\n",
       "    <div class=\"bk-plotdiv\" id=\"cc497c1c-3abe-4b58-8ba8-c26ffa9274aa\"></div>\n",
       "</div>"
      ]
     },
     "metadata": {},
     "output_type": "display_data"
    },
    {
     "data": {
      "application/javascript": [
       "(function(root) {\n",
       "  function embed_document(root) {\n",
       "    \n",
       "  var docs_json = {\"4840bf7c-e112-42b4-9083-8e698a9fa790\":{\"roots\":{\"references\":[{\"attributes\":{},\"id\":\"100204de-422d-4282-a2c4-516446b192c1\",\"type\":\"ResetTool\"},{\"attributes\":{},\"id\":\"32dff308-6c97-4bd4-945d-36dca5e72c22\",\"type\":\"HelpTool\"},{\"attributes\":{\"num_minor_ticks\":10},\"id\":\"e5a149b7-a9b4-40b4-97bc-e817df818e48\",\"type\":\"LogTicker\"},{\"attributes\":{\"plot\":{\"id\":\"03bff0cb-ec26-42cd-8bf6-68199efbf4f5\",\"subtype\":\"Figure\",\"type\":\"Plot\"},\"ticker\":{\"id\":\"e5a149b7-a9b4-40b4-97bc-e817df818e48\",\"type\":\"LogTicker\"}},\"id\":\"97354be5-e7ab-4130-800d-1834f449ddbf\",\"type\":\"Grid\"},{\"attributes\":{\"fill_alpha\":{\"value\":0.6},\"fill_color\":{\"value\":\"orange\"},\"line_alpha\":{\"value\":0.6},\"line_color\":{\"value\":\"orange\"},\"x\":{\"field\":\"gdpPercap\"},\"y\":{\"field\":\"lifeExp\"}},\"id\":\"4dea6a4c-bebc-4010-93ac-87ffa8c047c7\",\"type\":\"Circle\"},{\"attributes\":{},\"id\":\"bf06e07b-6442-4fca-90ec-864c2a0a2d93\",\"type\":\"LinearScale\"},{\"attributes\":{},\"id\":\"4f8af646-fd64-438c-a9c6-d53518748ddf\",\"type\":\"LogScale\"},{\"attributes\":{\"data_source\":{\"id\":\"0c671b30-2a5d-41c9-a5b5-9e409ac5c8d3\",\"type\":\"ColumnDataSource\"},\"glyph\":{\"id\":\"4dea6a4c-bebc-4010-93ac-87ffa8c047c7\",\"type\":\"Circle\"},\"hover_glyph\":null,\"muted_glyph\":null,\"nonselection_glyph\":{\"id\":\"99a66729-f26f-4c70-b766-8c5a0a937fa0\",\"type\":\"Circle\"},\"selection_glyph\":null,\"view\":{\"id\":\"209a5996-a2cd-4faf-90c3-ecb08b21f451\",\"type\":\"CDSView\"}},\"id\":\"87cbc4c3-2d04-430f-83f9-30222820638c\",\"type\":\"GlyphRenderer\"},{\"attributes\":{\"axis_label\":\"Life Expectancy\",\"formatter\":{\"id\":\"db80a9a2-80af-43fc-a07b-34fb38ea2f78\",\"type\":\"BasicTickFormatter\"},\"plot\":{\"id\":\"03bff0cb-ec26-42cd-8bf6-68199efbf4f5\",\"subtype\":\"Figure\",\"type\":\"Plot\"},\"ticker\":{\"id\":\"dbe0023e-eba1-421a-9d40-761502af5992\",\"type\":\"BasicTicker\"}},\"id\":\"5797930f-8534-4804-9259-74e104cd1d69\",\"type\":\"LinearAxis\"},{\"attributes\":{\"format\":\"$0,\"},\"id\":\"1de11210-186a-4818-8e5b-2d6f41a5d1ab\",\"type\":\"NumeralTickFormatter\"},{\"attributes\":{},\"id\":\"dbe0023e-eba1-421a-9d40-761502af5992\",\"type\":\"BasicTicker\"},{\"attributes\":{\"callback\":null,\"column_names\":[\"country\",\"continent\",\"lifeExp\",\"population\",\"gdpPercap\",\"year\"],\"data\":{\"continent\":[\"Asia\",\"Europe\",\"Africa\",\"Africa\",\"Americas\",\"Oceania\",\"Europe\",\"Asia\",\"Asia\",\"Europe\",\"Africa\",\"Americas\",\"Europe\",\"Africa\",\"Americas\",\"Europe\",\"Africa\",\"Africa\",\"Asia\",\"Africa\",\"Americas\",\"Africa\",\"Africa\",\"Americas\",\"Asia\",\"Americas\",\"Africa\",\"Africa\",\"Africa\",\"Americas\",\"Africa\",\"Europe\",\"Americas\",\"Europe\",\"Europe\",\"Africa\",\"Americas\",\"Americas\",\"Africa\",\"Americas\",\"Africa\",\"Africa\",\"Africa\",\"Europe\",\"Europe\",\"Africa\",\"Africa\",\"Europe\",\"Africa\",\"Europe\",\"Americas\",\"Africa\",\"Africa\",\"Americas\",\"Americas\",\"Asia\",\"Europe\",\"Europe\",\"Asia\",\"Asia\",\"Asia\",\"Asia\",\"Europe\",\"Asia\",\"Europe\",\"Americas\",\"Asia\",\"Asia\",\"Africa\",\"Asia\",\"Asia\",\"Asia\",\"Asia\",\"Africa\",\"Africa\",\"Africa\",\"Africa\",\"Africa\",\"Asia\",\"Africa\",\"Africa\",\"Africa\",\"Americas\",\"Asia\",\"Europe\",\"Africa\",\"Africa\",\"Asia\",\"Africa\",\"Asia\",\"Europe\",\"Oceania\",\"Americas\",\"Africa\",\"Africa\",\"Europe\",\"Asia\",\"Asia\",\"Americas\",\"Americas\",\"Americas\",\"Asia\",\"Europe\",\"Europe\",\"Americas\",\"Africa\",\"Europe\",\"Africa\",\"Africa\",\"Asia\",\"Africa\",\"Europe\",\"Africa\",\"Asia\",\"Europe\",\"Europe\",\"Africa\",\"Africa\",\"Europe\",\"Asia\",\"Africa\",\"Africa\",\"Europe\",\"Europe\",\"Asia\",\"Asia\",\"Africa\",\"Asia\",\"Africa\",\"Americas\",\"Africa\",\"Europe\",\"Africa\",\"Europe\",\"Americas\",\"Americas\",\"Americas\",\"Asia\",\"Asia\",\"Asia\",\"Africa\",\"Africa\"],\"country\":[\"Afghanistan\",\"Albania\",\"Algeria\",\"Angola\",\"Argentina\",\"Australia\",\"Austria\",\"Bahrain\",\"Bangladesh\",\"Belgium\",\"Benin\",\"Bolivia\",\"Bosnia and Herzegovina\",\"Botswana\",\"Brazil\",\"Bulgaria\",\"Burkina Faso\",\"Burundi\",\"Cambodia\",\"Cameroon\",\"Canada\",\"Central African Republic\",\"Chad\",\"Chile\",\"China\",\"Colombia\",\"Comoros\",\"Congo, Dem. Rep.\",\"Congo, Rep.\",\"Costa Rica\",\"Cote d'Ivoire\",\"Croatia\",\"Cuba\",\"Czech Republic\",\"Denmark\",\"Djibouti\",\"Dominican Republic\",\"Ecuador\",\"Egypt\",\"El Salvador\",\"Equatorial Guinea\",\"Eritrea\",\"Ethiopia\",\"Finland\",\"France\",\"Gabon\",\"Gambia\",\"Germany\",\"Ghana\",\"Greece\",\"Guatemala\",\"Guinea\",\"Guinea-Bissau\",\"Haiti\",\"Honduras\",\"Hong Kong, China\",\"Hungary\",\"Iceland\",\"India\",\"Indonesia\",\"Iran\",\"Iraq\",\"Ireland\",\"Israel\",\"Italy\",\"Jamaica\",\"Japan\",\"Jordan\",\"Kenya\",\"Korea, Dem. Rep.\",\"Korea, Rep.\",\"Kuwait\",\"Lebanon\",\"Lesotho\",\"Liberia\",\"Libya\",\"Madagascar\",\"Malawi\",\"Malaysia\",\"Mali\",\"Mauritania\",\"Mauritius\",\"Mexico\",\"Mongolia\",\"Montenegro\",\"Morocco\",\"Mozambique\",\"Myanmar\",\"Namibia\",\"Nepal\",\"Netherlands\",\"New Zealand\",\"Nicaragua\",\"Niger\",\"Nigeria\",\"Norway\",\"Oman\",\"Pakistan\",\"Panama\",\"Paraguay\",\"Peru\",\"Philippines\",\"Poland\",\"Portugal\",\"Puerto Rico\",\"Reunion\",\"Romania\",\"Rwanda\",\"Sao Tome and Principe\",\"Saudi Arabia\",\"Senegal\",\"Serbia\",\"Sierra Leone\",\"Singapore\",\"Slovak Republic\",\"Slovenia\",\"Somalia\",\"South Africa\",\"Spain\",\"Sri Lanka\",\"Sudan\",\"Swaziland\",\"Sweden\",\"Switzerland\",\"Syria\",\"Taiwan\",\"Tanzania\",\"Thailand\",\"Togo\",\"Trinidad and Tobago\",\"Tunisia\",\"Turkey\",\"Uganda\",\"United Kingdom\",\"United States\",\"Uruguay\",\"Venezuela\",\"Vietnam\",\"West Bank and Gaza\",\"Yemen, Rep.\",\"Zambia\",\"Zimbabwe\"],\"gdpPercap\":{\"__ndarray__\":\"54R1iKR0jkBhFASPBzG3QG2tLxJeT7hApWlQNDu9skAhJAuYsPXIQOeHEcJr0OBAWMoyxM+j4UDFpwAYAxndQPLPDOIDvZVAb7vQXJNz4EAOar+1I4WWQJ3B3y9G3K1A8nhafkwWvUDcoswG7YzIQGkAb4HmtMFAzzEge2XcxEDb2y3JIQSTQKLhg40h4XpAad/cXx3HmkAVNZiGYeifQAixM4Xnu+FAZJEm3iEQhkDhP91AQaCaQIY41sXRuclA0F0SZx1fs0D67laWlF67QBM+Stsu0Y5ANcjJadRYcUCMD7OXHWGsQKlNnNyH1sJAWTFcHQAjmEAUxhaCnI3MQIGzlCwNesFAH7qgvlNM1kCxbVFmzTnhQKsn84/2RKBAHUC/71+Jt0Dl9ssnQ9m6QKSK4lUuzbVArrzkf1pgtkBoke18C73HQM4Iysj0CoRAkQfH0XGWhUD5oGez4jbgQHbgnBGBwd1AIVnABD7LyUCOc5tw/4WHQL5Nf/aXat9A1GAahm++lEB47j1cmuTaQLQh/8wMQrRAcXkH0zt1jUCd8BKc2hmCQBAiGXKMxpJAB5ylZKm4q0Byv0NRn2XjQEJ4tHE8ltFACmMLQZmq4UCzX3e6ayijQIHuy5lNqatAqYdodNuqxkBtVRLZD3exQCxlGeJ/3ONAbqMBvNHs2EC8lpAPbubbQOq12VjhmLxAi1QYWwTq3kDdek0PdqexQO3Vx0P/3JZAK2owDUPkmEASGVbxCM3WQEgbR6xfGedAd4TTgoduxEAVGohlU4WYQHXmHhIe6HlAxjNo6L+Mx0Ay/+ibFFOQQFKgqp3MuodAXCBB8dNRyEAKn62DU0qQQOd1xCGbLJxANSkF3X5mxUBBDkqYyWTHQE3BGmeLL6hAS+fDs/ISwkCOHr+3WditQL3HmSZ8vYlAAAAAAACAjUC7YkZ4D8uyQEjfpGlwDZFAlufB3b334UAEHEKVQJjYQFJEhlWkeqVASQeQRmpdg0DfVKTC6HefQFZl3xWmGehAmGn7VwzL1UCwrDQp5VukQHui68KXKMNA4KKTpdZMsECIf9jS5/C8QLWpukf27KhAowvqW/YOzkBVTRB1aQfUQKJ6a2At4NJA3Qn2Xx/2vUDT2cngPBzFQASrjyy1+IpAZof4h735mEAPRYE+tSXVQA6dnnfjwZpAWyOCcUQdw0DnJO93U/SKQKFinL/lBOdAYHZPHpQ90kByxFp8ECrZQAW4augg8YxAhnMNM9QawkAwKqkTRCXcQJ+xL9kwBK9AK97IPMpUpEANbmsLe6GxQP+ye/J3iOBAF30FaU1Q4kBMio9PjFiwQI4ev7eRC9xA4UIewe1NkUCFr691ZSK9QKkf5XHCl4tAdF5jlyCW0UBkzF1L7LS7QJIIjWAjhcBAGH5wPoWBkEDj32dcaDbgQOv/HOb0+ORAMJ5BQ7u5xEBclNkg50vGQJHSbB4nE6NAajS5GLOip0D9hR4xitGhQEDc1avY3JNA2On2SFlbfUA=\",\"dtype\":\"float64\",\"shape\":[142]},\"lifeExp\":{\"__ndarray__\":\"RIts5/vpRUBQjZduEhtTQCUGgZVDE1JAIbByaJFdRUAUrkfhetRSQNejcD0KT1RAkxgEVg71U0BxPQrXo+hSQIcW2c73A1BATmIQWDncU0B3vp8aL11MQPp+arx0Y1BASgwCK4e2UkB3vp8aL11JQClcj8L1GFJAuB6F61FAUkD2KFyPwiVKQArXo3A9ykhABoGVQ4vcTUDXo3A9CjdJQG8Sg8DKKVRAAyuHFtleRkAX2c73U1NJQAisHFpko1NAL90kBoE9UkA3iUFg5ThSQH0/NV66SVBAQWDl0CI7R0Dvp8ZLN6lLQDVeukkMslNARIts5/spSEAdWmQ73+9SQLbz/dR4kVNAyXa+nxofU0Boke18P5VTQGmR7Xw/ZUtA16NwPQoPUkBWDi2ynb9SQBODwMqh1VFA1XjpJjH4UUAmMQisHMpJQIXrUbgeBU1A76fGSzd5SkB56SYxCNRTQDVeukkMKlRArkfhehReTEDTTWIQWLlNQESLbOf72VNAiUFg5dACTkD0/dR46d5TQH9qvHSTkFFAN4lBYOUATECMbOf7qTFHQGmR7Xw/dU5A6iYxCKyMUUBaZDvfT41UQBODwMqhVVJAnMQgsHJwVEDqJjEIrCxQQJqZmZmZqVFABFYOLbK9UUD2KFyPwsVNQHE9CtejuFNASOF6FK4vVEBt5/up8SJUQD81XrpJJFJAO99PjZemVEAK16NwPSJSQK5H4XoUDktAXrpJDALTUEAdWmQ736dTQBODwMqhZVNAZDvfT43/UUCyne+nxktFQBFYObTI1kZAsHJoke18UkBjEFg5tLhNQBFYObTIJkhAgZVDi2yPUkCyne+nxjtLQNEi2/l+ClBAJQaBlUMzUkAUrkfhegxTQAisHFpks1BAmG4Sg8CiUkDRItv5fspRQNEi2/l+CkVARbbz/dQIT0CIFtnO93NKQBSuR+F65E9AVOOlm8TwU0CTGARWDg1UQKjGSzeJOVJA5dAi2/luTEDKoUW2821HQAaBlUOLDFRAKVyPwvXoUkD0/dR46V5QQO18PzVe4lJA46WbxCDwUUBt5/up8dpRQHnpJjEI7FFAeekmMQjkUkCDwMqhRYZTQDq0yHa+r1NAPzVeukkcU0BYObTIdh5SQOXQItv5HkdAbxKDwMphUEB9PzVeujFSQA4tsp3vh09A46WbxCCAUkBjEFg5tEhFQJHtfD81/lNA30+Nl26qUkAlBoGVQ3tTQDEIrBxaFEhACKwcWmSrSEBOYhBYOTxUQNNNYhBYGVJAu0kMAitHTUBYObTIds5DQH9qvHSTOFRAv58aL91sVED+1HjpJolSQJqZmZmZmVNAGARWDi1CSkCBlUOLbKdRQPYoXI/CNU1AI9v5fmp0UUBQjZduEntSQH0/NV668VFATDeJQWDFSUAzMzMzM9tTQHNoke18j1NAf2q8dJMYU0ArhxbZzm9SQA4tsp3vj1JAXrpJDAJbUkDTTWIQWFlPQP3UeOkmMUVAdJMYBFa+RUA=\",\"dtype\":\"float64\",\"shape\":[142]},\"population\":[31889923,3600523,33333216,12420476,40301927,20434176,8199783,708573,150448339,10392226,8078314,9119152,4552198,1639131,190010647,7322858,14326203,8390505,14131858,17696293,33390141,4369038,10238807,16284741,1318683096,44227550,710960,64606759,3800610,4133884,18013409,4493312,11416987,10228744,5468120,496374,9319622,13755680,80264543,6939688,551201,4906585,76511887,5238460,61083916,1454867,1688359,82400996,22873338,10706290,12572928,9947814,1472041,8502814,7483763,6980412,9956108,301931,1110396331,223547000,69453570,27499638,4109086,6426679,58147733,2780132,127467972,6053193,35610177,23301725,49044790,2505559,3921278,2012649,3193942,6036914,19167654,13327079,24821286,12031795,3270065,1250882,108700891,2874127,684736,33757175,19951656,47761980,2055080,28901790,16570613,4115771,5675356,12894865,135031164,4627926,3204897,169270617,3242173,6667147,28674757,91077287,38518241,10642836,3942491,798094,22276056,8860588,199579,27601038,12267493,10150265,6144562,4553009,5447502,2009245,9118773,43997828,40448191,20378239,42292929,1133066,9031088,7554661,19314747,23174294,38139640,65068149,5701579,1056608,10276158,71158647,29170398,60776238,301139947,3447496,26084662,85262356,4018332,22211743,11746035,12311143],\"year\":[2007,2007,2007,2007,2007,2007,2007,2007,2007,2007,2007,2007,2007,2007,2007,2007,2007,2007,2007,2007,2007,2007,2007,2007,2007,2007,2007,2007,2007,2007,2007,2007,2007,2007,2007,2007,2007,2007,2007,2007,2007,2007,2007,2007,2007,2007,2007,2007,2007,2007,2007,2007,2007,2007,2007,2007,2007,2007,2007,2007,2007,2007,2007,2007,2007,2007,2007,2007,2007,2007,2007,2007,2007,2007,2007,2007,2007,2007,2007,2007,2007,2007,2007,2007,2007,2007,2007,2007,2007,2007,2007,2007,2007,2007,2007,2007,2007,2007,2007,2007,2007,2007,2007,2007,2007,2007,2007,2007,2007,2007,2007,2007,2007,2007,2007,2007,2007,2007,2007,2007,2007,2007,2007,2007,2007,2007,2007,2007,2007,2007,2007,2007,2007,2007,2007,2007,2007,2007,2007,2007,2007,2007]}},\"id\":\"0c671b30-2a5d-41c9-a5b5-9e409ac5c8d3\",\"type\":\"ColumnDataSource\"},{\"attributes\":{\"dimension\":1,\"plot\":{\"id\":\"03bff0cb-ec26-42cd-8bf6-68199efbf4f5\",\"subtype\":\"Figure\",\"type\":\"Plot\"},\"ticker\":{\"id\":\"dbe0023e-eba1-421a-9d40-761502af5992\",\"type\":\"BasicTicker\"}},\"id\":\"63b5e5df-a09b-43d5-a222-0f0cae4d148a\",\"type\":\"Grid\"},{\"attributes\":{\"source\":{\"id\":\"0c671b30-2a5d-41c9-a5b5-9e409ac5c8d3\",\"type\":\"ColumnDataSource\"}},\"id\":\"209a5996-a2cd-4faf-90c3-ecb08b21f451\",\"type\":\"CDSView\"},{\"attributes\":{\"fill_alpha\":{\"value\":0.1},\"fill_color\":{\"value\":\"#1f77b4\"},\"line_alpha\":{\"value\":0.1},\"line_color\":{\"value\":\"#1f77b4\"},\"x\":{\"field\":\"gdpPercap\"},\"y\":{\"field\":\"lifeExp\"}},\"id\":\"99a66729-f26f-4c70-b766-8c5a0a937fa0\",\"type\":\"Circle\"},{\"attributes\":{\"plot\":null,\"text\":\"Life Expectancy vs GDP of Nations for 2010\"},\"id\":\"be7e1cbe-0375-48f5-8bfe-9f80908b2868\",\"type\":\"Title\"},{\"attributes\":{\"bottom_units\":\"screen\",\"fill_alpha\":{\"value\":0.5},\"fill_color\":{\"value\":\"lightgrey\"},\"left_units\":\"screen\",\"level\":\"overlay\",\"line_alpha\":{\"value\":1.0},\"line_color\":{\"value\":\"black\"},\"line_dash\":[4,4],\"line_width\":{\"value\":2},\"plot\":null,\"render_mode\":\"css\",\"right_units\":\"screen\",\"top_units\":\"screen\"},\"id\":\"9f317c97-a439-4000-8bd2-b6d0b2cd7c07\",\"type\":\"BoxAnnotation\"},{\"attributes\":{\"below\":[{\"id\":\"df4063ac-9528-4ee3-bed8-688528808c24\",\"type\":\"LogAxis\"}],\"left\":[{\"id\":\"5797930f-8534-4804-9259-74e104cd1d69\",\"type\":\"LinearAxis\"}],\"plot_height\":400,\"renderers\":[{\"id\":\"df4063ac-9528-4ee3-bed8-688528808c24\",\"type\":\"LogAxis\"},{\"id\":\"97354be5-e7ab-4130-800d-1834f449ddbf\",\"type\":\"Grid\"},{\"id\":\"5797930f-8534-4804-9259-74e104cd1d69\",\"type\":\"LinearAxis\"},{\"id\":\"63b5e5df-a09b-43d5-a222-0f0cae4d148a\",\"type\":\"Grid\"},{\"id\":\"9f317c97-a439-4000-8bd2-b6d0b2cd7c07\",\"type\":\"BoxAnnotation\"},{\"id\":\"87cbc4c3-2d04-430f-83f9-30222820638c\",\"type\":\"GlyphRenderer\"}],\"title\":{\"id\":\"be7e1cbe-0375-48f5-8bfe-9f80908b2868\",\"type\":\"Title\"},\"toolbar\":{\"id\":\"82f2a93a-4f66-4213-a1a3-7e894ffa940b\",\"type\":\"Toolbar\"},\"x_range\":{\"id\":\"cdb5ddf8-22c1-4603-906c-d9138519b047\",\"type\":\"Range1d\"},\"x_scale\":{\"id\":\"4f8af646-fd64-438c-a9c6-d53518748ddf\",\"type\":\"LogScale\"},\"y_range\":{\"id\":\"11e9189c-6b87-495c-a47e-8989674d31d1\",\"type\":\"Range1d\"},\"y_scale\":{\"id\":\"bf06e07b-6442-4fca-90ec-864c2a0a2d93\",\"type\":\"LinearScale\"}},\"id\":\"03bff0cb-ec26-42cd-8bf6-68199efbf4f5\",\"subtype\":\"Figure\",\"type\":\"Plot\"},{\"attributes\":{\"callback\":null,\"end\":100},\"id\":\"11e9189c-6b87-495c-a47e-8989674d31d1\",\"type\":\"Range1d\"},{\"attributes\":{},\"id\":\"83c81e73-8e50-4f17-8675-097cd59cd5c2\",\"type\":\"PanTool\"},{\"attributes\":{\"axis_label\":\"GDP per Capita\",\"formatter\":{\"id\":\"1de11210-186a-4818-8e5b-2d6f41a5d1ab\",\"type\":\"NumeralTickFormatter\"},\"plot\":{\"id\":\"03bff0cb-ec26-42cd-8bf6-68199efbf4f5\",\"subtype\":\"Figure\",\"type\":\"Plot\"},\"ticker\":{\"id\":\"e5a149b7-a9b4-40b4-97bc-e817df818e48\",\"type\":\"LogTicker\"}},\"id\":\"df4063ac-9528-4ee3-bed8-688528808c24\",\"type\":\"LogAxis\"},{\"attributes\":{},\"id\":\"db80a9a2-80af-43fc-a07b-34fb38ea2f78\",\"type\":\"BasicTickFormatter\"},{\"attributes\":{\"active_drag\":\"auto\",\"active_inspect\":\"auto\",\"active_scroll\":\"auto\",\"active_tap\":\"auto\",\"tools\":[{\"id\":\"83c81e73-8e50-4f17-8675-097cd59cd5c2\",\"type\":\"PanTool\"},{\"id\":\"d713b9a2-7ca0-4309-bf48-742dfb2f88ec\",\"type\":\"WheelZoomTool\"},{\"id\":\"5e2219df-a5d9-4330-a832-15471cf4959d\",\"type\":\"BoxZoomTool\"},{\"id\":\"792659f5-9f00-4cc5-8b56-5107fa6b8b60\",\"type\":\"SaveTool\"},{\"id\":\"100204de-422d-4282-a2c4-516446b192c1\",\"type\":\"ResetTool\"},{\"id\":\"32dff308-6c97-4bd4-945d-36dca5e72c22\",\"type\":\"HelpTool\"}]},\"id\":\"82f2a93a-4f66-4213-a1a3-7e894ffa940b\",\"type\":\"Toolbar\"},{\"attributes\":{},\"id\":\"d713b9a2-7ca0-4309-bf48-742dfb2f88ec\",\"type\":\"WheelZoomTool\"},{\"attributes\":{\"callback\":null,\"end\":100000,\"start\":100},\"id\":\"cdb5ddf8-22c1-4603-906c-d9138519b047\",\"type\":\"Range1d\"},{\"attributes\":{\"overlay\":{\"id\":\"9f317c97-a439-4000-8bd2-b6d0b2cd7c07\",\"type\":\"BoxAnnotation\"}},\"id\":\"5e2219df-a5d9-4330-a832-15471cf4959d\",\"type\":\"BoxZoomTool\"},{\"attributes\":{},\"id\":\"792659f5-9f00-4cc5-8b56-5107fa6b8b60\",\"type\":\"SaveTool\"}],\"root_ids\":[\"03bff0cb-ec26-42cd-8bf6-68199efbf4f5\"]},\"title\":\"Bokeh Application\",\"version\":\"0.12.13\"}};\n",
       "  var render_items = [{\"docid\":\"4840bf7c-e112-42b4-9083-8e698a9fa790\",\"elementid\":\"cc497c1c-3abe-4b58-8ba8-c26ffa9274aa\",\"modelid\":\"03bff0cb-ec26-42cd-8bf6-68199efbf4f5\"}];\n",
       "  root.Bokeh.embed.embed_items_notebook(docs_json, render_items);\n",
       "\n",
       "  }\n",
       "  if (root.Bokeh !== undefined) {\n",
       "    embed_document(root);\n",
       "  } else {\n",
       "    var attempts = 0;\n",
       "    var timer = setInterval(function(root) {\n",
       "      if (root.Bokeh !== undefined) {\n",
       "        embed_document(root);\n",
       "        clearInterval(timer);\n",
       "      }\n",
       "      attempts++;\n",
       "      if (attempts > 100) {\n",
       "        console.log(\"Bokeh: ERROR: Unable to run BokehJS code because BokehJS library is missing\")\n",
       "        clearInterval(timer);\n",
       "      }\n",
       "    }, 10, root)\n",
       "  }\n",
       "})(window);"
      ],
      "application/vnd.bokehjs_exec.v0+json": ""
     },
     "metadata": {
      "application/vnd.bokehjs_exec.v0+json": {
       "id": "03bff0cb-ec26-42cd-8bf6-68199efbf4f5"
      }
     },
     "output_type": "display_data"
    }
   ],
   "source": [
    "# Adding the source option in our plot\n",
    "\n",
    "from bokeh.io import show\n",
    "from bokeh.plotting import figure\n",
    "\n",
    "p = figure(\n",
    "    height = 400, \n",
    "    width = 600,\n",
    "    x_axis_type = 'log',\n",
    "    x_range = (100,100000), y_range = (0,100),\n",
    "    title = \"Life Expectancy vs GDP of Nations for 2010\")\n",
    "\n",
    "p.circle(x='gdpPercap', y='lifeExp',color=\"orange\",alpha=0.6,source=source)\n",
    "p.xaxis.axis_label = \"GDP per Capita\"\n",
    "p.yaxis.axis_label = \"Life Expectancy\"\n",
    "\n",
    "\n",
    "from bokeh.models import NumeralTickFormatter\n",
    "p.xaxis[0].formatter = NumeralTickFormatter(format='$0,')\n",
    "\n",
    "show(p)"
   ]
  },
  {
   "cell_type": "code",
   "execution_count": 15,
   "metadata": {},
   "outputs": [
    {
     "data": {
      "text/html": [
       "\n",
       "<div class=\"bk-root\">\n",
       "    <div class=\"bk-plotdiv\" id=\"6424b5e7-41a4-4cd4-9ae3-6564fa6c316f\"></div>\n",
       "</div>"
      ]
     },
     "metadata": {},
     "output_type": "display_data"
    },
    {
     "data": {
      "application/javascript": [
       "(function(root) {\n",
       "  function embed_document(root) {\n",
       "    \n",
       "  var docs_json = {\"927c9ec0-ab66-4200-aa15-80434a8d6c67\":{\"roots\":{\"references\":[{\"attributes\":{\"below\":[{\"id\":\"79b0f192-e5c7-44c6-9782-183d1a240051\",\"type\":\"LogAxis\"}],\"left\":[{\"id\":\"ff481f74-285f-47e6-8e74-94daa7e7c34c\",\"type\":\"LinearAxis\"}],\"plot_height\":400,\"renderers\":[{\"id\":\"79b0f192-e5c7-44c6-9782-183d1a240051\",\"type\":\"LogAxis\"},{\"id\":\"90943dfe-e193-45fa-8f6c-6ea637e23cc0\",\"type\":\"Grid\"},{\"id\":\"ff481f74-285f-47e6-8e74-94daa7e7c34c\",\"type\":\"LinearAxis\"},{\"id\":\"1e1b71ca-0be0-4485-a051-55e7f100b1f8\",\"type\":\"Grid\"},{\"id\":\"5c66ac6f-53ab-4e05-a524-485586288413\",\"type\":\"BoxAnnotation\"},{\"id\":\"6d9e7610-aee0-4e91-b529-5175e036cf1e\",\"type\":\"GlyphRenderer\"}],\"title\":{\"id\":\"2b188762-8fd9-4c2a-af38-76a01c896cc7\",\"type\":\"Title\"},\"toolbar\":{\"id\":\"c7443b4d-277b-47d7-85be-885a0bcf6387\",\"type\":\"Toolbar\"},\"x_range\":{\"id\":\"9a461cf7-aa71-42ad-9f84-9925f9f46358\",\"type\":\"Range1d\"},\"x_scale\":{\"id\":\"4f5d11a3-6fb1-4efd-bf14-604f54a8f0e8\",\"type\":\"LogScale\"},\"y_range\":{\"id\":\"af06eb3e-1d4d-4f17-95b4-d557185556d2\",\"type\":\"Range1d\"},\"y_scale\":{\"id\":\"67be4a2c-da7c-4646-8a58-9aac463ca2d0\",\"type\":\"LinearScale\"}},\"id\":\"b49b5713-7eda-4fad-b4a6-7ddfb9b62f84\",\"subtype\":\"Figure\",\"type\":\"Plot\"},{\"attributes\":{\"format\":\"$0,\"},\"id\":\"8a97f387-554b-408e-a29a-ad68719b881c\",\"type\":\"NumeralTickFormatter\"},{\"attributes\":{\"bottom_units\":\"screen\",\"fill_alpha\":{\"value\":0.5},\"fill_color\":{\"value\":\"lightgrey\"},\"left_units\":\"screen\",\"level\":\"overlay\",\"line_alpha\":{\"value\":1.0},\"line_color\":{\"value\":\"black\"},\"line_dash\":[4,4],\"line_width\":{\"value\":2},\"plot\":null,\"render_mode\":\"css\",\"right_units\":\"screen\",\"top_units\":\"screen\"},\"id\":\"5c66ac6f-53ab-4e05-a524-485586288413\",\"type\":\"BoxAnnotation\"},{\"attributes\":{\"fill_alpha\":{\"value\":0.6},\"fill_color\":{\"value\":\"orange\"},\"line_alpha\":{\"value\":0.6},\"line_color\":{\"value\":\"orange\"},\"size\":{\"field\":\"population\",\"transform\":{\"id\":\"57b3daff-9002-4abc-a1b8-e799c36e7164\",\"type\":\"LinearInterpolator\"},\"units\":\"screen\"},\"x\":{\"field\":\"gdpPercap\"},\"y\":{\"field\":\"lifeExp\"}},\"id\":\"8f8885f6-4928-4ce3-9996-c418824be37b\",\"type\":\"Circle\"},{\"attributes\":{},\"id\":\"f0f612b0-5c68-4cc4-ac43-2fa7c22c0e35\",\"type\":\"PanTool\"},{\"attributes\":{\"callback\":null,\"end\":100},\"id\":\"af06eb3e-1d4d-4f17-95b4-d557185556d2\",\"type\":\"Range1d\"},{\"attributes\":{},\"id\":\"67be4a2c-da7c-4646-8a58-9aac463ca2d0\",\"type\":\"LinearScale\"},{\"attributes\":{},\"id\":\"c8921d4b-5259-4fe4-b9e3-7ed3c38fa3e4\",\"type\":\"WheelZoomTool\"},{\"attributes\":{\"source\":{\"id\":\"0c671b30-2a5d-41c9-a5b5-9e409ac5c8d3\",\"type\":\"ColumnDataSource\"}},\"id\":\"3f4f8057-e3af-47ac-9097-640a7bf1411f\",\"type\":\"CDSView\"},{\"attributes\":{\"plot\":null,\"text\":\"Life Expectancy vs GDP of Nations for 2010\"},\"id\":\"2b188762-8fd9-4c2a-af38-76a01c896cc7\",\"type\":\"Title\"},{\"attributes\":{\"overlay\":{\"id\":\"5c66ac6f-53ab-4e05-a524-485586288413\",\"type\":\"BoxAnnotation\"}},\"id\":\"7b401f34-a810-4fdd-9d01-5eb4b4c65edc\",\"type\":\"BoxZoomTool\"},{\"attributes\":{\"callback\":null,\"end\":100000,\"start\":100},\"id\":\"9a461cf7-aa71-42ad-9f84-9925f9f46358\",\"type\":\"Range1d\"},{\"attributes\":{},\"id\":\"afd9a831-d319-4117-839e-360820fbb14b\",\"type\":\"SaveTool\"},{\"attributes\":{\"callback\":null,\"column_names\":[\"country\",\"continent\",\"lifeExp\",\"population\",\"gdpPercap\",\"year\"],\"data\":{\"continent\":[\"Asia\",\"Europe\",\"Africa\",\"Africa\",\"Americas\",\"Oceania\",\"Europe\",\"Asia\",\"Asia\",\"Europe\",\"Africa\",\"Americas\",\"Europe\",\"Africa\",\"Americas\",\"Europe\",\"Africa\",\"Africa\",\"Asia\",\"Africa\",\"Americas\",\"Africa\",\"Africa\",\"Americas\",\"Asia\",\"Americas\",\"Africa\",\"Africa\",\"Africa\",\"Americas\",\"Africa\",\"Europe\",\"Americas\",\"Europe\",\"Europe\",\"Africa\",\"Americas\",\"Americas\",\"Africa\",\"Americas\",\"Africa\",\"Africa\",\"Africa\",\"Europe\",\"Europe\",\"Africa\",\"Africa\",\"Europe\",\"Africa\",\"Europe\",\"Americas\",\"Africa\",\"Africa\",\"Americas\",\"Americas\",\"Asia\",\"Europe\",\"Europe\",\"Asia\",\"Asia\",\"Asia\",\"Asia\",\"Europe\",\"Asia\",\"Europe\",\"Americas\",\"Asia\",\"Asia\",\"Africa\",\"Asia\",\"Asia\",\"Asia\",\"Asia\",\"Africa\",\"Africa\",\"Africa\",\"Africa\",\"Africa\",\"Asia\",\"Africa\",\"Africa\",\"Africa\",\"Americas\",\"Asia\",\"Europe\",\"Africa\",\"Africa\",\"Asia\",\"Africa\",\"Asia\",\"Europe\",\"Oceania\",\"Americas\",\"Africa\",\"Africa\",\"Europe\",\"Asia\",\"Asia\",\"Americas\",\"Americas\",\"Americas\",\"Asia\",\"Europe\",\"Europe\",\"Americas\",\"Africa\",\"Europe\",\"Africa\",\"Africa\",\"Asia\",\"Africa\",\"Europe\",\"Africa\",\"Asia\",\"Europe\",\"Europe\",\"Africa\",\"Africa\",\"Europe\",\"Asia\",\"Africa\",\"Africa\",\"Europe\",\"Europe\",\"Asia\",\"Asia\",\"Africa\",\"Asia\",\"Africa\",\"Americas\",\"Africa\",\"Europe\",\"Africa\",\"Europe\",\"Americas\",\"Americas\",\"Americas\",\"Asia\",\"Asia\",\"Asia\",\"Africa\",\"Africa\"],\"country\":[\"Afghanistan\",\"Albania\",\"Algeria\",\"Angola\",\"Argentina\",\"Australia\",\"Austria\",\"Bahrain\",\"Bangladesh\",\"Belgium\",\"Benin\",\"Bolivia\",\"Bosnia and Herzegovina\",\"Botswana\",\"Brazil\",\"Bulgaria\",\"Burkina Faso\",\"Burundi\",\"Cambodia\",\"Cameroon\",\"Canada\",\"Central African Republic\",\"Chad\",\"Chile\",\"China\",\"Colombia\",\"Comoros\",\"Congo, Dem. Rep.\",\"Congo, Rep.\",\"Costa Rica\",\"Cote d'Ivoire\",\"Croatia\",\"Cuba\",\"Czech Republic\",\"Denmark\",\"Djibouti\",\"Dominican Republic\",\"Ecuador\",\"Egypt\",\"El Salvador\",\"Equatorial Guinea\",\"Eritrea\",\"Ethiopia\",\"Finland\",\"France\",\"Gabon\",\"Gambia\",\"Germany\",\"Ghana\",\"Greece\",\"Guatemala\",\"Guinea\",\"Guinea-Bissau\",\"Haiti\",\"Honduras\",\"Hong Kong, China\",\"Hungary\",\"Iceland\",\"India\",\"Indonesia\",\"Iran\",\"Iraq\",\"Ireland\",\"Israel\",\"Italy\",\"Jamaica\",\"Japan\",\"Jordan\",\"Kenya\",\"Korea, Dem. Rep.\",\"Korea, Rep.\",\"Kuwait\",\"Lebanon\",\"Lesotho\",\"Liberia\",\"Libya\",\"Madagascar\",\"Malawi\",\"Malaysia\",\"Mali\",\"Mauritania\",\"Mauritius\",\"Mexico\",\"Mongolia\",\"Montenegro\",\"Morocco\",\"Mozambique\",\"Myanmar\",\"Namibia\",\"Nepal\",\"Netherlands\",\"New Zealand\",\"Nicaragua\",\"Niger\",\"Nigeria\",\"Norway\",\"Oman\",\"Pakistan\",\"Panama\",\"Paraguay\",\"Peru\",\"Philippines\",\"Poland\",\"Portugal\",\"Puerto Rico\",\"Reunion\",\"Romania\",\"Rwanda\",\"Sao Tome and Principe\",\"Saudi Arabia\",\"Senegal\",\"Serbia\",\"Sierra Leone\",\"Singapore\",\"Slovak Republic\",\"Slovenia\",\"Somalia\",\"South Africa\",\"Spain\",\"Sri Lanka\",\"Sudan\",\"Swaziland\",\"Sweden\",\"Switzerland\",\"Syria\",\"Taiwan\",\"Tanzania\",\"Thailand\",\"Togo\",\"Trinidad and Tobago\",\"Tunisia\",\"Turkey\",\"Uganda\",\"United Kingdom\",\"United States\",\"Uruguay\",\"Venezuela\",\"Vietnam\",\"West Bank and Gaza\",\"Yemen, Rep.\",\"Zambia\",\"Zimbabwe\"],\"gdpPercap\":{\"__ndarray__\":\"54R1iKR0jkBhFASPBzG3QG2tLxJeT7hApWlQNDu9skAhJAuYsPXIQOeHEcJr0OBAWMoyxM+j4UDFpwAYAxndQPLPDOIDvZVAb7vQXJNz4EAOar+1I4WWQJ3B3y9G3K1A8nhafkwWvUDcoswG7YzIQGkAb4HmtMFAzzEge2XcxEDb2y3JIQSTQKLhg40h4XpAad/cXx3HmkAVNZiGYeifQAixM4Xnu+FAZJEm3iEQhkDhP91AQaCaQIY41sXRuclA0F0SZx1fs0D67laWlF67QBM+Stsu0Y5ANcjJadRYcUCMD7OXHWGsQKlNnNyH1sJAWTFcHQAjmEAUxhaCnI3MQIGzlCwNesFAH7qgvlNM1kCxbVFmzTnhQKsn84/2RKBAHUC/71+Jt0Dl9ssnQ9m6QKSK4lUuzbVArrzkf1pgtkBoke18C73HQM4Iysj0CoRAkQfH0XGWhUD5oGez4jbgQHbgnBGBwd1AIVnABD7LyUCOc5tw/4WHQL5Nf/aXat9A1GAahm++lEB47j1cmuTaQLQh/8wMQrRAcXkH0zt1jUCd8BKc2hmCQBAiGXKMxpJAB5ylZKm4q0Byv0NRn2XjQEJ4tHE8ltFACmMLQZmq4UCzX3e6ayijQIHuy5lNqatAqYdodNuqxkBtVRLZD3exQCxlGeJ/3ONAbqMBvNHs2EC8lpAPbubbQOq12VjhmLxAi1QYWwTq3kDdek0PdqexQO3Vx0P/3JZAK2owDUPkmEASGVbxCM3WQEgbR6xfGedAd4TTgoduxEAVGohlU4WYQHXmHhIe6HlAxjNo6L+Mx0Ay/+ibFFOQQFKgqp3MuodAXCBB8dNRyEAKn62DU0qQQOd1xCGbLJxANSkF3X5mxUBBDkqYyWTHQE3BGmeLL6hAS+fDs/ISwkCOHr+3WditQL3HmSZ8vYlAAAAAAACAjUC7YkZ4D8uyQEjfpGlwDZFAlufB3b334UAEHEKVQJjYQFJEhlWkeqVASQeQRmpdg0DfVKTC6HefQFZl3xWmGehAmGn7VwzL1UCwrDQp5VukQHui68KXKMNA4KKTpdZMsECIf9jS5/C8QLWpukf27KhAowvqW/YOzkBVTRB1aQfUQKJ6a2At4NJA3Qn2Xx/2vUDT2cngPBzFQASrjyy1+IpAZof4h735mEAPRYE+tSXVQA6dnnfjwZpAWyOCcUQdw0DnJO93U/SKQKFinL/lBOdAYHZPHpQ90kByxFp8ECrZQAW4augg8YxAhnMNM9QawkAwKqkTRCXcQJ+xL9kwBK9AK97IPMpUpEANbmsLe6GxQP+ye/J3iOBAF30FaU1Q4kBMio9PjFiwQI4ev7eRC9xA4UIewe1NkUCFr691ZSK9QKkf5XHCl4tAdF5jlyCW0UBkzF1L7LS7QJIIjWAjhcBAGH5wPoWBkEDj32dcaDbgQOv/HOb0+ORAMJ5BQ7u5xEBclNkg50vGQJHSbB4nE6NAajS5GLOip0D9hR4xitGhQEDc1avY3JNA2On2SFlbfUA=\",\"dtype\":\"float64\",\"shape\":[142]},\"lifeExp\":{\"__ndarray__\":\"RIts5/vpRUBQjZduEhtTQCUGgZVDE1JAIbByaJFdRUAUrkfhetRSQNejcD0KT1RAkxgEVg71U0BxPQrXo+hSQIcW2c73A1BATmIQWDncU0B3vp8aL11MQPp+arx0Y1BASgwCK4e2UkB3vp8aL11JQClcj8L1GFJAuB6F61FAUkD2KFyPwiVKQArXo3A9ykhABoGVQ4vcTUDXo3A9CjdJQG8Sg8DKKVRAAyuHFtleRkAX2c73U1NJQAisHFpko1NAL90kBoE9UkA3iUFg5ThSQH0/NV66SVBAQWDl0CI7R0Dvp8ZLN6lLQDVeukkMslNARIts5/spSEAdWmQ73+9SQLbz/dR4kVNAyXa+nxofU0Boke18P5VTQGmR7Xw/ZUtA16NwPQoPUkBWDi2ynb9SQBODwMqh1VFA1XjpJjH4UUAmMQisHMpJQIXrUbgeBU1A76fGSzd5SkB56SYxCNRTQDVeukkMKlRArkfhehReTEDTTWIQWLlNQESLbOf72VNAiUFg5dACTkD0/dR46d5TQH9qvHSTkFFAN4lBYOUATECMbOf7qTFHQGmR7Xw/dU5A6iYxCKyMUUBaZDvfT41UQBODwMqhVVJAnMQgsHJwVEDqJjEIrCxQQJqZmZmZqVFABFYOLbK9UUD2KFyPwsVNQHE9CtejuFNASOF6FK4vVEBt5/up8SJUQD81XrpJJFJAO99PjZemVEAK16NwPSJSQK5H4XoUDktAXrpJDALTUEAdWmQ736dTQBODwMqhZVNAZDvfT43/UUCyne+nxktFQBFYObTI1kZAsHJoke18UkBjEFg5tLhNQBFYObTIJkhAgZVDi2yPUkCyne+nxjtLQNEi2/l+ClBAJQaBlUMzUkAUrkfhegxTQAisHFpks1BAmG4Sg8CiUkDRItv5fspRQNEi2/l+CkVARbbz/dQIT0CIFtnO93NKQBSuR+F65E9AVOOlm8TwU0CTGARWDg1UQKjGSzeJOVJA5dAi2/luTEDKoUW2821HQAaBlUOLDFRAKVyPwvXoUkD0/dR46V5QQO18PzVe4lJA46WbxCDwUUBt5/up8dpRQHnpJjEI7FFAeekmMQjkUkCDwMqhRYZTQDq0yHa+r1NAPzVeukkcU0BYObTIdh5SQOXQItv5HkdAbxKDwMphUEB9PzVeujFSQA4tsp3vh09A46WbxCCAUkBjEFg5tEhFQJHtfD81/lNA30+Nl26qUkAlBoGVQ3tTQDEIrBxaFEhACKwcWmSrSEBOYhBYOTxUQNNNYhBYGVJAu0kMAitHTUBYObTIds5DQH9qvHSTOFRAv58aL91sVED+1HjpJolSQJqZmZmZmVNAGARWDi1CSkCBlUOLbKdRQPYoXI/CNU1AI9v5fmp0UUBQjZduEntSQH0/NV668VFATDeJQWDFSUAzMzMzM9tTQHNoke18j1NAf2q8dJMYU0ArhxbZzm9SQA4tsp3vj1JAXrpJDAJbUkDTTWIQWFlPQP3UeOkmMUVAdJMYBFa+RUA=\",\"dtype\":\"float64\",\"shape\":[142]},\"population\":[31889923,3600523,33333216,12420476,40301927,20434176,8199783,708573,150448339,10392226,8078314,9119152,4552198,1639131,190010647,7322858,14326203,8390505,14131858,17696293,33390141,4369038,10238807,16284741,1318683096,44227550,710960,64606759,3800610,4133884,18013409,4493312,11416987,10228744,5468120,496374,9319622,13755680,80264543,6939688,551201,4906585,76511887,5238460,61083916,1454867,1688359,82400996,22873338,10706290,12572928,9947814,1472041,8502814,7483763,6980412,9956108,301931,1110396331,223547000,69453570,27499638,4109086,6426679,58147733,2780132,127467972,6053193,35610177,23301725,49044790,2505559,3921278,2012649,3193942,6036914,19167654,13327079,24821286,12031795,3270065,1250882,108700891,2874127,684736,33757175,19951656,47761980,2055080,28901790,16570613,4115771,5675356,12894865,135031164,4627926,3204897,169270617,3242173,6667147,28674757,91077287,38518241,10642836,3942491,798094,22276056,8860588,199579,27601038,12267493,10150265,6144562,4553009,5447502,2009245,9118773,43997828,40448191,20378239,42292929,1133066,9031088,7554661,19314747,23174294,38139640,65068149,5701579,1056608,10276158,71158647,29170398,60776238,301139947,3447496,26084662,85262356,4018332,22211743,11746035,12311143],\"year\":[2007,2007,2007,2007,2007,2007,2007,2007,2007,2007,2007,2007,2007,2007,2007,2007,2007,2007,2007,2007,2007,2007,2007,2007,2007,2007,2007,2007,2007,2007,2007,2007,2007,2007,2007,2007,2007,2007,2007,2007,2007,2007,2007,2007,2007,2007,2007,2007,2007,2007,2007,2007,2007,2007,2007,2007,2007,2007,2007,2007,2007,2007,2007,2007,2007,2007,2007,2007,2007,2007,2007,2007,2007,2007,2007,2007,2007,2007,2007,2007,2007,2007,2007,2007,2007,2007,2007,2007,2007,2007,2007,2007,2007,2007,2007,2007,2007,2007,2007,2007,2007,2007,2007,2007,2007,2007,2007,2007,2007,2007,2007,2007,2007,2007,2007,2007,2007,2007,2007,2007,2007,2007,2007,2007,2007,2007,2007,2007,2007,2007,2007,2007,2007,2007,2007,2007,2007,2007,2007,2007,2007,2007]}},\"id\":\"0c671b30-2a5d-41c9-a5b5-9e409ac5c8d3\",\"type\":\"ColumnDataSource\"},{\"attributes\":{\"data\":null,\"x\":[60011,1318683096],\"y\":[10,100]},\"id\":\"57b3daff-9002-4abc-a1b8-e799c36e7164\",\"type\":\"LinearInterpolator\"},{\"attributes\":{},\"id\":\"8e89d96c-158a-4efe-aef9-e0e81d41bb99\",\"type\":\"ResetTool\"},{\"attributes\":{\"active_drag\":\"auto\",\"active_inspect\":\"auto\",\"active_scroll\":\"auto\",\"active_tap\":\"auto\",\"tools\":[{\"id\":\"f0f612b0-5c68-4cc4-ac43-2fa7c22c0e35\",\"type\":\"PanTool\"},{\"id\":\"c8921d4b-5259-4fe4-b9e3-7ed3c38fa3e4\",\"type\":\"WheelZoomTool\"},{\"id\":\"7b401f34-a810-4fdd-9d01-5eb4b4c65edc\",\"type\":\"BoxZoomTool\"},{\"id\":\"afd9a831-d319-4117-839e-360820fbb14b\",\"type\":\"SaveTool\"},{\"id\":\"8e89d96c-158a-4efe-aef9-e0e81d41bb99\",\"type\":\"ResetTool\"},{\"id\":\"ccfabe3f-96d5-40f7-9560-bc325e45cb5d\",\"type\":\"HelpTool\"}]},\"id\":\"c7443b4d-277b-47d7-85be-885a0bcf6387\",\"type\":\"Toolbar\"},{\"attributes\":{},\"id\":\"ccfabe3f-96d5-40f7-9560-bc325e45cb5d\",\"type\":\"HelpTool\"},{\"attributes\":{\"num_minor_ticks\":10},\"id\":\"e053781e-42cb-4e01-b8e7-e1867f0f9c49\",\"type\":\"LogTicker\"},{\"attributes\":{},\"id\":\"4f5d11a3-6fb1-4efd-bf14-604f54a8f0e8\",\"type\":\"LogScale\"},{\"attributes\":{\"fill_alpha\":{\"value\":0.1},\"fill_color\":{\"value\":\"#1f77b4\"},\"line_alpha\":{\"value\":0.1},\"line_color\":{\"value\":\"#1f77b4\"},\"size\":{\"field\":\"population\",\"transform\":{\"id\":\"57b3daff-9002-4abc-a1b8-e799c36e7164\",\"type\":\"LinearInterpolator\"},\"units\":\"screen\"},\"x\":{\"field\":\"gdpPercap\"},\"y\":{\"field\":\"lifeExp\"}},\"id\":\"2ee49437-15e4-4a42-b9bc-7b635b323d89\",\"type\":\"Circle\"},{\"attributes\":{\"data_source\":{\"id\":\"0c671b30-2a5d-41c9-a5b5-9e409ac5c8d3\",\"type\":\"ColumnDataSource\"},\"glyph\":{\"id\":\"8f8885f6-4928-4ce3-9996-c418824be37b\",\"type\":\"Circle\"},\"hover_glyph\":null,\"muted_glyph\":null,\"nonselection_glyph\":{\"id\":\"2ee49437-15e4-4a42-b9bc-7b635b323d89\",\"type\":\"Circle\"},\"selection_glyph\":null,\"view\":{\"id\":\"3f4f8057-e3af-47ac-9097-640a7bf1411f\",\"type\":\"CDSView\"}},\"id\":\"6d9e7610-aee0-4e91-b529-5175e036cf1e\",\"type\":\"GlyphRenderer\"},{\"attributes\":{\"plot\":{\"id\":\"b49b5713-7eda-4fad-b4a6-7ddfb9b62f84\",\"subtype\":\"Figure\",\"type\":\"Plot\"},\"ticker\":{\"id\":\"e053781e-42cb-4e01-b8e7-e1867f0f9c49\",\"type\":\"LogTicker\"}},\"id\":\"90943dfe-e193-45fa-8f6c-6ea637e23cc0\",\"type\":\"Grid\"},{\"attributes\":{\"axis_label\":\"GDP per Capita\",\"formatter\":{\"id\":\"8a97f387-554b-408e-a29a-ad68719b881c\",\"type\":\"NumeralTickFormatter\"},\"plot\":{\"id\":\"b49b5713-7eda-4fad-b4a6-7ddfb9b62f84\",\"subtype\":\"Figure\",\"type\":\"Plot\"},\"ticker\":{\"id\":\"e053781e-42cb-4e01-b8e7-e1867f0f9c49\",\"type\":\"LogTicker\"}},\"id\":\"79b0f192-e5c7-44c6-9782-183d1a240051\",\"type\":\"LogAxis\"},{\"attributes\":{\"axis_label\":\"Life Expectancy\",\"formatter\":{\"id\":\"272514a2-c583-4caa-a401-ff3aa59e7b4b\",\"type\":\"BasicTickFormatter\"},\"plot\":{\"id\":\"b49b5713-7eda-4fad-b4a6-7ddfb9b62f84\",\"subtype\":\"Figure\",\"type\":\"Plot\"},\"ticker\":{\"id\":\"bdcc1449-191d-4ec5-9292-2174a5f97a2a\",\"type\":\"BasicTicker\"}},\"id\":\"ff481f74-285f-47e6-8e74-94daa7e7c34c\",\"type\":\"LinearAxis\"},{\"attributes\":{},\"id\":\"bdcc1449-191d-4ec5-9292-2174a5f97a2a\",\"type\":\"BasicTicker\"},{\"attributes\":{\"dimension\":1,\"plot\":{\"id\":\"b49b5713-7eda-4fad-b4a6-7ddfb9b62f84\",\"subtype\":\"Figure\",\"type\":\"Plot\"},\"ticker\":{\"id\":\"bdcc1449-191d-4ec5-9292-2174a5f97a2a\",\"type\":\"BasicTicker\"}},\"id\":\"1e1b71ca-0be0-4485-a051-55e7f100b1f8\",\"type\":\"Grid\"},{\"attributes\":{},\"id\":\"272514a2-c583-4caa-a401-ff3aa59e7b4b\",\"type\":\"BasicTickFormatter\"}],\"root_ids\":[\"b49b5713-7eda-4fad-b4a6-7ddfb9b62f84\"]},\"title\":\"Bokeh Application\",\"version\":\"0.12.13\"}};\n",
       "  var render_items = [{\"docid\":\"927c9ec0-ab66-4200-aa15-80434a8d6c67\",\"elementid\":\"6424b5e7-41a4-4cd4-9ae3-6564fa6c316f\",\"modelid\":\"b49b5713-7eda-4fad-b4a6-7ddfb9b62f84\"}];\n",
       "  root.Bokeh.embed.embed_items_notebook(docs_json, render_items);\n",
       "\n",
       "  }\n",
       "  if (root.Bokeh !== undefined) {\n",
       "    embed_document(root);\n",
       "  } else {\n",
       "    var attempts = 0;\n",
       "    var timer = setInterval(function(root) {\n",
       "      if (root.Bokeh !== undefined) {\n",
       "        embed_document(root);\n",
       "        clearInterval(timer);\n",
       "      }\n",
       "      attempts++;\n",
       "      if (attempts > 100) {\n",
       "        console.log(\"Bokeh: ERROR: Unable to run BokehJS code because BokehJS library is missing\")\n",
       "        clearInterval(timer);\n",
       "      }\n",
       "    }, 10, root)\n",
       "  }\n",
       "})(window);"
      ],
      "application/vnd.bokehjs_exec.v0+json": ""
     },
     "metadata": {
      "application/vnd.bokehjs_exec.v0+json": {
       "id": "b49b5713-7eda-4fad-b4a6-7ddfb9b62f84"
      }
     },
     "output_type": "display_data"
    }
   ],
   "source": [
    "#Resizing the bubbles w.r.t population\n",
    "\n",
    "from bokeh.io import show\n",
    "from bokeh.models import LinearInterpolator\n",
    "from bokeh.plotting import figure\n",
    "\n",
    "\n",
    "p = figure(\n",
    "    height = 400, \n",
    "    width = 600,\n",
    "    x_axis_type = 'log',\n",
    "    x_range = (100,100000), y_range = (0,100),\n",
    "    title = \"Life Expectancy vs GDP of Nations for 2010\")\n",
    "\n",
    "\n",
    "size_mapper = LinearInterpolator(\n",
    "    x = [data.population.min(), data.population.max()],\n",
    "    y = [10,100]\n",
    ")\n",
    "\n",
    "\n",
    "p.circle(x='gdpPercap', y='lifeExp',color=\"orange\",alpha=0.6,source=source,\n",
    "         size={'field':'population', 'transform':size_mapper})\n",
    "\n",
    "p.xaxis.axis_label = \"GDP per Capita\"\n",
    "p.yaxis.axis_label = \"Life Expectancy\"\n",
    "\n",
    "\n",
    "from bokeh.models import NumeralTickFormatter\n",
    "p.xaxis[0].formatter = NumeralTickFormatter(format='$0,')\n",
    "\n",
    "show(p)"
   ]
  },
  {
   "cell_type": "code",
   "execution_count": 16,
   "metadata": {},
   "outputs": [
    {
     "data": {
      "text/html": [
       "\n",
       "<div class=\"bk-root\">\n",
       "    <div class=\"bk-plotdiv\" id=\"b1df758b-8063-4387-b770-689f19b475a3\"></div>\n",
       "</div>"
      ]
     },
     "metadata": {},
     "output_type": "display_data"
    },
    {
     "data": {
      "application/javascript": [
       "(function(root) {\n",
       "  function embed_document(root) {\n",
       "    \n",
       "  var docs_json = {\"5a0a2410-1c41-4cd0-9719-2f7775e32b06\":{\"roots\":{\"references\":[{\"attributes\":{},\"id\":\"8cdd7bcc-cd59-4c56-b745-be655b109866\",\"type\":\"HelpTool\"},{\"attributes\":{},\"id\":\"26412153-6d7a-4946-8d17-d033893a9eac\",\"type\":\"BasicTickFormatter\"},{\"attributes\":{\"label\":{\"field\":\"continent\"},\"renderers\":[{\"id\":\"ee4cd30e-0c89-4bbf-8e62-35b480423e73\",\"type\":\"GlyphRenderer\"}]},\"id\":\"8ab02167-b186-43f4-ae87-ba107f9fefe0\",\"type\":\"LegendItem\"},{\"attributes\":{},\"id\":\"44a6ff7e-63ae-48d0-b0a2-e348d26dcb50\",\"type\":\"LinearScale\"},{\"attributes\":{\"factors\":[\"Asia\",\"Europe\",\"Africa\",\"Americas\",\"Oceania\"],\"palette\":[\"#3288bd\",\"#99d594\",\"#e6f598\",\"#fee08b\",\"#fc8d59\",\"#d53e4f\"]},\"id\":\"5cfb7ebd-e2e9-42af-b46f-4a57a1752f32\",\"type\":\"CategoricalColorMapper\"},{\"attributes\":{\"callback\":null,\"end\":100},\"id\":\"6c824aa3-71f5-427e-9f37-017491dd86df\",\"type\":\"Range1d\"},{\"attributes\":{\"num_minor_ticks\":10},\"id\":\"2a2a1b7e-53a4-49bc-bc27-4d5cd6201f9a\",\"type\":\"LogTicker\"},{\"attributes\":{\"active_drag\":\"auto\",\"active_inspect\":\"auto\",\"active_scroll\":\"auto\",\"active_tap\":\"auto\",\"tools\":[{\"id\":\"d2c26812-9d5b-448d-9176-5f2942d32e6b\",\"type\":\"PanTool\"},{\"id\":\"edd2b973-3fe2-4199-b19d-63cd266b71de\",\"type\":\"WheelZoomTool\"},{\"id\":\"715a6d43-eb57-44f0-b546-f5bb8057cfcf\",\"type\":\"BoxZoomTool\"},{\"id\":\"cc5762ae-439a-4873-aa76-ebb0eea8eb89\",\"type\":\"SaveTool\"},{\"id\":\"c1a42adc-7563-47b9-ae7f-7084368ede40\",\"type\":\"ResetTool\"},{\"id\":\"8cdd7bcc-cd59-4c56-b745-be655b109866\",\"type\":\"HelpTool\"}]},\"id\":\"708ff23d-f568-4c4e-ae4c-af6470139d11\",\"type\":\"Toolbar\"},{\"attributes\":{\"format\":\"$0,\"},\"id\":\"20e388c1-a14b-46cc-9f19-8e83ff67d394\",\"type\":\"NumeralTickFormatter\"},{\"attributes\":{\"data\":null,\"x\":[60011,1318683096],\"y\":[10,100]},\"id\":\"1bb85ae7-7e54-4940-b644-a00964871417\",\"type\":\"LinearInterpolator\"},{\"attributes\":{\"plot\":{\"id\":\"a917f1e5-ab2b-4bbf-a0f6-95dfce5e372b\",\"subtype\":\"Figure\",\"type\":\"Plot\"},\"ticker\":{\"id\":\"2a2a1b7e-53a4-49bc-bc27-4d5cd6201f9a\",\"type\":\"LogTicker\"}},\"id\":\"e8dbc1a9-7777-42ba-9591-933df1e8869f\",\"type\":\"Grid\"},{\"attributes\":{\"callback\":null,\"end\":100000,\"start\":100},\"id\":\"e217cfa6-d115-4ce6-9d72-d8c52543e5d8\",\"type\":\"Range1d\"},{\"attributes\":{\"fill_alpha\":{\"value\":0.6},\"fill_color\":{\"field\":\"continent\",\"transform\":{\"id\":\"5cfb7ebd-e2e9-42af-b46f-4a57a1752f32\",\"type\":\"CategoricalColorMapper\"}},\"line_alpha\":{\"value\":0.6},\"line_color\":{\"field\":\"continent\",\"transform\":{\"id\":\"5cfb7ebd-e2e9-42af-b46f-4a57a1752f32\",\"type\":\"CategoricalColorMapper\"}},\"size\":{\"field\":\"population\",\"transform\":{\"id\":\"1bb85ae7-7e54-4940-b644-a00964871417\",\"type\":\"LinearInterpolator\"},\"units\":\"screen\"},\"x\":{\"field\":\"gdpPercap\"},\"y\":{\"field\":\"lifeExp\"}},\"id\":\"a97745e5-705c-4f40-b5b6-aa80832ddd64\",\"type\":\"Circle\"},{\"attributes\":{},\"id\":\"edd2b973-3fe2-4199-b19d-63cd266b71de\",\"type\":\"WheelZoomTool\"},{\"attributes\":{\"callback\":null,\"column_names\":[\"country\",\"continent\",\"lifeExp\",\"population\",\"gdpPercap\",\"year\"],\"data\":{\"continent\":[\"Asia\",\"Europe\",\"Africa\",\"Africa\",\"Americas\",\"Oceania\",\"Europe\",\"Asia\",\"Asia\",\"Europe\",\"Africa\",\"Americas\",\"Europe\",\"Africa\",\"Americas\",\"Europe\",\"Africa\",\"Africa\",\"Asia\",\"Africa\",\"Americas\",\"Africa\",\"Africa\",\"Americas\",\"Asia\",\"Americas\",\"Africa\",\"Africa\",\"Africa\",\"Americas\",\"Africa\",\"Europe\",\"Americas\",\"Europe\",\"Europe\",\"Africa\",\"Americas\",\"Americas\",\"Africa\",\"Americas\",\"Africa\",\"Africa\",\"Africa\",\"Europe\",\"Europe\",\"Africa\",\"Africa\",\"Europe\",\"Africa\",\"Europe\",\"Americas\",\"Africa\",\"Africa\",\"Americas\",\"Americas\",\"Asia\",\"Europe\",\"Europe\",\"Asia\",\"Asia\",\"Asia\",\"Asia\",\"Europe\",\"Asia\",\"Europe\",\"Americas\",\"Asia\",\"Asia\",\"Africa\",\"Asia\",\"Asia\",\"Asia\",\"Asia\",\"Africa\",\"Africa\",\"Africa\",\"Africa\",\"Africa\",\"Asia\",\"Africa\",\"Africa\",\"Africa\",\"Americas\",\"Asia\",\"Europe\",\"Africa\",\"Africa\",\"Asia\",\"Africa\",\"Asia\",\"Europe\",\"Oceania\",\"Americas\",\"Africa\",\"Africa\",\"Europe\",\"Asia\",\"Asia\",\"Americas\",\"Americas\",\"Americas\",\"Asia\",\"Europe\",\"Europe\",\"Americas\",\"Africa\",\"Europe\",\"Africa\",\"Africa\",\"Asia\",\"Africa\",\"Europe\",\"Africa\",\"Asia\",\"Europe\",\"Europe\",\"Africa\",\"Africa\",\"Europe\",\"Asia\",\"Africa\",\"Africa\",\"Europe\",\"Europe\",\"Asia\",\"Asia\",\"Africa\",\"Asia\",\"Africa\",\"Americas\",\"Africa\",\"Europe\",\"Africa\",\"Europe\",\"Americas\",\"Americas\",\"Americas\",\"Asia\",\"Asia\",\"Asia\",\"Africa\",\"Africa\"],\"country\":[\"Afghanistan\",\"Albania\",\"Algeria\",\"Angola\",\"Argentina\",\"Australia\",\"Austria\",\"Bahrain\",\"Bangladesh\",\"Belgium\",\"Benin\",\"Bolivia\",\"Bosnia and Herzegovina\",\"Botswana\",\"Brazil\",\"Bulgaria\",\"Burkina Faso\",\"Burundi\",\"Cambodia\",\"Cameroon\",\"Canada\",\"Central African Republic\",\"Chad\",\"Chile\",\"China\",\"Colombia\",\"Comoros\",\"Congo, Dem. Rep.\",\"Congo, Rep.\",\"Costa Rica\",\"Cote d'Ivoire\",\"Croatia\",\"Cuba\",\"Czech Republic\",\"Denmark\",\"Djibouti\",\"Dominican Republic\",\"Ecuador\",\"Egypt\",\"El Salvador\",\"Equatorial Guinea\",\"Eritrea\",\"Ethiopia\",\"Finland\",\"France\",\"Gabon\",\"Gambia\",\"Germany\",\"Ghana\",\"Greece\",\"Guatemala\",\"Guinea\",\"Guinea-Bissau\",\"Haiti\",\"Honduras\",\"Hong Kong, China\",\"Hungary\",\"Iceland\",\"India\",\"Indonesia\",\"Iran\",\"Iraq\",\"Ireland\",\"Israel\",\"Italy\",\"Jamaica\",\"Japan\",\"Jordan\",\"Kenya\",\"Korea, Dem. Rep.\",\"Korea, Rep.\",\"Kuwait\",\"Lebanon\",\"Lesotho\",\"Liberia\",\"Libya\",\"Madagascar\",\"Malawi\",\"Malaysia\",\"Mali\",\"Mauritania\",\"Mauritius\",\"Mexico\",\"Mongolia\",\"Montenegro\",\"Morocco\",\"Mozambique\",\"Myanmar\",\"Namibia\",\"Nepal\",\"Netherlands\",\"New Zealand\",\"Nicaragua\",\"Niger\",\"Nigeria\",\"Norway\",\"Oman\",\"Pakistan\",\"Panama\",\"Paraguay\",\"Peru\",\"Philippines\",\"Poland\",\"Portugal\",\"Puerto Rico\",\"Reunion\",\"Romania\",\"Rwanda\",\"Sao Tome and Principe\",\"Saudi Arabia\",\"Senegal\",\"Serbia\",\"Sierra Leone\",\"Singapore\",\"Slovak Republic\",\"Slovenia\",\"Somalia\",\"South Africa\",\"Spain\",\"Sri Lanka\",\"Sudan\",\"Swaziland\",\"Sweden\",\"Switzerland\",\"Syria\",\"Taiwan\",\"Tanzania\",\"Thailand\",\"Togo\",\"Trinidad and Tobago\",\"Tunisia\",\"Turkey\",\"Uganda\",\"United Kingdom\",\"United States\",\"Uruguay\",\"Venezuela\",\"Vietnam\",\"West Bank and Gaza\",\"Yemen, Rep.\",\"Zambia\",\"Zimbabwe\"],\"gdpPercap\":{\"__ndarray__\":\"54R1iKR0jkBhFASPBzG3QG2tLxJeT7hApWlQNDu9skAhJAuYsPXIQOeHEcJr0OBAWMoyxM+j4UDFpwAYAxndQPLPDOIDvZVAb7vQXJNz4EAOar+1I4WWQJ3B3y9G3K1A8nhafkwWvUDcoswG7YzIQGkAb4HmtMFAzzEge2XcxEDb2y3JIQSTQKLhg40h4XpAad/cXx3HmkAVNZiGYeifQAixM4Xnu+FAZJEm3iEQhkDhP91AQaCaQIY41sXRuclA0F0SZx1fs0D67laWlF67QBM+Stsu0Y5ANcjJadRYcUCMD7OXHWGsQKlNnNyH1sJAWTFcHQAjmEAUxhaCnI3MQIGzlCwNesFAH7qgvlNM1kCxbVFmzTnhQKsn84/2RKBAHUC/71+Jt0Dl9ssnQ9m6QKSK4lUuzbVArrzkf1pgtkBoke18C73HQM4Iysj0CoRAkQfH0XGWhUD5oGez4jbgQHbgnBGBwd1AIVnABD7LyUCOc5tw/4WHQL5Nf/aXat9A1GAahm++lEB47j1cmuTaQLQh/8wMQrRAcXkH0zt1jUCd8BKc2hmCQBAiGXKMxpJAB5ylZKm4q0Byv0NRn2XjQEJ4tHE8ltFACmMLQZmq4UCzX3e6ayijQIHuy5lNqatAqYdodNuqxkBtVRLZD3exQCxlGeJ/3ONAbqMBvNHs2EC8lpAPbubbQOq12VjhmLxAi1QYWwTq3kDdek0PdqexQO3Vx0P/3JZAK2owDUPkmEASGVbxCM3WQEgbR6xfGedAd4TTgoduxEAVGohlU4WYQHXmHhIe6HlAxjNo6L+Mx0Ay/+ibFFOQQFKgqp3MuodAXCBB8dNRyEAKn62DU0qQQOd1xCGbLJxANSkF3X5mxUBBDkqYyWTHQE3BGmeLL6hAS+fDs/ISwkCOHr+3WditQL3HmSZ8vYlAAAAAAACAjUC7YkZ4D8uyQEjfpGlwDZFAlufB3b334UAEHEKVQJjYQFJEhlWkeqVASQeQRmpdg0DfVKTC6HefQFZl3xWmGehAmGn7VwzL1UCwrDQp5VukQHui68KXKMNA4KKTpdZMsECIf9jS5/C8QLWpukf27KhAowvqW/YOzkBVTRB1aQfUQKJ6a2At4NJA3Qn2Xx/2vUDT2cngPBzFQASrjyy1+IpAZof4h735mEAPRYE+tSXVQA6dnnfjwZpAWyOCcUQdw0DnJO93U/SKQKFinL/lBOdAYHZPHpQ90kByxFp8ECrZQAW4augg8YxAhnMNM9QawkAwKqkTRCXcQJ+xL9kwBK9AK97IPMpUpEANbmsLe6GxQP+ye/J3iOBAF30FaU1Q4kBMio9PjFiwQI4ev7eRC9xA4UIewe1NkUCFr691ZSK9QKkf5XHCl4tAdF5jlyCW0UBkzF1L7LS7QJIIjWAjhcBAGH5wPoWBkEDj32dcaDbgQOv/HOb0+ORAMJ5BQ7u5xEBclNkg50vGQJHSbB4nE6NAajS5GLOip0D9hR4xitGhQEDc1avY3JNA2On2SFlbfUA=\",\"dtype\":\"float64\",\"shape\":[142]},\"lifeExp\":{\"__ndarray__\":\"RIts5/vpRUBQjZduEhtTQCUGgZVDE1JAIbByaJFdRUAUrkfhetRSQNejcD0KT1RAkxgEVg71U0BxPQrXo+hSQIcW2c73A1BATmIQWDncU0B3vp8aL11MQPp+arx0Y1BASgwCK4e2UkB3vp8aL11JQClcj8L1GFJAuB6F61FAUkD2KFyPwiVKQArXo3A9ykhABoGVQ4vcTUDXo3A9CjdJQG8Sg8DKKVRAAyuHFtleRkAX2c73U1NJQAisHFpko1NAL90kBoE9UkA3iUFg5ThSQH0/NV66SVBAQWDl0CI7R0Dvp8ZLN6lLQDVeukkMslNARIts5/spSEAdWmQ73+9SQLbz/dR4kVNAyXa+nxofU0Boke18P5VTQGmR7Xw/ZUtA16NwPQoPUkBWDi2ynb9SQBODwMqh1VFA1XjpJjH4UUAmMQisHMpJQIXrUbgeBU1A76fGSzd5SkB56SYxCNRTQDVeukkMKlRArkfhehReTEDTTWIQWLlNQESLbOf72VNAiUFg5dACTkD0/dR46d5TQH9qvHSTkFFAN4lBYOUATECMbOf7qTFHQGmR7Xw/dU5A6iYxCKyMUUBaZDvfT41UQBODwMqhVVJAnMQgsHJwVEDqJjEIrCxQQJqZmZmZqVFABFYOLbK9UUD2KFyPwsVNQHE9CtejuFNASOF6FK4vVEBt5/up8SJUQD81XrpJJFJAO99PjZemVEAK16NwPSJSQK5H4XoUDktAXrpJDALTUEAdWmQ736dTQBODwMqhZVNAZDvfT43/UUCyne+nxktFQBFYObTI1kZAsHJoke18UkBjEFg5tLhNQBFYObTIJkhAgZVDi2yPUkCyne+nxjtLQNEi2/l+ClBAJQaBlUMzUkAUrkfhegxTQAisHFpks1BAmG4Sg8CiUkDRItv5fspRQNEi2/l+CkVARbbz/dQIT0CIFtnO93NKQBSuR+F65E9AVOOlm8TwU0CTGARWDg1UQKjGSzeJOVJA5dAi2/luTEDKoUW2821HQAaBlUOLDFRAKVyPwvXoUkD0/dR46V5QQO18PzVe4lJA46WbxCDwUUBt5/up8dpRQHnpJjEI7FFAeekmMQjkUkCDwMqhRYZTQDq0yHa+r1NAPzVeukkcU0BYObTIdh5SQOXQItv5HkdAbxKDwMphUEB9PzVeujFSQA4tsp3vh09A46WbxCCAUkBjEFg5tEhFQJHtfD81/lNA30+Nl26qUkAlBoGVQ3tTQDEIrBxaFEhACKwcWmSrSEBOYhBYOTxUQNNNYhBYGVJAu0kMAitHTUBYObTIds5DQH9qvHSTOFRAv58aL91sVED+1HjpJolSQJqZmZmZmVNAGARWDi1CSkCBlUOLbKdRQPYoXI/CNU1AI9v5fmp0UUBQjZduEntSQH0/NV668VFATDeJQWDFSUAzMzMzM9tTQHNoke18j1NAf2q8dJMYU0ArhxbZzm9SQA4tsp3vj1JAXrpJDAJbUkDTTWIQWFlPQP3UeOkmMUVAdJMYBFa+RUA=\",\"dtype\":\"float64\",\"shape\":[142]},\"population\":[31889923,3600523,33333216,12420476,40301927,20434176,8199783,708573,150448339,10392226,8078314,9119152,4552198,1639131,190010647,7322858,14326203,8390505,14131858,17696293,33390141,4369038,10238807,16284741,1318683096,44227550,710960,64606759,3800610,4133884,18013409,4493312,11416987,10228744,5468120,496374,9319622,13755680,80264543,6939688,551201,4906585,76511887,5238460,61083916,1454867,1688359,82400996,22873338,10706290,12572928,9947814,1472041,8502814,7483763,6980412,9956108,301931,1110396331,223547000,69453570,27499638,4109086,6426679,58147733,2780132,127467972,6053193,35610177,23301725,49044790,2505559,3921278,2012649,3193942,6036914,19167654,13327079,24821286,12031795,3270065,1250882,108700891,2874127,684736,33757175,19951656,47761980,2055080,28901790,16570613,4115771,5675356,12894865,135031164,4627926,3204897,169270617,3242173,6667147,28674757,91077287,38518241,10642836,3942491,798094,22276056,8860588,199579,27601038,12267493,10150265,6144562,4553009,5447502,2009245,9118773,43997828,40448191,20378239,42292929,1133066,9031088,7554661,19314747,23174294,38139640,65068149,5701579,1056608,10276158,71158647,29170398,60776238,301139947,3447496,26084662,85262356,4018332,22211743,11746035,12311143],\"year\":[2007,2007,2007,2007,2007,2007,2007,2007,2007,2007,2007,2007,2007,2007,2007,2007,2007,2007,2007,2007,2007,2007,2007,2007,2007,2007,2007,2007,2007,2007,2007,2007,2007,2007,2007,2007,2007,2007,2007,2007,2007,2007,2007,2007,2007,2007,2007,2007,2007,2007,2007,2007,2007,2007,2007,2007,2007,2007,2007,2007,2007,2007,2007,2007,2007,2007,2007,2007,2007,2007,2007,2007,2007,2007,2007,2007,2007,2007,2007,2007,2007,2007,2007,2007,2007,2007,2007,2007,2007,2007,2007,2007,2007,2007,2007,2007,2007,2007,2007,2007,2007,2007,2007,2007,2007,2007,2007,2007,2007,2007,2007,2007,2007,2007,2007,2007,2007,2007,2007,2007,2007,2007,2007,2007,2007,2007,2007,2007,2007,2007,2007,2007,2007,2007,2007,2007,2007,2007,2007,2007,2007,2007]}},\"id\":\"0c671b30-2a5d-41c9-a5b5-9e409ac5c8d3\",\"type\":\"ColumnDataSource\"},{\"attributes\":{\"bottom_units\":\"screen\",\"fill_alpha\":{\"value\":0.5},\"fill_color\":{\"value\":\"lightgrey\"},\"left_units\":\"screen\",\"level\":\"overlay\",\"line_alpha\":{\"value\":1.0},\"line_color\":{\"value\":\"black\"},\"line_dash\":[4,4],\"line_width\":{\"value\":2},\"plot\":null,\"render_mode\":\"css\",\"right_units\":\"screen\",\"top_units\":\"screen\"},\"id\":\"49d882c9-50e2-4fd7-b3ae-a76ecfd13ea8\",\"type\":\"BoxAnnotation\"},{\"attributes\":{},\"id\":\"d2c26812-9d5b-448d-9176-5f2942d32e6b\",\"type\":\"PanTool\"},{\"attributes\":{},\"id\":\"5ec64876-7f62-41c9-ad6c-64f1ce9cc1e4\",\"type\":\"BasicTicker\"},{\"attributes\":{\"dimension\":1,\"plot\":{\"id\":\"a917f1e5-ab2b-4bbf-a0f6-95dfce5e372b\",\"subtype\":\"Figure\",\"type\":\"Plot\"},\"ticker\":{\"id\":\"5ec64876-7f62-41c9-ad6c-64f1ce9cc1e4\",\"type\":\"BasicTicker\"}},\"id\":\"6a78a39d-480b-48d9-b1e1-2d64974d2c63\",\"type\":\"Grid\"},{\"attributes\":{\"plot\":null,\"text\":\"Life Expectancy vs GDP of Nations\"},\"id\":\"7ca9124d-5865-4ab1-bbd1-578bfbe6814c\",\"type\":\"Title\"},{\"attributes\":{},\"id\":\"508fa552-5e3d-4f16-ac30-4b46d430cc3a\",\"type\":\"LogScale\"},{\"attributes\":{\"axis_label\":\"Life Expectancy\",\"formatter\":{\"id\":\"26412153-6d7a-4946-8d17-d033893a9eac\",\"type\":\"BasicTickFormatter\"},\"plot\":{\"id\":\"a917f1e5-ab2b-4bbf-a0f6-95dfce5e372b\",\"subtype\":\"Figure\",\"type\":\"Plot\"},\"ticker\":{\"id\":\"5ec64876-7f62-41c9-ad6c-64f1ce9cc1e4\",\"type\":\"BasicTicker\"}},\"id\":\"aa5b0e14-6035-4782-99c4-322557c69374\",\"type\":\"LinearAxis\"},{\"attributes\":{\"axis_label\":\"GDP per Capita\",\"formatter\":{\"id\":\"20e388c1-a14b-46cc-9f19-8e83ff67d394\",\"type\":\"NumeralTickFormatter\"},\"plot\":{\"id\":\"a917f1e5-ab2b-4bbf-a0f6-95dfce5e372b\",\"subtype\":\"Figure\",\"type\":\"Plot\"},\"ticker\":{\"id\":\"2a2a1b7e-53a4-49bc-bc27-4d5cd6201f9a\",\"type\":\"LogTicker\"}},\"id\":\"90cf22a2-aff8-48c5-bdd9-719f4ca6ad2e\",\"type\":\"LogAxis\"},{\"attributes\":{\"fill_alpha\":{\"value\":0.1},\"fill_color\":{\"value\":\"#1f77b4\"},\"line_alpha\":{\"value\":0.1},\"line_color\":{\"value\":\"#1f77b4\"},\"size\":{\"field\":\"population\",\"transform\":{\"id\":\"1bb85ae7-7e54-4940-b644-a00964871417\",\"type\":\"LinearInterpolator\"},\"units\":\"screen\"},\"x\":{\"field\":\"gdpPercap\"},\"y\":{\"field\":\"lifeExp\"}},\"id\":\"047d2e24-ccd8-4b12-8c12-95bfd19398de\",\"type\":\"Circle\"},{\"attributes\":{\"data_source\":{\"id\":\"0c671b30-2a5d-41c9-a5b5-9e409ac5c8d3\",\"type\":\"ColumnDataSource\"},\"glyph\":{\"id\":\"a97745e5-705c-4f40-b5b6-aa80832ddd64\",\"type\":\"Circle\"},\"hover_glyph\":null,\"muted_glyph\":null,\"nonselection_glyph\":{\"id\":\"047d2e24-ccd8-4b12-8c12-95bfd19398de\",\"type\":\"Circle\"},\"selection_glyph\":null,\"view\":{\"id\":\"23a3e5cc-7c0a-41a1-b79a-0c8a8faa8881\",\"type\":\"CDSView\"}},\"id\":\"ee4cd30e-0c89-4bbf-8e62-35b480423e73\",\"type\":\"GlyphRenderer\"},{\"attributes\":{\"items\":[{\"id\":\"8ab02167-b186-43f4-ae87-ba107f9fefe0\",\"type\":\"LegendItem\"}],\"plot\":{\"id\":\"a917f1e5-ab2b-4bbf-a0f6-95dfce5e372b\",\"subtype\":\"Figure\",\"type\":\"Plot\"}},\"id\":\"040a4d7d-4ae1-4eba-b0e9-a0c261804d61\",\"type\":\"Legend\"},{\"attributes\":{\"overlay\":{\"id\":\"49d882c9-50e2-4fd7-b3ae-a76ecfd13ea8\",\"type\":\"BoxAnnotation\"}},\"id\":\"715a6d43-eb57-44f0-b546-f5bb8057cfcf\",\"type\":\"BoxZoomTool\"},{\"attributes\":{},\"id\":\"c1a42adc-7563-47b9-ae7f-7084368ede40\",\"type\":\"ResetTool\"},{\"attributes\":{\"source\":{\"id\":\"0c671b30-2a5d-41c9-a5b5-9e409ac5c8d3\",\"type\":\"ColumnDataSource\"}},\"id\":\"23a3e5cc-7c0a-41a1-b79a-0c8a8faa8881\",\"type\":\"CDSView\"},{\"attributes\":{},\"id\":\"cc5762ae-439a-4873-aa76-ebb0eea8eb89\",\"type\":\"SaveTool\"},{\"attributes\":{\"below\":[{\"id\":\"90cf22a2-aff8-48c5-bdd9-719f4ca6ad2e\",\"type\":\"LogAxis\"}],\"left\":[{\"id\":\"aa5b0e14-6035-4782-99c4-322557c69374\",\"type\":\"LinearAxis\"}],\"plot_height\":400,\"renderers\":[{\"id\":\"90cf22a2-aff8-48c5-bdd9-719f4ca6ad2e\",\"type\":\"LogAxis\"},{\"id\":\"e8dbc1a9-7777-42ba-9591-933df1e8869f\",\"type\":\"Grid\"},{\"id\":\"aa5b0e14-6035-4782-99c4-322557c69374\",\"type\":\"LinearAxis\"},{\"id\":\"6a78a39d-480b-48d9-b1e1-2d64974d2c63\",\"type\":\"Grid\"},{\"id\":\"49d882c9-50e2-4fd7-b3ae-a76ecfd13ea8\",\"type\":\"BoxAnnotation\"},{\"id\":\"040a4d7d-4ae1-4eba-b0e9-a0c261804d61\",\"type\":\"Legend\"},{\"id\":\"ee4cd30e-0c89-4bbf-8e62-35b480423e73\",\"type\":\"GlyphRenderer\"}],\"title\":{\"id\":\"7ca9124d-5865-4ab1-bbd1-578bfbe6814c\",\"type\":\"Title\"},\"toolbar\":{\"id\":\"708ff23d-f568-4c4e-ae4c-af6470139d11\",\"type\":\"Toolbar\"},\"x_range\":{\"id\":\"e217cfa6-d115-4ce6-9d72-d8c52543e5d8\",\"type\":\"Range1d\"},\"x_scale\":{\"id\":\"508fa552-5e3d-4f16-ac30-4b46d430cc3a\",\"type\":\"LogScale\"},\"y_range\":{\"id\":\"6c824aa3-71f5-427e-9f37-017491dd86df\",\"type\":\"Range1d\"},\"y_scale\":{\"id\":\"44a6ff7e-63ae-48d0-b0a2-e348d26dcb50\",\"type\":\"LinearScale\"}},\"id\":\"a917f1e5-ab2b-4bbf-a0f6-95dfce5e372b\",\"subtype\":\"Figure\",\"type\":\"Plot\"}],\"root_ids\":[\"a917f1e5-ab2b-4bbf-a0f6-95dfce5e372b\"]},\"title\":\"Bokeh Application\",\"version\":\"0.12.13\"}};\n",
       "  var render_items = [{\"docid\":\"5a0a2410-1c41-4cd0-9719-2f7775e32b06\",\"elementid\":\"b1df758b-8063-4387-b770-689f19b475a3\",\"modelid\":\"a917f1e5-ab2b-4bbf-a0f6-95dfce5e372b\"}];\n",
       "  root.Bokeh.embed.embed_items_notebook(docs_json, render_items);\n",
       "\n",
       "  }\n",
       "  if (root.Bokeh !== undefined) {\n",
       "    embed_document(root);\n",
       "  } else {\n",
       "    var attempts = 0;\n",
       "    var timer = setInterval(function(root) {\n",
       "      if (root.Bokeh !== undefined) {\n",
       "        embed_document(root);\n",
       "        clearInterval(timer);\n",
       "      }\n",
       "      attempts++;\n",
       "      if (attempts > 100) {\n",
       "        console.log(\"Bokeh: ERROR: Unable to run BokehJS code because BokehJS library is missing\")\n",
       "        clearInterval(timer);\n",
       "      }\n",
       "    }, 10, root)\n",
       "  }\n",
       "})(window);"
      ],
      "application/vnd.bokehjs_exec.v0+json": ""
     },
     "metadata": {
      "application/vnd.bokehjs_exec.v0+json": {
       "id": "a917f1e5-ab2b-4bbf-a0f6-95dfce5e372b"
      }
     },
     "output_type": "display_data"
    }
   ],
   "source": [
    "from bokeh.io import show\n",
    "from bokeh.models import LinearInterpolator\n",
    "from bokeh.plotting import figure\n",
    "from bokeh.models import CategoricalColorMapper\n",
    "from bokeh.palettes import Spectral6\n",
    "\n",
    "p = figure(\n",
    "    height = 400, \n",
    "    width = 600,\n",
    "    x_axis_type = 'log',\n",
    "    x_range = (100,100000), y_range = (0,100),\n",
    "    title = \"Life Expectancy vs GDP of Nations\")\n",
    "\n",
    "\n",
    "size_mapper = LinearInterpolator(\n",
    "    x = [data.population.min(), data.population.max()],\n",
    "    y = [10,100]\n",
    ")\n",
    "\n",
    "# Mapping color to region\n",
    "color_mapper = CategoricalColorMapper(\n",
    "    factors=list(data.continent.unique()),\n",
    "    palette=Spectral6\n",
    ")\n",
    "\n",
    "\n",
    "p.circle(x='gdpPercap', y='lifeExp',alpha=0.6,source=source,\n",
    "         size={'field':'population', 'transform':size_mapper},\n",
    "         color={'field':'continent', 'transform':color_mapper},\n",
    "         legend='continent'\n",
    "        )\n",
    "\n",
    "p.xaxis.axis_label = \"GDP per Capita\"\n",
    "p.yaxis.axis_label = \"Life Expectancy\"\n",
    "\n",
    "\n",
    "from bokeh.models import NumeralTickFormatter\n",
    "p.xaxis[0].formatter = NumeralTickFormatter(format='$0,')\n",
    "\n",
    "show(p)"
   ]
  },
  {
   "cell_type": "code",
   "execution_count": null,
   "metadata": {},
   "outputs": [
    {
     "data": {
      "text/html": [
       "\n",
       "<div class=\"bk-root\">\n",
       "    <div class=\"bk-plotdiv\" id=\"9ffb8c24-e130-4352-a5fe-0f987174d74f\"></div>\n",
       "</div>"
      ]
     },
     "metadata": {},
     "output_type": "display_data"
    },
    {
     "data": {
      "application/javascript": [
       "(function(root) {\n",
       "  function embed_document(root) {\n",
       "    \n",
       "  var docs_json = {\"3efea564-5313-447c-bb25-6d977b72b4f0\":{\"roots\":{\"references\":[{\"attributes\":{\"dimension\":1,\"plot\":{\"id\":\"10fe74ef-1fa7-4f61-90dc-1d67e07ed50e\",\"subtype\":\"Figure\",\"type\":\"Plot\"},\"ticker\":{\"id\":\"a082e017-bdc5-4e0a-a7fd-586706c3c389\",\"type\":\"BasicTicker\"}},\"id\":\"9b324ffa-b8a1-4ae1-9647-80ddf4a8e8a7\",\"type\":\"Grid\"},{\"attributes\":{\"source\":{\"id\":\"0c671b30-2a5d-41c9-a5b5-9e409ac5c8d3\",\"type\":\"ColumnDataSource\"}},\"id\":\"8f453333-99ec-4a7a-93f8-28256410877f\",\"type\":\"CDSView\"},{\"attributes\":{\"border_line_color\":{\"value\":null},\"items\":[{\"id\":\"b8909c92-9a38-4371-82ce-95b8af9058b4\",\"type\":\"LegendItem\"}],\"location\":[20,-6],\"plot\":{\"id\":\"10fe74ef-1fa7-4f61-90dc-1d67e07ed50e\",\"subtype\":\"Figure\",\"type\":\"Plot\"}},\"id\":\"19280408-d92c-4ef6-a290-16634fd85117\",\"type\":\"Legend\"},{\"attributes\":{\"data\":null,\"x\":[60011,1318683096],\"y\":[10,100]},\"id\":\"053bc703-cf4f-4933-80dc-0f2bdfb79647\",\"type\":\"LinearInterpolator\"},{\"attributes\":{},\"id\":\"92c6e883-0bbe-4cde-a70a-5c923df336e0\",\"type\":\"BasicTickFormatter\"},{\"attributes\":{},\"id\":\"a082e017-bdc5-4e0a-a7fd-586706c3c389\",\"type\":\"BasicTicker\"},{\"attributes\":{\"label\":{\"field\":\"continent\"},\"renderers\":[{\"id\":\"c69a6e51-c99c-4473-b18b-8bd245f054c3\",\"type\":\"GlyphRenderer\"}]},\"id\":\"b8909c92-9a38-4371-82ce-95b8af9058b4\",\"type\":\"LegendItem\"},{\"attributes\":{},\"id\":\"72d56d8e-5614-43b6-9b68-6d3ba1b76a20\",\"type\":\"LogScale\"},{\"attributes\":{\"fill_alpha\":{\"value\":0.6},\"fill_color\":{\"field\":\"continent\",\"transform\":{\"id\":\"6788ceea-a389-4256-a0d3-235618eb1172\",\"type\":\"CategoricalColorMapper\"}},\"line_alpha\":{\"value\":0.6},\"line_color\":{\"field\":\"continent\",\"transform\":{\"id\":\"6788ceea-a389-4256-a0d3-235618eb1172\",\"type\":\"CategoricalColorMapper\"}},\"size\":{\"field\":\"population\",\"transform\":{\"id\":\"053bc703-cf4f-4933-80dc-0f2bdfb79647\",\"type\":\"LinearInterpolator\"},\"units\":\"screen\"},\"x\":{\"field\":\"gdpPercap\"},\"y\":{\"field\":\"lifeExp\"}},\"id\":\"139771bd-0404-4b53-839a-d726d4d4b009\",\"type\":\"Circle\"},{\"attributes\":{\"callback\":null,\"column_names\":[\"country\",\"continent\",\"lifeExp\",\"population\",\"gdpPercap\",\"year\"],\"data\":{\"continent\":[\"Asia\",\"Europe\",\"Africa\",\"Africa\",\"Americas\",\"Oceania\",\"Europe\",\"Asia\",\"Asia\",\"Europe\",\"Africa\",\"Americas\",\"Europe\",\"Africa\",\"Americas\",\"Europe\",\"Africa\",\"Africa\",\"Asia\",\"Africa\",\"Americas\",\"Africa\",\"Africa\",\"Americas\",\"Asia\",\"Americas\",\"Africa\",\"Africa\",\"Africa\",\"Americas\",\"Africa\",\"Europe\",\"Americas\",\"Europe\",\"Europe\",\"Africa\",\"Americas\",\"Americas\",\"Africa\",\"Americas\",\"Africa\",\"Africa\",\"Africa\",\"Europe\",\"Europe\",\"Africa\",\"Africa\",\"Europe\",\"Africa\",\"Europe\",\"Americas\",\"Africa\",\"Africa\",\"Americas\",\"Americas\",\"Asia\",\"Europe\",\"Europe\",\"Asia\",\"Asia\",\"Asia\",\"Asia\",\"Europe\",\"Asia\",\"Europe\",\"Americas\",\"Asia\",\"Asia\",\"Africa\",\"Asia\",\"Asia\",\"Asia\",\"Asia\",\"Africa\",\"Africa\",\"Africa\",\"Africa\",\"Africa\",\"Asia\",\"Africa\",\"Africa\",\"Africa\",\"Americas\",\"Asia\",\"Europe\",\"Africa\",\"Africa\",\"Asia\",\"Africa\",\"Asia\",\"Europe\",\"Oceania\",\"Americas\",\"Africa\",\"Africa\",\"Europe\",\"Asia\",\"Asia\",\"Americas\",\"Americas\",\"Americas\",\"Asia\",\"Europe\",\"Europe\",\"Americas\",\"Africa\",\"Europe\",\"Africa\",\"Africa\",\"Asia\",\"Africa\",\"Europe\",\"Africa\",\"Asia\",\"Europe\",\"Europe\",\"Africa\",\"Africa\",\"Europe\",\"Asia\",\"Africa\",\"Africa\",\"Europe\",\"Europe\",\"Asia\",\"Asia\",\"Africa\",\"Asia\",\"Africa\",\"Americas\",\"Africa\",\"Europe\",\"Africa\",\"Europe\",\"Americas\",\"Americas\",\"Americas\",\"Asia\",\"Asia\",\"Asia\",\"Africa\",\"Africa\"],\"country\":[\"Afghanistan\",\"Albania\",\"Algeria\",\"Angola\",\"Argentina\",\"Australia\",\"Austria\",\"Bahrain\",\"Bangladesh\",\"Belgium\",\"Benin\",\"Bolivia\",\"Bosnia and Herzegovina\",\"Botswana\",\"Brazil\",\"Bulgaria\",\"Burkina Faso\",\"Burundi\",\"Cambodia\",\"Cameroon\",\"Canada\",\"Central African Republic\",\"Chad\",\"Chile\",\"China\",\"Colombia\",\"Comoros\",\"Congo, Dem. Rep.\",\"Congo, Rep.\",\"Costa Rica\",\"Cote d'Ivoire\",\"Croatia\",\"Cuba\",\"Czech Republic\",\"Denmark\",\"Djibouti\",\"Dominican Republic\",\"Ecuador\",\"Egypt\",\"El Salvador\",\"Equatorial Guinea\",\"Eritrea\",\"Ethiopia\",\"Finland\",\"France\",\"Gabon\",\"Gambia\",\"Germany\",\"Ghana\",\"Greece\",\"Guatemala\",\"Guinea\",\"Guinea-Bissau\",\"Haiti\",\"Honduras\",\"Hong Kong, China\",\"Hungary\",\"Iceland\",\"India\",\"Indonesia\",\"Iran\",\"Iraq\",\"Ireland\",\"Israel\",\"Italy\",\"Jamaica\",\"Japan\",\"Jordan\",\"Kenya\",\"Korea, Dem. Rep.\",\"Korea, Rep.\",\"Kuwait\",\"Lebanon\",\"Lesotho\",\"Liberia\",\"Libya\",\"Madagascar\",\"Malawi\",\"Malaysia\",\"Mali\",\"Mauritania\",\"Mauritius\",\"Mexico\",\"Mongolia\",\"Montenegro\",\"Morocco\",\"Mozambique\",\"Myanmar\",\"Namibia\",\"Nepal\",\"Netherlands\",\"New Zealand\",\"Nicaragua\",\"Niger\",\"Nigeria\",\"Norway\",\"Oman\",\"Pakistan\",\"Panama\",\"Paraguay\",\"Peru\",\"Philippines\",\"Poland\",\"Portugal\",\"Puerto Rico\",\"Reunion\",\"Romania\",\"Rwanda\",\"Sao Tome and Principe\",\"Saudi Arabia\",\"Senegal\",\"Serbia\",\"Sierra Leone\",\"Singapore\",\"Slovak Republic\",\"Slovenia\",\"Somalia\",\"South Africa\",\"Spain\",\"Sri Lanka\",\"Sudan\",\"Swaziland\",\"Sweden\",\"Switzerland\",\"Syria\",\"Taiwan\",\"Tanzania\",\"Thailand\",\"Togo\",\"Trinidad and Tobago\",\"Tunisia\",\"Turkey\",\"Uganda\",\"United Kingdom\",\"United States\",\"Uruguay\",\"Venezuela\",\"Vietnam\",\"West Bank and Gaza\",\"Yemen, Rep.\",\"Zambia\",\"Zimbabwe\"],\"gdpPercap\":{\"__ndarray__\":\"54R1iKR0jkBhFASPBzG3QG2tLxJeT7hApWlQNDu9skAhJAuYsPXIQOeHEcJr0OBAWMoyxM+j4UDFpwAYAxndQPLPDOIDvZVAb7vQXJNz4EAOar+1I4WWQJ3B3y9G3K1A8nhafkwWvUDcoswG7YzIQGkAb4HmtMFAzzEge2XcxEDb2y3JIQSTQKLhg40h4XpAad/cXx3HmkAVNZiGYeifQAixM4Xnu+FAZJEm3iEQhkDhP91AQaCaQIY41sXRuclA0F0SZx1fs0D67laWlF67QBM+Stsu0Y5ANcjJadRYcUCMD7OXHWGsQKlNnNyH1sJAWTFcHQAjmEAUxhaCnI3MQIGzlCwNesFAH7qgvlNM1kCxbVFmzTnhQKsn84/2RKBAHUC/71+Jt0Dl9ssnQ9m6QKSK4lUuzbVArrzkf1pgtkBoke18C73HQM4Iysj0CoRAkQfH0XGWhUD5oGez4jbgQHbgnBGBwd1AIVnABD7LyUCOc5tw/4WHQL5Nf/aXat9A1GAahm++lEB47j1cmuTaQLQh/8wMQrRAcXkH0zt1jUCd8BKc2hmCQBAiGXKMxpJAB5ylZKm4q0Byv0NRn2XjQEJ4tHE8ltFACmMLQZmq4UCzX3e6ayijQIHuy5lNqatAqYdodNuqxkBtVRLZD3exQCxlGeJ/3ONAbqMBvNHs2EC8lpAPbubbQOq12VjhmLxAi1QYWwTq3kDdek0PdqexQO3Vx0P/3JZAK2owDUPkmEASGVbxCM3WQEgbR6xfGedAd4TTgoduxEAVGohlU4WYQHXmHhIe6HlAxjNo6L+Mx0Ay/+ibFFOQQFKgqp3MuodAXCBB8dNRyEAKn62DU0qQQOd1xCGbLJxANSkF3X5mxUBBDkqYyWTHQE3BGmeLL6hAS+fDs/ISwkCOHr+3WditQL3HmSZ8vYlAAAAAAACAjUC7YkZ4D8uyQEjfpGlwDZFAlufB3b334UAEHEKVQJjYQFJEhlWkeqVASQeQRmpdg0DfVKTC6HefQFZl3xWmGehAmGn7VwzL1UCwrDQp5VukQHui68KXKMNA4KKTpdZMsECIf9jS5/C8QLWpukf27KhAowvqW/YOzkBVTRB1aQfUQKJ6a2At4NJA3Qn2Xx/2vUDT2cngPBzFQASrjyy1+IpAZof4h735mEAPRYE+tSXVQA6dnnfjwZpAWyOCcUQdw0DnJO93U/SKQKFinL/lBOdAYHZPHpQ90kByxFp8ECrZQAW4augg8YxAhnMNM9QawkAwKqkTRCXcQJ+xL9kwBK9AK97IPMpUpEANbmsLe6GxQP+ye/J3iOBAF30FaU1Q4kBMio9PjFiwQI4ev7eRC9xA4UIewe1NkUCFr691ZSK9QKkf5XHCl4tAdF5jlyCW0UBkzF1L7LS7QJIIjWAjhcBAGH5wPoWBkEDj32dcaDbgQOv/HOb0+ORAMJ5BQ7u5xEBclNkg50vGQJHSbB4nE6NAajS5GLOip0D9hR4xitGhQEDc1avY3JNA2On2SFlbfUA=\",\"dtype\":\"float64\",\"shape\":[142]},\"lifeExp\":{\"__ndarray__\":\"RIts5/vpRUBQjZduEhtTQCUGgZVDE1JAIbByaJFdRUAUrkfhetRSQNejcD0KT1RAkxgEVg71U0BxPQrXo+hSQIcW2c73A1BATmIQWDncU0B3vp8aL11MQPp+arx0Y1BASgwCK4e2UkB3vp8aL11JQClcj8L1GFJAuB6F61FAUkD2KFyPwiVKQArXo3A9ykhABoGVQ4vcTUDXo3A9CjdJQG8Sg8DKKVRAAyuHFtleRkAX2c73U1NJQAisHFpko1NAL90kBoE9UkA3iUFg5ThSQH0/NV66SVBAQWDl0CI7R0Dvp8ZLN6lLQDVeukkMslNARIts5/spSEAdWmQ73+9SQLbz/dR4kVNAyXa+nxofU0Boke18P5VTQGmR7Xw/ZUtA16NwPQoPUkBWDi2ynb9SQBODwMqh1VFA1XjpJjH4UUAmMQisHMpJQIXrUbgeBU1A76fGSzd5SkB56SYxCNRTQDVeukkMKlRArkfhehReTEDTTWIQWLlNQESLbOf72VNAiUFg5dACTkD0/dR46d5TQH9qvHSTkFFAN4lBYOUATECMbOf7qTFHQGmR7Xw/dU5A6iYxCKyMUUBaZDvfT41UQBODwMqhVVJAnMQgsHJwVEDqJjEIrCxQQJqZmZmZqVFABFYOLbK9UUD2KFyPwsVNQHE9CtejuFNASOF6FK4vVEBt5/up8SJUQD81XrpJJFJAO99PjZemVEAK16NwPSJSQK5H4XoUDktAXrpJDALTUEAdWmQ736dTQBODwMqhZVNAZDvfT43/UUCyne+nxktFQBFYObTI1kZAsHJoke18UkBjEFg5tLhNQBFYObTIJkhAgZVDi2yPUkCyne+nxjtLQNEi2/l+ClBAJQaBlUMzUkAUrkfhegxTQAisHFpks1BAmG4Sg8CiUkDRItv5fspRQNEi2/l+CkVARbbz/dQIT0CIFtnO93NKQBSuR+F65E9AVOOlm8TwU0CTGARWDg1UQKjGSzeJOVJA5dAi2/luTEDKoUW2821HQAaBlUOLDFRAKVyPwvXoUkD0/dR46V5QQO18PzVe4lJA46WbxCDwUUBt5/up8dpRQHnpJjEI7FFAeekmMQjkUkCDwMqhRYZTQDq0yHa+r1NAPzVeukkcU0BYObTIdh5SQOXQItv5HkdAbxKDwMphUEB9PzVeujFSQA4tsp3vh09A46WbxCCAUkBjEFg5tEhFQJHtfD81/lNA30+Nl26qUkAlBoGVQ3tTQDEIrBxaFEhACKwcWmSrSEBOYhBYOTxUQNNNYhBYGVJAu0kMAitHTUBYObTIds5DQH9qvHSTOFRAv58aL91sVED+1HjpJolSQJqZmZmZmVNAGARWDi1CSkCBlUOLbKdRQPYoXI/CNU1AI9v5fmp0UUBQjZduEntSQH0/NV668VFATDeJQWDFSUAzMzMzM9tTQHNoke18j1NAf2q8dJMYU0ArhxbZzm9SQA4tsp3vj1JAXrpJDAJbUkDTTWIQWFlPQP3UeOkmMUVAdJMYBFa+RUA=\",\"dtype\":\"float64\",\"shape\":[142]},\"population\":[31889923,3600523,33333216,12420476,40301927,20434176,8199783,708573,150448339,10392226,8078314,9119152,4552198,1639131,190010647,7322858,14326203,8390505,14131858,17696293,33390141,4369038,10238807,16284741,1318683096,44227550,710960,64606759,3800610,4133884,18013409,4493312,11416987,10228744,5468120,496374,9319622,13755680,80264543,6939688,551201,4906585,76511887,5238460,61083916,1454867,1688359,82400996,22873338,10706290,12572928,9947814,1472041,8502814,7483763,6980412,9956108,301931,1110396331,223547000,69453570,27499638,4109086,6426679,58147733,2780132,127467972,6053193,35610177,23301725,49044790,2505559,3921278,2012649,3193942,6036914,19167654,13327079,24821286,12031795,3270065,1250882,108700891,2874127,684736,33757175,19951656,47761980,2055080,28901790,16570613,4115771,5675356,12894865,135031164,4627926,3204897,169270617,3242173,6667147,28674757,91077287,38518241,10642836,3942491,798094,22276056,8860588,199579,27601038,12267493,10150265,6144562,4553009,5447502,2009245,9118773,43997828,40448191,20378239,42292929,1133066,9031088,7554661,19314747,23174294,38139640,65068149,5701579,1056608,10276158,71158647,29170398,60776238,301139947,3447496,26084662,85262356,4018332,22211743,11746035,12311143],\"year\":[2007,2007,2007,2007,2007,2007,2007,2007,2007,2007,2007,2007,2007,2007,2007,2007,2007,2007,2007,2007,2007,2007,2007,2007,2007,2007,2007,2007,2007,2007,2007,2007,2007,2007,2007,2007,2007,2007,2007,2007,2007,2007,2007,2007,2007,2007,2007,2007,2007,2007,2007,2007,2007,2007,2007,2007,2007,2007,2007,2007,2007,2007,2007,2007,2007,2007,2007,2007,2007,2007,2007,2007,2007,2007,2007,2007,2007,2007,2007,2007,2007,2007,2007,2007,2007,2007,2007,2007,2007,2007,2007,2007,2007,2007,2007,2007,2007,2007,2007,2007,2007,2007,2007,2007,2007,2007,2007,2007,2007,2007,2007,2007,2007,2007,2007,2007,2007,2007,2007,2007,2007,2007,2007,2007,2007,2007,2007,2007,2007,2007,2007,2007,2007,2007,2007,2007,2007,2007,2007,2007,2007,2007]}},\"id\":\"0c671b30-2a5d-41c9-a5b5-9e409ac5c8d3\",\"type\":\"ColumnDataSource\"},{\"attributes\":{\"below\":[{\"id\":\"f63df878-8ea0-4a82-8e82-b7a19a2d10f2\",\"type\":\"LogAxis\"}],\"left\":[{\"id\":\"fc0e86d8-d3c0-4783-ba92-c83ee9049579\",\"type\":\"LinearAxis\"}],\"plot_height\":400,\"renderers\":[{\"id\":\"f63df878-8ea0-4a82-8e82-b7a19a2d10f2\",\"type\":\"LogAxis\"},{\"id\":\"17a992c5-dafa-4923-a3a7-88354a95c3bc\",\"type\":\"Grid\"},{\"id\":\"fc0e86d8-d3c0-4783-ba92-c83ee9049579\",\"type\":\"LinearAxis\"},{\"id\":\"9b324ffa-b8a1-4ae1-9647-80ddf4a8e8a7\",\"type\":\"Grid\"},{\"id\":\"19280408-d92c-4ef6-a290-16634fd85117\",\"type\":\"Legend\"},{\"id\":\"c69a6e51-c99c-4473-b18b-8bd245f054c3\",\"type\":\"GlyphRenderer\"}],\"right\":[{\"id\":\"19280408-d92c-4ef6-a290-16634fd85117\",\"type\":\"Legend\"}],\"title\":{\"id\":\"70aa73ec-bac2-464e-b2f3-8f589cf6a5a6\",\"type\":\"Title\"},\"toolbar\":{\"id\":\"1be3cfcb-cfc1-46dd-94f4-8e5c54988ab8\",\"type\":\"Toolbar\"},\"x_range\":{\"id\":\"4acc6c80-02ae-4b38-84c1-3f0fea7dee26\",\"type\":\"Range1d\"},\"x_scale\":{\"id\":\"72d56d8e-5614-43b6-9b68-6d3ba1b76a20\",\"type\":\"LogScale\"},\"y_range\":{\"id\":\"e5252705-a9e3-41d4-a594-f514942807c1\",\"type\":\"Range1d\"},\"y_scale\":{\"id\":\"e266fb3f-48e8-4fe6-875a-7cfdecd793dc\",\"type\":\"LinearScale\"}},\"id\":\"10fe74ef-1fa7-4f61-90dc-1d67e07ed50e\",\"subtype\":\"Figure\",\"type\":\"Plot\"},{\"attributes\":{\"callback\":null,\"tooltips\":\"@country\"},\"id\":\"913c2acf-d9a6-42fa-a4fb-6ed13f871176\",\"type\":\"HoverTool\"},{\"attributes\":{\"plot\":{\"id\":\"10fe74ef-1fa7-4f61-90dc-1d67e07ed50e\",\"subtype\":\"Figure\",\"type\":\"Plot\"},\"ticker\":{\"id\":\"ff193157-0ebb-4234-92c3-1ebe9d35521f\",\"type\":\"LogTicker\"}},\"id\":\"17a992c5-dafa-4923-a3a7-88354a95c3bc\",\"type\":\"Grid\"},{\"attributes\":{\"format\":\"$0,\"},\"id\":\"29321120-480a-444f-90ce-d2e1f79fbeba\",\"type\":\"NumeralTickFormatter\"},{\"attributes\":{\"fill_alpha\":{\"value\":0.1},\"fill_color\":{\"value\":\"#1f77b4\"},\"line_alpha\":{\"value\":0.1},\"line_color\":{\"value\":\"#1f77b4\"},\"size\":{\"field\":\"population\",\"transform\":{\"id\":\"053bc703-cf4f-4933-80dc-0f2bdfb79647\",\"type\":\"LinearInterpolator\"},\"units\":\"screen\"},\"x\":{\"field\":\"gdpPercap\"},\"y\":{\"field\":\"lifeExp\"}},\"id\":\"a6b7280e-84ec-44ec-8c22-e34e1018c9c2\",\"type\":\"Circle\"},{\"attributes\":{\"plot\":null,\"text\":\"Life Expectancy vs GDP of Nations\"},\"id\":\"70aa73ec-bac2-464e-b2f3-8f589cf6a5a6\",\"type\":\"Title\"},{\"attributes\":{},\"id\":\"e266fb3f-48e8-4fe6-875a-7cfdecd793dc\",\"type\":\"LinearScale\"},{\"attributes\":{\"axis_label\":\"GDP per Capita\",\"formatter\":{\"id\":\"29321120-480a-444f-90ce-d2e1f79fbeba\",\"type\":\"NumeralTickFormatter\"},\"plot\":{\"id\":\"10fe74ef-1fa7-4f61-90dc-1d67e07ed50e\",\"subtype\":\"Figure\",\"type\":\"Plot\"},\"ticker\":{\"id\":\"ff193157-0ebb-4234-92c3-1ebe9d35521f\",\"type\":\"LogTicker\"}},\"id\":\"f63df878-8ea0-4a82-8e82-b7a19a2d10f2\",\"type\":\"LogAxis\"},{\"attributes\":{\"data_source\":{\"id\":\"0c671b30-2a5d-41c9-a5b5-9e409ac5c8d3\",\"type\":\"ColumnDataSource\"},\"glyph\":{\"id\":\"139771bd-0404-4b53-839a-d726d4d4b009\",\"type\":\"Circle\"},\"hover_glyph\":null,\"muted_glyph\":null,\"nonselection_glyph\":{\"id\":\"a6b7280e-84ec-44ec-8c22-e34e1018c9c2\",\"type\":\"Circle\"},\"selection_glyph\":null,\"view\":{\"id\":\"8f453333-99ec-4a7a-93f8-28256410877f\",\"type\":\"CDSView\"}},\"id\":\"c69a6e51-c99c-4473-b18b-8bd245f054c3\",\"type\":\"GlyphRenderer\"},{\"attributes\":{\"factors\":[\"Asia\",\"Europe\",\"Africa\",\"Americas\",\"Oceania\"],\"palette\":[\"#3288bd\",\"#99d594\",\"#e6f598\",\"#fee08b\",\"#fc8d59\",\"#d53e4f\"]},\"id\":\"6788ceea-a389-4256-a0d3-235618eb1172\",\"type\":\"CategoricalColorMapper\"},{\"attributes\":{\"num_minor_ticks\":10},\"id\":\"ff193157-0ebb-4234-92c3-1ebe9d35521f\",\"type\":\"LogTicker\"},{\"attributes\":{\"callback\":null,\"end\":100000,\"start\":100},\"id\":\"4acc6c80-02ae-4b38-84c1-3f0fea7dee26\",\"type\":\"Range1d\"},{\"attributes\":{\"active_drag\":\"auto\",\"active_inspect\":\"auto\",\"active_scroll\":\"auto\",\"active_tap\":\"auto\",\"tools\":[{\"id\":\"913c2acf-d9a6-42fa-a4fb-6ed13f871176\",\"type\":\"HoverTool\"}]},\"id\":\"1be3cfcb-cfc1-46dd-94f4-8e5c54988ab8\",\"type\":\"Toolbar\"},{\"attributes\":{\"axis_label\":\"Life Expectancy\",\"formatter\":{\"id\":\"92c6e883-0bbe-4cde-a70a-5c923df336e0\",\"type\":\"BasicTickFormatter\"},\"plot\":{\"id\":\"10fe74ef-1fa7-4f61-90dc-1d67e07ed50e\",\"subtype\":\"Figure\",\"type\":\"Plot\"},\"ticker\":{\"id\":\"a082e017-bdc5-4e0a-a7fd-586706c3c389\",\"type\":\"BasicTicker\"}},\"id\":\"fc0e86d8-d3c0-4783-ba92-c83ee9049579\",\"type\":\"LinearAxis\"},{\"attributes\":{\"callback\":null,\"end\":100},\"id\":\"e5252705-a9e3-41d4-a594-f514942807c1\",\"type\":\"Range1d\"}],\"root_ids\":[\"10fe74ef-1fa7-4f61-90dc-1d67e07ed50e\"]},\"title\":\"Bokeh Application\",\"version\":\"0.12.13\"}};\n",
       "  var render_items = [{\"docid\":\"3efea564-5313-447c-bb25-6d977b72b4f0\",\"elementid\":\"9ffb8c24-e130-4352-a5fe-0f987174d74f\",\"modelid\":\"10fe74ef-1fa7-4f61-90dc-1d67e07ed50e\"}];\n",
       "  root.Bokeh.embed.embed_items_notebook(docs_json, render_items);\n",
       "\n",
       "  }\n",
       "  if (root.Bokeh !== undefined) {\n",
       "    embed_document(root);\n",
       "  } else {\n",
       "    var attempts = 0;\n",
       "    var timer = setInterval(function(root) {\n",
       "      if (root.Bokeh !== undefined) {\n",
       "        embed_document(root);\n",
       "        clearInterval(timer);\n",
       "      }\n",
       "      attempts++;\n",
       "      if (attempts > 100) {\n",
       "        console.log(\"Bokeh: ERROR: Unable to run BokehJS code because BokehJS library is missing\")\n",
       "        clearInterval(timer);\n",
       "      }\n",
       "    }, 10, root)\n",
       "  }\n",
       "})(window);"
      ],
      "application/vnd.bokehjs_exec.v0+json": ""
     },
     "metadata": {
      "application/vnd.bokehjs_exec.v0+json": {
       "id": "10fe74ef-1fa7-4f61-90dc-1d67e07ed50e"
      }
     },
     "output_type": "display_data"
    }
   ],
   "source": [
    "from bokeh.io import show\n",
    "from bokeh.models import LinearInterpolator\n",
    "from bokeh.plotting import figure\n",
    "from bokeh.models import CategoricalColorMapper\n",
    "from bokeh.palettes import Spectral6\n",
    "from bokeh.models import HoverTool\n",
    "\n",
    "\n",
    "hover = HoverTool(tooltips='@country')\n",
    "\n",
    "p = figure(\n",
    "    height = 400, \n",
    "    width = 600,\n",
    "    x_axis_type = 'log',\n",
    "    tools = [hover],\n",
    "    x_range = (100,100000), y_range = (0,100),\n",
    "    title = \"Life Expectancy vs GDP of Nations\")\n",
    "\n",
    "\n",
    "size_mapper = LinearInterpolator(\n",
    "    x = [data.population.min(), data.population.max()],\n",
    "    y = [10,100]\n",
    ")\n",
    "\n",
    "# Mapping color to region\n",
    "color_mapper = CategoricalColorMapper(\n",
    "    factors=list(data.continent.unique()),\n",
    "    palette=Spectral6\n",
    ")\n",
    "\n",
    "\n",
    "p.circle(x='gdpPercap', y='lifeExp',alpha=0.6,source=source,\n",
    "         size={'field':'population', 'transform':size_mapper},\n",
    "         color={'field':'continent', 'transform':color_mapper},\n",
    "         legend='continent'\n",
    "        )\n",
    "\n",
    "p.xaxis.axis_label = \"GDP per Capita\"\n",
    "p.yaxis.axis_label = \"Life Expectancy\"\n",
    "\n",
    "\n",
    "from bokeh.models import NumeralTickFormatter\n",
    "p.xaxis[0].formatter = NumeralTickFormatter(format='$0,')\n",
    "\n",
    "# formating the legend\n",
    "p.legend.location = (20, -6)\n",
    "p.right.append(p.legend[0])\n",
    "p.legend.border_line_color = None\n",
    "\n",
    "\n",
    "show(p)"
   ]
  },
  {
   "cell_type": "code",
   "execution_count": null,
   "metadata": {},
   "outputs": [
    {
     "data": {
      "text/html": [
       "\n",
       "<div class=\"bk-root\">\n",
       "    <div class=\"bk-plotdiv\" id=\"46c71d38-7726-47fd-8425-b54cc7e5c305\"></div>\n",
       "</div>"
      ]
     },
     "metadata": {},
     "output_type": "display_data"
    },
    {
     "data": {
      "application/javascript": [
       "(function(root) {\n",
       "  function embed_document(root) {\n",
       "    \n",
       "  var docs_json = {\"79786098-9ab9-4f89-bd8e-b8db0364e88b\":{\"roots\":{\"references\":[{\"attributes\":{\"axis_label\":\"Life Expectancy\",\"formatter\":{\"id\":\"dd67f2c2-11a1-4152-881f-1028ac79815e\",\"type\":\"BasicTickFormatter\"},\"plot\":{\"id\":\"90d5e1af-cc7c-4b08-a4ee-7ecb6358f3da\",\"subtype\":\"Figure\",\"type\":\"Plot\"},\"ticker\":{\"id\":\"e4dda595-ae84-4c57-928e-69a2877ca3da\",\"type\":\"BasicTicker\"}},\"id\":\"607a2074-6c46-4f0d-b816-aa8fd6b0aa9f\",\"type\":\"LinearAxis\"},{\"attributes\":{},\"id\":\"e4dda595-ae84-4c57-928e-69a2877ca3da\",\"type\":\"BasicTicker\"},{\"attributes\":{\"dimension\":1,\"plot\":{\"id\":\"90d5e1af-cc7c-4b08-a4ee-7ecb6358f3da\",\"subtype\":\"Figure\",\"type\":\"Plot\"},\"ticker\":{\"id\":\"e4dda595-ae84-4c57-928e-69a2877ca3da\",\"type\":\"BasicTicker\"}},\"id\":\"c515a30d-50b0-4063-9fbf-d40dfd74dbd5\",\"type\":\"Grid\"},{\"attributes\":{\"fill_alpha\":{\"value\":0.1},\"fill_color\":{\"value\":\"#1f77b4\"},\"line_alpha\":{\"value\":0.1},\"line_color\":{\"value\":\"#1f77b4\"},\"size\":{\"field\":\"population\",\"transform\":{\"id\":\"e392caa9-5c3c-46dd-b320-e1a1179bb213\",\"type\":\"LinearInterpolator\"},\"units\":\"screen\"},\"x\":{\"field\":\"gdpPercap\"},\"y\":{\"field\":\"lifeExp\"}},\"id\":\"1b5ace5e-f512-4563-8306-46b94693047b\",\"type\":\"Circle\"},{\"attributes\":{\"factors\":[\"Asia\",\"Europe\",\"Africa\",\"Americas\",\"Oceania\"],\"palette\":[\"#3288bd\",\"#99d594\",\"#e6f598\",\"#fee08b\",\"#fc8d59\",\"#d53e4f\"]},\"id\":\"d92d90a2-c0a1-413c-aa04-90a6516f1bbb\",\"type\":\"CategoricalColorMapper\"},{\"attributes\":{\"data_source\":{\"id\":\"0c671b30-2a5d-41c9-a5b5-9e409ac5c8d3\",\"type\":\"ColumnDataSource\"},\"glyph\":{\"id\":\"f03cec18-c396-4d3d-9c74-82ee2b91d203\",\"type\":\"Circle\"},\"hover_glyph\":null,\"muted_glyph\":null,\"nonselection_glyph\":{\"id\":\"1b5ace5e-f512-4563-8306-46b94693047b\",\"type\":\"Circle\"},\"selection_glyph\":null,\"view\":{\"id\":\"4db7d7e4-bf80-44ac-beea-1d2a4c21f6cc\",\"type\":\"CDSView\"}},\"id\":\"8c0a5daf-1ac8-4a07-a316-c194f54f6750\",\"type\":\"GlyphRenderer\"},{\"attributes\":{\"below\":[{\"id\":\"1daf2f61-bd19-46c4-b52a-d4738db1eeb0\",\"type\":\"LogAxis\"}],\"left\":[{\"id\":\"607a2074-6c46-4f0d-b816-aa8fd6b0aa9f\",\"type\":\"LinearAxis\"}],\"plot_height\":400,\"renderers\":[{\"id\":\"1daf2f61-bd19-46c4-b52a-d4738db1eeb0\",\"type\":\"LogAxis\"},{\"id\":\"2b0bd380-6363-49aa-aaa7-039f61f9a0b9\",\"type\":\"Grid\"},{\"id\":\"607a2074-6c46-4f0d-b816-aa8fd6b0aa9f\",\"type\":\"LinearAxis\"},{\"id\":\"c515a30d-50b0-4063-9fbf-d40dfd74dbd5\",\"type\":\"Grid\"},{\"id\":\"571274bc-d37b-4ee9-8897-cf94d64bdb35\",\"type\":\"Legend\"},{\"id\":\"8c0a5daf-1ac8-4a07-a316-c194f54f6750\",\"type\":\"GlyphRenderer\"}],\"right\":[{\"id\":\"571274bc-d37b-4ee9-8897-cf94d64bdb35\",\"type\":\"Legend\"}],\"title\":{\"id\":\"0c1b38e3-42ff-48d9-957c-9a75841dd334\",\"type\":\"Title\"},\"toolbar\":{\"id\":\"9993678e-8226-4d9e-9eea-417b0a979587\",\"type\":\"Toolbar\"},\"x_range\":{\"id\":\"67596fa3-0164-40b8-8ed4-b9ee816924f5\",\"type\":\"Range1d\"},\"x_scale\":{\"id\":\"07c39d00-c44b-4037-9147-b54bb89895ef\",\"type\":\"LogScale\"},\"y_range\":{\"id\":\"8b26ebc9-d459-4e95-a343-f2855b798e02\",\"type\":\"Range1d\"},\"y_scale\":{\"id\":\"35e75119-5ceb-43e9-a401-959cc7afdf29\",\"type\":\"LinearScale\"}},\"id\":\"90d5e1af-cc7c-4b08-a4ee-7ecb6358f3da\",\"subtype\":\"Figure\",\"type\":\"Plot\"},{\"attributes\":{\"data\":null,\"x\":[60011,1318683096],\"y\":[10,100]},\"id\":\"e392caa9-5c3c-46dd-b320-e1a1179bb213\",\"type\":\"LinearInterpolator\"},{\"attributes\":{},\"id\":\"dd67f2c2-11a1-4152-881f-1028ac79815e\",\"type\":\"BasicTickFormatter\"},{\"attributes\":{\"callback\":null,\"tooltips\":\"@country\"},\"id\":\"cdd96243-9e08-4843-87b2-a6e262f2d322\",\"type\":\"HoverTool\"},{\"attributes\":{\"callback\":null,\"column_names\":[\"country\",\"continent\",\"lifeExp\",\"population\",\"gdpPercap\",\"year\"],\"data\":{\"continent\":[\"Asia\",\"Europe\",\"Africa\",\"Africa\",\"Americas\",\"Oceania\",\"Europe\",\"Asia\",\"Asia\",\"Europe\",\"Africa\",\"Americas\",\"Europe\",\"Africa\",\"Americas\",\"Europe\",\"Africa\",\"Africa\",\"Asia\",\"Africa\",\"Americas\",\"Africa\",\"Africa\",\"Americas\",\"Asia\",\"Americas\",\"Africa\",\"Africa\",\"Africa\",\"Americas\",\"Africa\",\"Europe\",\"Americas\",\"Europe\",\"Europe\",\"Africa\",\"Americas\",\"Americas\",\"Africa\",\"Americas\",\"Africa\",\"Africa\",\"Africa\",\"Europe\",\"Europe\",\"Africa\",\"Africa\",\"Europe\",\"Africa\",\"Europe\",\"Americas\",\"Africa\",\"Africa\",\"Americas\",\"Americas\",\"Asia\",\"Europe\",\"Europe\",\"Asia\",\"Asia\",\"Asia\",\"Asia\",\"Europe\",\"Asia\",\"Europe\",\"Americas\",\"Asia\",\"Asia\",\"Africa\",\"Asia\",\"Asia\",\"Asia\",\"Asia\",\"Africa\",\"Africa\",\"Africa\",\"Africa\",\"Africa\",\"Asia\",\"Africa\",\"Africa\",\"Africa\",\"Americas\",\"Asia\",\"Europe\",\"Africa\",\"Africa\",\"Asia\",\"Africa\",\"Asia\",\"Europe\",\"Oceania\",\"Americas\",\"Africa\",\"Africa\",\"Europe\",\"Asia\",\"Asia\",\"Americas\",\"Americas\",\"Americas\",\"Asia\",\"Europe\",\"Europe\",\"Americas\",\"Africa\",\"Europe\",\"Africa\",\"Africa\",\"Asia\",\"Africa\",\"Europe\",\"Africa\",\"Asia\",\"Europe\",\"Europe\",\"Africa\",\"Africa\",\"Europe\",\"Asia\",\"Africa\",\"Africa\",\"Europe\",\"Europe\",\"Asia\",\"Asia\",\"Africa\",\"Asia\",\"Africa\",\"Americas\",\"Africa\",\"Europe\",\"Africa\",\"Europe\",\"Americas\",\"Americas\",\"Americas\",\"Asia\",\"Asia\",\"Asia\",\"Africa\",\"Africa\"],\"country\":[\"Afghanistan\",\"Albania\",\"Algeria\",\"Angola\",\"Argentina\",\"Australia\",\"Austria\",\"Bahrain\",\"Bangladesh\",\"Belgium\",\"Benin\",\"Bolivia\",\"Bosnia and Herzegovina\",\"Botswana\",\"Brazil\",\"Bulgaria\",\"Burkina Faso\",\"Burundi\",\"Cambodia\",\"Cameroon\",\"Canada\",\"Central African Republic\",\"Chad\",\"Chile\",\"China\",\"Colombia\",\"Comoros\",\"Congo, Dem. Rep.\",\"Congo, Rep.\",\"Costa Rica\",\"Cote d'Ivoire\",\"Croatia\",\"Cuba\",\"Czech Republic\",\"Denmark\",\"Djibouti\",\"Dominican Republic\",\"Ecuador\",\"Egypt\",\"El Salvador\",\"Equatorial Guinea\",\"Eritrea\",\"Ethiopia\",\"Finland\",\"France\",\"Gabon\",\"Gambia\",\"Germany\",\"Ghana\",\"Greece\",\"Guatemala\",\"Guinea\",\"Guinea-Bissau\",\"Haiti\",\"Honduras\",\"Hong Kong, China\",\"Hungary\",\"Iceland\",\"India\",\"Indonesia\",\"Iran\",\"Iraq\",\"Ireland\",\"Israel\",\"Italy\",\"Jamaica\",\"Japan\",\"Jordan\",\"Kenya\",\"Korea, Dem. Rep.\",\"Korea, Rep.\",\"Kuwait\",\"Lebanon\",\"Lesotho\",\"Liberia\",\"Libya\",\"Madagascar\",\"Malawi\",\"Malaysia\",\"Mali\",\"Mauritania\",\"Mauritius\",\"Mexico\",\"Mongolia\",\"Montenegro\",\"Morocco\",\"Mozambique\",\"Myanmar\",\"Namibia\",\"Nepal\",\"Netherlands\",\"New Zealand\",\"Nicaragua\",\"Niger\",\"Nigeria\",\"Norway\",\"Oman\",\"Pakistan\",\"Panama\",\"Paraguay\",\"Peru\",\"Philippines\",\"Poland\",\"Portugal\",\"Puerto Rico\",\"Reunion\",\"Romania\",\"Rwanda\",\"Sao Tome and Principe\",\"Saudi Arabia\",\"Senegal\",\"Serbia\",\"Sierra Leone\",\"Singapore\",\"Slovak Republic\",\"Slovenia\",\"Somalia\",\"South Africa\",\"Spain\",\"Sri Lanka\",\"Sudan\",\"Swaziland\",\"Sweden\",\"Switzerland\",\"Syria\",\"Taiwan\",\"Tanzania\",\"Thailand\",\"Togo\",\"Trinidad and Tobago\",\"Tunisia\",\"Turkey\",\"Uganda\",\"United Kingdom\",\"United States\",\"Uruguay\",\"Venezuela\",\"Vietnam\",\"West Bank and Gaza\",\"Yemen, Rep.\",\"Zambia\",\"Zimbabwe\"],\"gdpPercap\":{\"__ndarray__\":\"54R1iKR0jkBhFASPBzG3QG2tLxJeT7hApWlQNDu9skAhJAuYsPXIQOeHEcJr0OBAWMoyxM+j4UDFpwAYAxndQPLPDOIDvZVAb7vQXJNz4EAOar+1I4WWQJ3B3y9G3K1A8nhafkwWvUDcoswG7YzIQGkAb4HmtMFAzzEge2XcxEDb2y3JIQSTQKLhg40h4XpAad/cXx3HmkAVNZiGYeifQAixM4Xnu+FAZJEm3iEQhkDhP91AQaCaQIY41sXRuclA0F0SZx1fs0D67laWlF67QBM+Stsu0Y5ANcjJadRYcUCMD7OXHWGsQKlNnNyH1sJAWTFcHQAjmEAUxhaCnI3MQIGzlCwNesFAH7qgvlNM1kCxbVFmzTnhQKsn84/2RKBAHUC/71+Jt0Dl9ssnQ9m6QKSK4lUuzbVArrzkf1pgtkBoke18C73HQM4Iysj0CoRAkQfH0XGWhUD5oGez4jbgQHbgnBGBwd1AIVnABD7LyUCOc5tw/4WHQL5Nf/aXat9A1GAahm++lEB47j1cmuTaQLQh/8wMQrRAcXkH0zt1jUCd8BKc2hmCQBAiGXKMxpJAB5ylZKm4q0Byv0NRn2XjQEJ4tHE8ltFACmMLQZmq4UCzX3e6ayijQIHuy5lNqatAqYdodNuqxkBtVRLZD3exQCxlGeJ/3ONAbqMBvNHs2EC8lpAPbubbQOq12VjhmLxAi1QYWwTq3kDdek0PdqexQO3Vx0P/3JZAK2owDUPkmEASGVbxCM3WQEgbR6xfGedAd4TTgoduxEAVGohlU4WYQHXmHhIe6HlAxjNo6L+Mx0Ay/+ibFFOQQFKgqp3MuodAXCBB8dNRyEAKn62DU0qQQOd1xCGbLJxANSkF3X5mxUBBDkqYyWTHQE3BGmeLL6hAS+fDs/ISwkCOHr+3WditQL3HmSZ8vYlAAAAAAACAjUC7YkZ4D8uyQEjfpGlwDZFAlufB3b334UAEHEKVQJjYQFJEhlWkeqVASQeQRmpdg0DfVKTC6HefQFZl3xWmGehAmGn7VwzL1UCwrDQp5VukQHui68KXKMNA4KKTpdZMsECIf9jS5/C8QLWpukf27KhAowvqW/YOzkBVTRB1aQfUQKJ6a2At4NJA3Qn2Xx/2vUDT2cngPBzFQASrjyy1+IpAZof4h735mEAPRYE+tSXVQA6dnnfjwZpAWyOCcUQdw0DnJO93U/SKQKFinL/lBOdAYHZPHpQ90kByxFp8ECrZQAW4augg8YxAhnMNM9QawkAwKqkTRCXcQJ+xL9kwBK9AK97IPMpUpEANbmsLe6GxQP+ye/J3iOBAF30FaU1Q4kBMio9PjFiwQI4ev7eRC9xA4UIewe1NkUCFr691ZSK9QKkf5XHCl4tAdF5jlyCW0UBkzF1L7LS7QJIIjWAjhcBAGH5wPoWBkEDj32dcaDbgQOv/HOb0+ORAMJ5BQ7u5xEBclNkg50vGQJHSbB4nE6NAajS5GLOip0D9hR4xitGhQEDc1avY3JNA2On2SFlbfUA=\",\"dtype\":\"float64\",\"shape\":[142]},\"lifeExp\":{\"__ndarray__\":\"RIts5/vpRUBQjZduEhtTQCUGgZVDE1JAIbByaJFdRUAUrkfhetRSQNejcD0KT1RAkxgEVg71U0BxPQrXo+hSQIcW2c73A1BATmIQWDncU0B3vp8aL11MQPp+arx0Y1BASgwCK4e2UkB3vp8aL11JQClcj8L1GFJAuB6F61FAUkD2KFyPwiVKQArXo3A9ykhABoGVQ4vcTUDXo3A9CjdJQG8Sg8DKKVRAAyuHFtleRkAX2c73U1NJQAisHFpko1NAL90kBoE9UkA3iUFg5ThSQH0/NV66SVBAQWDl0CI7R0Dvp8ZLN6lLQDVeukkMslNARIts5/spSEAdWmQ73+9SQLbz/dR4kVNAyXa+nxofU0Boke18P5VTQGmR7Xw/ZUtA16NwPQoPUkBWDi2ynb9SQBODwMqh1VFA1XjpJjH4UUAmMQisHMpJQIXrUbgeBU1A76fGSzd5SkB56SYxCNRTQDVeukkMKlRArkfhehReTEDTTWIQWLlNQESLbOf72VNAiUFg5dACTkD0/dR46d5TQH9qvHSTkFFAN4lBYOUATECMbOf7qTFHQGmR7Xw/dU5A6iYxCKyMUUBaZDvfT41UQBODwMqhVVJAnMQgsHJwVEDqJjEIrCxQQJqZmZmZqVFABFYOLbK9UUD2KFyPwsVNQHE9CtejuFNASOF6FK4vVEBt5/up8SJUQD81XrpJJFJAO99PjZemVEAK16NwPSJSQK5H4XoUDktAXrpJDALTUEAdWmQ736dTQBODwMqhZVNAZDvfT43/UUCyne+nxktFQBFYObTI1kZAsHJoke18UkBjEFg5tLhNQBFYObTIJkhAgZVDi2yPUkCyne+nxjtLQNEi2/l+ClBAJQaBlUMzUkAUrkfhegxTQAisHFpks1BAmG4Sg8CiUkDRItv5fspRQNEi2/l+CkVARbbz/dQIT0CIFtnO93NKQBSuR+F65E9AVOOlm8TwU0CTGARWDg1UQKjGSzeJOVJA5dAi2/luTEDKoUW2821HQAaBlUOLDFRAKVyPwvXoUkD0/dR46V5QQO18PzVe4lJA46WbxCDwUUBt5/up8dpRQHnpJjEI7FFAeekmMQjkUkCDwMqhRYZTQDq0yHa+r1NAPzVeukkcU0BYObTIdh5SQOXQItv5HkdAbxKDwMphUEB9PzVeujFSQA4tsp3vh09A46WbxCCAUkBjEFg5tEhFQJHtfD81/lNA30+Nl26qUkAlBoGVQ3tTQDEIrBxaFEhACKwcWmSrSEBOYhBYOTxUQNNNYhBYGVJAu0kMAitHTUBYObTIds5DQH9qvHSTOFRAv58aL91sVED+1HjpJolSQJqZmZmZmVNAGARWDi1CSkCBlUOLbKdRQPYoXI/CNU1AI9v5fmp0UUBQjZduEntSQH0/NV668VFATDeJQWDFSUAzMzMzM9tTQHNoke18j1NAf2q8dJMYU0ArhxbZzm9SQA4tsp3vj1JAXrpJDAJbUkDTTWIQWFlPQP3UeOkmMUVAdJMYBFa+RUA=\",\"dtype\":\"float64\",\"shape\":[142]},\"population\":[31889923,3600523,33333216,12420476,40301927,20434176,8199783,708573,150448339,10392226,8078314,9119152,4552198,1639131,190010647,7322858,14326203,8390505,14131858,17696293,33390141,4369038,10238807,16284741,1318683096,44227550,710960,64606759,3800610,4133884,18013409,4493312,11416987,10228744,5468120,496374,9319622,13755680,80264543,6939688,551201,4906585,76511887,5238460,61083916,1454867,1688359,82400996,22873338,10706290,12572928,9947814,1472041,8502814,7483763,6980412,9956108,301931,1110396331,223547000,69453570,27499638,4109086,6426679,58147733,2780132,127467972,6053193,35610177,23301725,49044790,2505559,3921278,2012649,3193942,6036914,19167654,13327079,24821286,12031795,3270065,1250882,108700891,2874127,684736,33757175,19951656,47761980,2055080,28901790,16570613,4115771,5675356,12894865,135031164,4627926,3204897,169270617,3242173,6667147,28674757,91077287,38518241,10642836,3942491,798094,22276056,8860588,199579,27601038,12267493,10150265,6144562,4553009,5447502,2009245,9118773,43997828,40448191,20378239,42292929,1133066,9031088,7554661,19314747,23174294,38139640,65068149,5701579,1056608,10276158,71158647,29170398,60776238,301139947,3447496,26084662,85262356,4018332,22211743,11746035,12311143],\"year\":[2007,2007,2007,2007,2007,2007,2007,2007,2007,2007,2007,2007,2007,2007,2007,2007,2007,2007,2007,2007,2007,2007,2007,2007,2007,2007,2007,2007,2007,2007,2007,2007,2007,2007,2007,2007,2007,2007,2007,2007,2007,2007,2007,2007,2007,2007,2007,2007,2007,2007,2007,2007,2007,2007,2007,2007,2007,2007,2007,2007,2007,2007,2007,2007,2007,2007,2007,2007,2007,2007,2007,2007,2007,2007,2007,2007,2007,2007,2007,2007,2007,2007,2007,2007,2007,2007,2007,2007,2007,2007,2007,2007,2007,2007,2007,2007,2007,2007,2007,2007,2007,2007,2007,2007,2007,2007,2007,2007,2007,2007,2007,2007,2007,2007,2007,2007,2007,2007,2007,2007,2007,2007,2007,2007,2007,2007,2007,2007,2007,2007,2007,2007,2007,2007,2007,2007,2007,2007,2007,2007,2007,2007]}},\"id\":\"0c671b30-2a5d-41c9-a5b5-9e409ac5c8d3\",\"type\":\"ColumnDataSource\"},{\"attributes\":{\"source\":{\"id\":\"0c671b30-2a5d-41c9-a5b5-9e409ac5c8d3\",\"type\":\"ColumnDataSource\"}},\"id\":\"4db7d7e4-bf80-44ac-beea-1d2a4c21f6cc\",\"type\":\"CDSView\"},{\"attributes\":{\"format\":\"$0,\"},\"id\":\"137dc4ef-5d51-4c68-9eda-e14d9bdc6eb2\",\"type\":\"NumeralTickFormatter\"},{\"attributes\":{\"fill_alpha\":{\"value\":0.6},\"fill_color\":{\"field\":\"continent\",\"transform\":{\"id\":\"d92d90a2-c0a1-413c-aa04-90a6516f1bbb\",\"type\":\"CategoricalColorMapper\"}},\"line_alpha\":{\"value\":0.6},\"line_color\":{\"field\":\"continent\",\"transform\":{\"id\":\"d92d90a2-c0a1-413c-aa04-90a6516f1bbb\",\"type\":\"CategoricalColorMapper\"}},\"size\":{\"field\":\"population\",\"transform\":{\"id\":\"e392caa9-5c3c-46dd-b320-e1a1179bb213\",\"type\":\"LinearInterpolator\"},\"units\":\"screen\"},\"x\":{\"field\":\"gdpPercap\"},\"y\":{\"field\":\"lifeExp\"}},\"id\":\"f03cec18-c396-4d3d-9c74-82ee2b91d203\",\"type\":\"Circle\"},{\"attributes\":{\"plot\":null,\"text\":\"Life Expectancy vs GDP of Nations\"},\"id\":\"0c1b38e3-42ff-48d9-957c-9a75841dd334\",\"type\":\"Title\"},{\"attributes\":{\"label\":{\"field\":\"continent\"},\"renderers\":[{\"id\":\"8c0a5daf-1ac8-4a07-a316-c194f54f6750\",\"type\":\"GlyphRenderer\"}]},\"id\":\"c5228e9d-1b70-40e6-a9fa-5526bcfedd24\",\"type\":\"LegendItem\"},{\"attributes\":{\"border_line_color\":{\"value\":null},\"items\":[{\"id\":\"c5228e9d-1b70-40e6-a9fa-5526bcfedd24\",\"type\":\"LegendItem\"}],\"location\":[30,-5],\"plot\":{\"id\":\"90d5e1af-cc7c-4b08-a4ee-7ecb6358f3da\",\"subtype\":\"Figure\",\"type\":\"Plot\"}},\"id\":\"571274bc-d37b-4ee9-8897-cf94d64bdb35\",\"type\":\"Legend\"},{\"attributes\":{\"plot\":{\"id\":\"90d5e1af-cc7c-4b08-a4ee-7ecb6358f3da\",\"subtype\":\"Figure\",\"type\":\"Plot\"},\"ticker\":{\"id\":\"df380f1b-0cc5-4b9a-a3ab-80f0df766994\",\"type\":\"LogTicker\"}},\"id\":\"2b0bd380-6363-49aa-aaa7-039f61f9a0b9\",\"type\":\"Grid\"},{\"attributes\":{\"axis_label\":\"GDP per Capita\",\"formatter\":{\"id\":\"137dc4ef-5d51-4c68-9eda-e14d9bdc6eb2\",\"type\":\"NumeralTickFormatter\"},\"plot\":{\"id\":\"90d5e1af-cc7c-4b08-a4ee-7ecb6358f3da\",\"subtype\":\"Figure\",\"type\":\"Plot\"},\"ticker\":{\"id\":\"df380f1b-0cc5-4b9a-a3ab-80f0df766994\",\"type\":\"LogTicker\"}},\"id\":\"1daf2f61-bd19-46c4-b52a-d4738db1eeb0\",\"type\":\"LogAxis\"},{\"attributes\":{\"callback\":null,\"end\":100000,\"start\":100},\"id\":\"67596fa3-0164-40b8-8ed4-b9ee816924f5\",\"type\":\"Range1d\"},{\"attributes\":{\"active_drag\":\"auto\",\"active_inspect\":\"auto\",\"active_scroll\":\"auto\",\"active_tap\":\"auto\",\"tools\":[{\"id\":\"cdd96243-9e08-4843-87b2-a6e262f2d322\",\"type\":\"HoverTool\"}]},\"id\":\"9993678e-8226-4d9e-9eea-417b0a979587\",\"type\":\"Toolbar\"},{\"attributes\":{\"callback\":null,\"end\":100},\"id\":\"8b26ebc9-d459-4e95-a343-f2855b798e02\",\"type\":\"Range1d\"},{\"attributes\":{\"num_minor_ticks\":10},\"id\":\"df380f1b-0cc5-4b9a-a3ab-80f0df766994\",\"type\":\"LogTicker\"},{\"attributes\":{},\"id\":\"07c39d00-c44b-4037-9147-b54bb89895ef\",\"type\":\"LogScale\"},{\"attributes\":{},\"id\":\"35e75119-5ceb-43e9-a401-959cc7afdf29\",\"type\":\"LinearScale\"}],\"root_ids\":[\"90d5e1af-cc7c-4b08-a4ee-7ecb6358f3da\"]},\"title\":\"Bokeh Application\",\"version\":\"0.12.13\"}};\n",
       "  var render_items = [{\"docid\":\"79786098-9ab9-4f89-bd8e-b8db0364e88b\",\"elementid\":\"46c71d38-7726-47fd-8425-b54cc7e5c305\",\"modelid\":\"90d5e1af-cc7c-4b08-a4ee-7ecb6358f3da\",\"notebook_comms_target\":\"e03d99ad-5c6b-4743-affb-391b5393e8b3\"}];\n",
       "  root.Bokeh.embed.embed_items_notebook(docs_json, render_items);\n",
       "\n",
       "  }\n",
       "  if (root.Bokeh !== undefined) {\n",
       "    embed_document(root);\n",
       "  } else {\n",
       "    var attempts = 0;\n",
       "    var timer = setInterval(function(root) {\n",
       "      if (root.Bokeh !== undefined) {\n",
       "        embed_document(root);\n",
       "        clearInterval(timer);\n",
       "      }\n",
       "      attempts++;\n",
       "      if (attempts > 100) {\n",
       "        console.log(\"Bokeh: ERROR: Unable to run BokehJS code because BokehJS library is missing\")\n",
       "        clearInterval(timer);\n",
       "      }\n",
       "    }, 10, root)\n",
       "  }\n",
       "})(window);"
      ],
      "application/vnd.bokehjs_exec.v0+json": ""
     },
     "metadata": {
      "application/vnd.bokehjs_exec.v0+json": {
       "id": "90d5e1af-cc7c-4b08-a4ee-7ecb6358f3da"
      }
     },
     "output_type": "display_data"
    }
   ],
   "source": [
    "from bokeh.io import show\n",
    "from bokeh.models import LinearInterpolator\n",
    "from bokeh.plotting import figure\n",
    "from bokeh.models import CategoricalColorMapper\n",
    "from bokeh.palettes import Spectral6\n",
    "from bokeh.models import HoverTool\n",
    "\n",
    "\n",
    "hover = HoverTool(tooltips='@country')\n",
    "\n",
    "p = figure(\n",
    "    height = 400, \n",
    "    width = 600,\n",
    "    x_axis_type = 'log',\n",
    "    tools = [hover],\n",
    "    x_range = (100,100000), y_range = (0,100),\n",
    "    title = \"Life Expectancy vs GDP of Nations\")\n",
    "\n",
    "\n",
    "size_mapper = LinearInterpolator(\n",
    "    x = [data.population.min(), data.population.max()],\n",
    "    y = [10,100]\n",
    ")\n",
    "\n",
    "# Mapping color to continent\n",
    "color_mapper = CategoricalColorMapper(\n",
    "    factors=list(data.continent.unique()),\n",
    "    palette=Spectral6\n",
    ")\n",
    "\n",
    "\n",
    "from bokeh.io import push_notebook\n",
    "def update(year):\n",
    "    new_data = dict(\n",
    "        gdpPercap=data.loc[year].gdpPercap,\n",
    "        lifeExp=data.loc[year].lifeExp,\n",
    "        country=data.loc[year].country,\n",
    "        population=data.loc[year].population,\n",
    "        continent=data.loc[year].continent\n",
    "    )\n",
    "    source.data = new_data\n",
    "    if len(p.title.text) > len(\"Life Expectancy vs GDP of Nations \"):\n",
    "        tmp = str(p.title.text)\n",
    "        p.title.text=tmp[:-4]\n",
    "        p.title.text = p.title.text + str(year)\n",
    "    else:\n",
    "        p.title.text = p.title.text + str(year)\n",
    "    push_notebook()\n",
    "\n",
    "\n",
    "p.circle(x='gdpPercap', y='lifeExp',alpha=0.6,source=source,\n",
    "         size={'field':'population', 'transform':size_mapper},\n",
    "         color={'field':'continent', 'transform':color_mapper},\n",
    "         legend='continent'\n",
    "        )\n",
    "\n",
    "p.xaxis.axis_label = \"GDP per Capita\"\n",
    "p.yaxis.axis_label = \"Life Expectancy\"\n",
    "\n",
    "\n",
    "from bokeh.models import NumeralTickFormatter\n",
    "p.xaxis[0].formatter = NumeralTickFormatter(format='$0,')\n",
    "\n",
    "# formating the legend\n",
    "p.legend.location = (30, -5)\n",
    "p.right.append(p.legend[0])\n",
    "p.legend.border_line_color = None\n",
    "\n",
    "\n",
    "show(p,notebook_handle=True)\n",
    "\n",
    "import time\n",
    "year = 1952\n",
    "while True:\n",
    "    update(year)\n",
    "    if year == 2007:\n",
    "        year=1952\n",
    "    else:\n",
    "        year+=5\n",
    "    time.sleep(0.5)\n",
    "    continue"
   ]
  },
  {
   "cell_type": "code",
   "execution_count": null,
   "metadata": {},
   "outputs": [],
   "source": []
  },
  {
   "cell_type": "code",
   "execution_count": null,
   "metadata": {},
   "outputs": [],
   "source": []
  }
 ],
 "metadata": {
  "kernelspec": {
   "display_name": "Python 3",
   "language": "python",
   "name": "python3"
  },
  "language_info": {
   "codemirror_mode": {
    "name": "ipython",
    "version": 3
   },
   "file_extension": ".py",
   "mimetype": "text/x-python",
   "name": "python",
   "nbconvert_exporter": "python",
   "pygments_lexer": "ipython3",
   "version": "3.6.4"
  }
 },
 "nbformat": 4,
 "nbformat_minor": 2
}
